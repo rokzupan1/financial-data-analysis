{
 "cells": [
  {
   "cell_type": "markdown",
   "id": "105fcba5-a90f-46e8-9754-08e15f41bcc9",
   "metadata": {},
   "source": [
    "## Volatility\n",
    "\n",
    "* Different ways to look at it\n",
    "* Here we wil use: Average True Range (ATR)"
   ]
  },
  {
   "cell_type": "markdown",
   "id": "29199d8b-eaf5-40b0-98ef-5a5a6d10c9c6",
   "metadata": {},
   "source": [
    "##### What is volatility?\n",
    "\n",
    "* Volatility has a number of different meanings\n",
    "* We use it in relation to price movement\n",
    "* Can be thought as the equivalent as risk"
   ]
  },
  {
   "cell_type": "markdown",
   "id": "64c849e7-0488-4d9b-b5fe-d251b7a9a83a",
   "metadata": {},
   "source": [
    "##### Resources\n",
    "\n",
    "* Volatility: https://www.investopedia.com/terms/v/volatility.asp\n",
    "* Average True Range: https://www.investopedia.com/terms/a/atr.asp"
   ]
  },
  {
   "cell_type": "code",
   "execution_count": 1,
   "id": "474b47b9-d228-435d-99dd-316821d5e858",
   "metadata": {
    "tags": []
   },
   "outputs": [],
   "source": [
    "import numpy as np\n",
    "import pandas as pd\n",
    "import datetime as dt\n",
    "import pandas_datareader as pdr"
   ]
  },
  {
   "cell_type": "code",
   "execution_count": 3,
   "id": "b89a4f78-4611-4c2e-9c81-92f3dd23f3e8",
   "metadata": {
    "tags": []
   },
   "outputs": [],
   "source": [
    "start = dt.datetime(2022,1,1)\n",
    "data = pdr.get_data_stooq(\"NFLX\", start)"
   ]
  },
  {
   "cell_type": "code",
   "execution_count": 5,
   "id": "b16e6240-e8a5-41f1-b612-eb72cfb6da44",
   "metadata": {
    "tags": []
   },
   "outputs": [],
   "source": [
    "data = data[::-1]"
   ]
  },
  {
   "cell_type": "code",
   "execution_count": 6,
   "id": "053a178e-a689-4141-955f-d994b1374796",
   "metadata": {
    "tags": []
   },
   "outputs": [
    {
     "data": {
      "text/html": [
       "<div>\n",
       "<style scoped>\n",
       "    .dataframe tbody tr th:only-of-type {\n",
       "        vertical-align: middle;\n",
       "    }\n",
       "\n",
       "    .dataframe tbody tr th {\n",
       "        vertical-align: top;\n",
       "    }\n",
       "\n",
       "    .dataframe thead th {\n",
       "        text-align: right;\n",
       "    }\n",
       "</style>\n",
       "<table border=\"1\" class=\"dataframe\">\n",
       "  <thead>\n",
       "    <tr style=\"text-align: right;\">\n",
       "      <th></th>\n",
       "      <th>Open</th>\n",
       "      <th>High</th>\n",
       "      <th>Low</th>\n",
       "      <th>Close</th>\n",
       "      <th>Volume</th>\n",
       "    </tr>\n",
       "    <tr>\n",
       "      <th>Date</th>\n",
       "      <th></th>\n",
       "      <th></th>\n",
       "      <th></th>\n",
       "      <th></th>\n",
       "      <th></th>\n",
       "    </tr>\n",
       "  </thead>\n",
       "  <tbody>\n",
       "    <tr>\n",
       "      <th>2022-01-03</th>\n",
       "      <td>605.61</td>\n",
       "      <td>609.9900</td>\n",
       "      <td>590.5600</td>\n",
       "      <td>597.37</td>\n",
       "      <td>3068808</td>\n",
       "    </tr>\n",
       "    <tr>\n",
       "      <th>2022-01-04</th>\n",
       "      <td>599.91</td>\n",
       "      <td>600.4099</td>\n",
       "      <td>581.6000</td>\n",
       "      <td>591.15</td>\n",
       "      <td>4393135</td>\n",
       "    </tr>\n",
       "    <tr>\n",
       "      <th>2022-01-05</th>\n",
       "      <td>592.00</td>\n",
       "      <td>592.8400</td>\n",
       "      <td>566.8800</td>\n",
       "      <td>567.52</td>\n",
       "      <td>4148749</td>\n",
       "    </tr>\n",
       "    <tr>\n",
       "      <th>2022-01-06</th>\n",
       "      <td>554.34</td>\n",
       "      <td>563.3600</td>\n",
       "      <td>542.0100</td>\n",
       "      <td>553.29</td>\n",
       "      <td>5711795</td>\n",
       "    </tr>\n",
       "    <tr>\n",
       "      <th>2022-01-07</th>\n",
       "      <td>549.46</td>\n",
       "      <td>553.4300</td>\n",
       "      <td>538.2175</td>\n",
       "      <td>541.06</td>\n",
       "      <td>3382873</td>\n",
       "    </tr>\n",
       "  </tbody>\n",
       "</table>\n",
       "</div>"
      ],
      "text/plain": [
       "              Open      High       Low   Close   Volume\n",
       "Date                                                   \n",
       "2022-01-03  605.61  609.9900  590.5600  597.37  3068808\n",
       "2022-01-04  599.91  600.4099  581.6000  591.15  4393135\n",
       "2022-01-05  592.00  592.8400  566.8800  567.52  4148749\n",
       "2022-01-06  554.34  563.3600  542.0100  553.29  5711795\n",
       "2022-01-07  549.46  553.4300  538.2175  541.06  3382873"
      ]
     },
     "execution_count": 6,
     "metadata": {},
     "output_type": "execute_result"
    }
   ],
   "source": [
    "data.head()"
   ]
  },
  {
   "cell_type": "markdown",
   "id": "521b2c2c-e546-480f-b140-dd016aae4c1f",
   "metadata": {},
   "source": [
    "##### Formula"
   ]
  },
  {
   "cell_type": "markdown",
   "id": "cec557b2-e661-48a0-bb37-e4a738de5048",
   "metadata": {},
   "source": [
    "![alt text](FormulaVolatility.png)"
   ]
  },
  {
   "cell_type": "code",
   "execution_count": 9,
   "id": "8f9d8a49-cd23-446a-8b8b-63dc15bbd928",
   "metadata": {
    "tags": []
   },
   "outputs": [],
   "source": [
    "high_low = data[\"High\"] - data[\"Low\"]\n",
    "high_cp = np.abs(data[\"High\"] - data[\"Close\"].shift())\n",
    "low_cp = np.abs(data[\"Low\"] - data[\"Close\"].shift())"
   ]
  },
  {
   "cell_type": "code",
   "execution_count": 14,
   "id": "4afd1c98-06d5-4d4c-91f6-5ea442fb0e91",
   "metadata": {
    "tags": []
   },
   "outputs": [
    {
     "data": {
      "text/html": [
       "<div>\n",
       "<style scoped>\n",
       "    .dataframe tbody tr th:only-of-type {\n",
       "        vertical-align: middle;\n",
       "    }\n",
       "\n",
       "    .dataframe tbody tr th {\n",
       "        vertical-align: top;\n",
       "    }\n",
       "\n",
       "    .dataframe thead th {\n",
       "        text-align: right;\n",
       "    }\n",
       "</style>\n",
       "<table border=\"1\" class=\"dataframe\">\n",
       "  <thead>\n",
       "    <tr style=\"text-align: right;\">\n",
       "      <th></th>\n",
       "      <th>0</th>\n",
       "      <th>1</th>\n",
       "      <th>2</th>\n",
       "    </tr>\n",
       "    <tr>\n",
       "      <th>Date</th>\n",
       "      <th></th>\n",
       "      <th></th>\n",
       "      <th></th>\n",
       "    </tr>\n",
       "  </thead>\n",
       "  <tbody>\n",
       "    <tr>\n",
       "      <th>2022-01-03</th>\n",
       "      <td>19.4300</td>\n",
       "      <td>NaN</td>\n",
       "      <td>NaN</td>\n",
       "    </tr>\n",
       "    <tr>\n",
       "      <th>2022-01-04</th>\n",
       "      <td>18.8099</td>\n",
       "      <td>3.0399</td>\n",
       "      <td>15.7700</td>\n",
       "    </tr>\n",
       "    <tr>\n",
       "      <th>2022-01-05</th>\n",
       "      <td>25.9600</td>\n",
       "      <td>1.6900</td>\n",
       "      <td>24.2700</td>\n",
       "    </tr>\n",
       "    <tr>\n",
       "      <th>2022-01-06</th>\n",
       "      <td>21.3500</td>\n",
       "      <td>4.1600</td>\n",
       "      <td>25.5100</td>\n",
       "    </tr>\n",
       "    <tr>\n",
       "      <th>2022-01-07</th>\n",
       "      <td>15.2125</td>\n",
       "      <td>0.1400</td>\n",
       "      <td>15.0725</td>\n",
       "    </tr>\n",
       "    <tr>\n",
       "      <th>...</th>\n",
       "      <td>...</td>\n",
       "      <td>...</td>\n",
       "      <td>...</td>\n",
       "    </tr>\n",
       "    <tr>\n",
       "      <th>2023-03-08</th>\n",
       "      <td>6.0800</td>\n",
       "      <td>3.3600</td>\n",
       "      <td>2.7200</td>\n",
       "    </tr>\n",
       "    <tr>\n",
       "      <th>2023-03-09</th>\n",
       "      <td>17.6300</td>\n",
       "      <td>0.7200</td>\n",
       "      <td>16.9100</td>\n",
       "    </tr>\n",
       "    <tr>\n",
       "      <th>2023-03-10</th>\n",
       "      <td>9.7900</td>\n",
       "      <td>1.0100</td>\n",
       "      <td>8.7800</td>\n",
       "    </tr>\n",
       "    <tr>\n",
       "      <th>2023-03-13</th>\n",
       "      <td>13.9099</td>\n",
       "      <td>6.4800</td>\n",
       "      <td>7.4299</td>\n",
       "    </tr>\n",
       "    <tr>\n",
       "      <th>2023-03-14</th>\n",
       "      <td>7.1400</td>\n",
       "      <td>3.9400</td>\n",
       "      <td>3.2000</td>\n",
       "    </tr>\n",
       "  </tbody>\n",
       "</table>\n",
       "<p>300 rows × 3 columns</p>\n",
       "</div>"
      ],
      "text/plain": [
       "                  0       1        2\n",
       "Date                                \n",
       "2022-01-03  19.4300     NaN      NaN\n",
       "2022-01-04  18.8099  3.0399  15.7700\n",
       "2022-01-05  25.9600  1.6900  24.2700\n",
       "2022-01-06  21.3500  4.1600  25.5100\n",
       "2022-01-07  15.2125  0.1400  15.0725\n",
       "...             ...     ...      ...\n",
       "2023-03-08   6.0800  3.3600   2.7200\n",
       "2023-03-09  17.6300  0.7200  16.9100\n",
       "2023-03-10   9.7900  1.0100   8.7800\n",
       "2023-03-13  13.9099  6.4800   7.4299\n",
       "2023-03-14   7.1400  3.9400   3.2000\n",
       "\n",
       "[300 rows x 3 columns]"
      ]
     },
     "execution_count": 14,
     "metadata": {},
     "output_type": "execute_result"
    }
   ],
   "source": [
    "df = pd.concat([high_low, high_cp, low_cp],axis=1)\n",
    "df\n"
   ]
  },
  {
   "cell_type": "code",
   "execution_count": 15,
   "id": "837cda17-d0e0-4a03-a242-622e417c288b",
   "metadata": {
    "tags": []
   },
   "outputs": [
    {
     "data": {
      "text/plain": [
       "Date\n",
       "2022-01-03    19.4300\n",
       "2022-01-04    18.8099\n",
       "2022-01-05    25.9600\n",
       "2022-01-06    25.5100\n",
       "2022-01-07    15.2125\n",
       "               ...   \n",
       "2023-03-08     6.0800\n",
       "2023-03-09    17.6300\n",
       "2023-03-10     9.7900\n",
       "2023-03-13    13.9099\n",
       "2023-03-14     7.1400\n",
       "Length: 300, dtype: float64"
      ]
     },
     "execution_count": 15,
     "metadata": {},
     "output_type": "execute_result"
    }
   ],
   "source": [
    "true_range = np.max(df, axis = 1)\n",
    "true_range"
   ]
  },
  {
   "cell_type": "code",
   "execution_count": 19,
   "id": "f6c381e4-ecc8-4741-ac52-212e24f1efe1",
   "metadata": {
    "tags": []
   },
   "outputs": [
    {
     "data": {
      "text/plain": [
       "Date\n",
       "2022-01-03          NaN\n",
       "2022-01-04          NaN\n",
       "2022-01-05          NaN\n",
       "2022-01-06          NaN\n",
       "2022-01-07          NaN\n",
       "                ...    \n",
       "2023-03-08    10.029893\n",
       "2023-03-09    10.489893\n",
       "2023-03-10    10.598464\n",
       "2023-03-13    10.767579\n",
       "2023-03-14    10.628293\n",
       "Length: 300, dtype: float64"
      ]
     },
     "execution_count": 19,
     "metadata": {},
     "output_type": "execute_result"
    }
   ],
   "source": [
    "average_true_range = true_range.rolling(14).mean()\n",
    "average_true_range"
   ]
  },
  {
   "cell_type": "code",
   "execution_count": 18,
   "id": "2d835802-7ced-479c-a3fb-4ad8550b3f60",
   "metadata": {
    "tags": []
   },
   "outputs": [
    {
     "data": {
      "text/plain": [
       "Date\n",
       "2022-01-03          NaN\n",
       "2022-01-04          NaN\n",
       "2022-01-05          NaN\n",
       "2022-01-06          NaN\n",
       "2022-01-07          NaN\n",
       "                ...    \n",
       "2023-03-08    10.029893\n",
       "2023-03-09    10.489893\n",
       "2023-03-10    10.598464\n",
       "2023-03-13    10.767579\n",
       "2023-03-14    10.628293\n",
       "Length: 300, dtype: float64"
      ]
     },
     "execution_count": 18,
     "metadata": {},
     "output_type": "execute_result"
    }
   ],
   "source": [
    "true_range.rolling(14).sum()/14"
   ]
  },
  {
   "cell_type": "code",
   "execution_count": 21,
   "id": "6d4ee00d-be5d-4745-a978-0abf5c373875",
   "metadata": {
    "tags": []
   },
   "outputs": [],
   "source": [
    "import matplotlib.pyplot as plt\n",
    "%matplotlib inline"
   ]
  },
  {
   "cell_type": "code",
   "execution_count": 26,
   "id": "7607c46c-417b-4b80-8340-54e09ab7a69c",
   "metadata": {
    "tags": []
   },
   "outputs": [
    {
     "data": {
      "text/plain": [
       "Text(0, 0.5, 'Price')"
      ]
     },
     "execution_count": 26,
     "metadata": {},
     "output_type": "execute_result"
    },
    {
     "data": {
      "image/png": "[encoded data removed]",
      "text/plain": [
       "<Figure size 640x480 with 2 Axes>"
      ]
     },
     "metadata": {},
     "output_type": "display_data"
    }
   ],
   "source": [
    "fig, ax = plt.subplots()\n",
    "average_true_range.plot(ax=ax)\n",
    "ax2 = data['Close'].plot(ax=ax, secondary_y=True, alpha=.3)\n",
    "ax.set_ylabel(\"ATR\")\n",
    "ax2.set_ylabel(\"Price\")"
   ]
  },
  {
   "cell_type": "code",
   "execution_count": null,
   "id": "fe3b5407-9070-4145-bf74-2bfffbfa8a78",
   "metadata": {},
   "outputs": [],
   "source": []
  }
 ],
 "metadata": {
  "kernelspec": {
   "display_name": "Python 3 (ipykernel)",
   "language": "python",
   "name": "python3"
  },
  "language_info": {
   "codemirror_mode": {
    "name": "ipython",
    "version": 3
   },
   "file_extension": ".py",
   "mimetype": "text/x-python",
   "name": "python",
   "nbconvert_exporter": "python",
   "pygments_lexer": "ipython3",
   "version": "3.10.8"
  }
 },
 "nbformat": 4,
 "nbformat_minor": 5
}
