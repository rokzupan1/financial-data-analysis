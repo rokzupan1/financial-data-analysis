{
 "cells": [
  {
   "cell_type": "markdown",
   "id": "ec381093-149b-4543-8b4e-aee4502bb1c3",
   "metadata": {},
   "source": [
    "### Beta\n",
    "\n",
    "* Beta is a measure of a stock's volatility in relation to the overall market.\n",
    "* S&P 500 Index has a beta of 1.0\n",
    "* High-beta stocks are supposed to be riskier but provide higher return potential.\n",
    "* Low-beta stocks pose less risk but also lower returns.\n",
    "\n",
    "##### Formula\n",
    "\n",
    "* Beta = Covariance / Variance\n",
    "\n",
    "##### Interpretation\n",
    "\n",
    "* Beta above 1: stock is more volatile than the market, but expects higher return.\n",
    "* Beta below 1: stocke with lower volatility, and expects less return.\n",
    "\n",
    "##### Resources\n",
    "\n",
    "* Beta: https://www.investopedia.com/investing/beta-know-risk/"
   ]
  },
  {
   "cell_type": "code",
   "execution_count": 5,
   "id": "d48d8f51-873c-41f6-b8b5-4f73a7a08967",
   "metadata": {
    "tags": []
   },
   "outputs": [],
   "source": [
    "import numpy as np\n",
    "import pandas_datareader as pdr\n",
    "import datetime as dt\n",
    "import pandas as pd\n",
    "from sklearn.linear_model import LinearRegression"
   ]
  },
  {
   "cell_type": "code",
   "execution_count": 6,
   "id": "7cd822d2-9964-400a-a5b3-72cc21d9b641",
   "metadata": {
    "tags": []
   },
   "outputs": [],
   "source": [
    "import yfinance as yf\n",
    "yf.pdr_override()"
   ]
  },
  {
   "cell_type": "code",
   "execution_count": 46,
   "id": "ea02f533-f33f-4bd6-9f6e-f66031ca1a8e",
   "metadata": {
    "tags": []
   },
   "outputs": [
    {
     "name": "stdout",
     "output_type": "stream",
     "text": [
      "[*********************100%***********************]  5 of 5 completed\n"
     ]
    }
   ],
   "source": [
    "import pandas_datareader.data as pdr\n",
    "import yfinance as yf\n",
    "yf.pdr_override()\n",
    "from datetime import datetime\n",
    "start = dt.datetime(2015,12,1)\n",
    "end = dt.datetime(2021, 2,1)\n",
    "data = pdr.get_data_yahoo(['AAPL','MSFT','BABA','IBM','^GSPC'], start, end, interval = \"1mo\")"
   ]
  },
  {
   "cell_type": "code",
   "execution_count": 47,
   "id": "03fc62dc-dd3e-49f0-b1e8-7ca3377106b9",
   "metadata": {
    "tags": []
   },
   "outputs": [],
   "source": [
    "data = data['Adj Close']"
   ]
  },
  {
   "cell_type": "code",
   "execution_count": 48,
   "id": "1f753807-6eee-4206-b6ee-75d3425c8223",
   "metadata": {
    "tags": []
   },
   "outputs": [
    {
     "data": {
      "text/html": [
       "<div>\n",
       "<style scoped>\n",
       "    .dataframe tbody tr th:only-of-type {\n",
       "        vertical-align: middle;\n",
       "    }\n",
       "\n",
       "    .dataframe tbody tr th {\n",
       "        vertical-align: top;\n",
       "    }\n",
       "\n",
       "    .dataframe thead th {\n",
       "        text-align: right;\n",
       "    }\n",
       "</style>\n",
       "<table border=\"1\" class=\"dataframe\">\n",
       "  <thead>\n",
       "    <tr style=\"text-align: right;\">\n",
       "      <th></th>\n",
       "      <th>AAPL</th>\n",
       "      <th>BABA</th>\n",
       "      <th>IBM</th>\n",
       "      <th>MSFT</th>\n",
       "      <th>^GSPC</th>\n",
       "    </tr>\n",
       "    <tr>\n",
       "      <th>Date</th>\n",
       "      <th></th>\n",
       "      <th></th>\n",
       "      <th></th>\n",
       "      <th></th>\n",
       "      <th></th>\n",
       "    </tr>\n",
       "  </thead>\n",
       "  <tbody>\n",
       "    <tr>\n",
       "      <th>2015-12-01</th>\n",
       "      <td>24.054173</td>\n",
       "      <td>81.269997</td>\n",
       "      <td>94.837914</td>\n",
       "      <td>49.616077</td>\n",
       "      <td>2043.939941</td>\n",
       "    </tr>\n",
       "    <tr>\n",
       "      <th>2016-01-01</th>\n",
       "      <td>22.244282</td>\n",
       "      <td>67.029999</td>\n",
       "      <td>85.996391</td>\n",
       "      <td>49.267292</td>\n",
       "      <td>1940.239990</td>\n",
       "    </tr>\n",
       "    <tr>\n",
       "      <th>2016-02-01</th>\n",
       "      <td>22.095745</td>\n",
       "      <td>68.809998</td>\n",
       "      <td>90.296555</td>\n",
       "      <td>45.502254</td>\n",
       "      <td>1932.229980</td>\n",
       "    </tr>\n",
       "    <tr>\n",
       "      <th>2016-03-01</th>\n",
       "      <td>25.041708</td>\n",
       "      <td>79.029999</td>\n",
       "      <td>105.434639</td>\n",
       "      <td>49.747128</td>\n",
       "      <td>2059.739990</td>\n",
       "    </tr>\n",
       "    <tr>\n",
       "      <th>2016-04-01</th>\n",
       "      <td>21.537846</td>\n",
       "      <td>76.940002</td>\n",
       "      <td>101.598763</td>\n",
       "      <td>44.919235</td>\n",
       "      <td>2065.300049</td>\n",
       "    </tr>\n",
       "    <tr>\n",
       "      <th>...</th>\n",
       "      <td>...</td>\n",
       "      <td>...</td>\n",
       "      <td>...</td>\n",
       "      <td>...</td>\n",
       "      <td>...</td>\n",
       "    </tr>\n",
       "    <tr>\n",
       "      <th>2020-09-01</th>\n",
       "      <td>114.065010</td>\n",
       "      <td>293.980011</td>\n",
       "      <td>102.744133</td>\n",
       "      <td>205.590790</td>\n",
       "      <td>3363.000000</td>\n",
       "    </tr>\n",
       "    <tr>\n",
       "      <th>2020-10-01</th>\n",
       "      <td>107.219742</td>\n",
       "      <td>304.690002</td>\n",
       "      <td>94.291191</td>\n",
       "      <td>197.907852</td>\n",
       "      <td>3269.959961</td>\n",
       "    </tr>\n",
       "    <tr>\n",
       "      <th>2020-11-01</th>\n",
       "      <td>117.256203</td>\n",
       "      <td>263.359985</td>\n",
       "      <td>104.306358</td>\n",
       "      <td>209.246475</td>\n",
       "      <td>3621.629883</td>\n",
       "    </tr>\n",
       "    <tr>\n",
       "      <th>2020-12-01</th>\n",
       "      <td>130.916153</td>\n",
       "      <td>232.729996</td>\n",
       "      <td>107.840652</td>\n",
       "      <td>217.977539</td>\n",
       "      <td>3756.070068</td>\n",
       "    </tr>\n",
       "    <tr>\n",
       "      <th>2021-01-01</th>\n",
       "      <td>130.195923</td>\n",
       "      <td>253.830002</td>\n",
       "      <td>102.040833</td>\n",
       "      <td>227.326981</td>\n",
       "      <td>3714.239990</td>\n",
       "    </tr>\n",
       "  </tbody>\n",
       "</table>\n",
       "<p>62 rows × 5 columns</p>\n",
       "</div>"
      ],
      "text/plain": [
       "                  AAPL        BABA         IBM        MSFT        ^GSPC\n",
       "Date                                                                   \n",
       "2015-12-01   24.054173   81.269997   94.837914   49.616077  2043.939941\n",
       "2016-01-01   22.244282   67.029999   85.996391   49.267292  1940.239990\n",
       "2016-02-01   22.095745   68.809998   90.296555   45.502254  1932.229980\n",
       "2016-03-01   25.041708   79.029999  105.434639   49.747128  2059.739990\n",
       "2016-04-01   21.537846   76.940002  101.598763   44.919235  2065.300049\n",
       "...                ...         ...         ...         ...          ...\n",
       "2020-09-01  114.065010  293.980011  102.744133  205.590790  3363.000000\n",
       "2020-10-01  107.219742  304.690002   94.291191  197.907852  3269.959961\n",
       "2020-11-01  117.256203  263.359985  104.306358  209.246475  3621.629883\n",
       "2020-12-01  130.916153  232.729996  107.840652  217.977539  3756.070068\n",
       "2021-01-01  130.195923  253.830002  102.040833  227.326981  3714.239990\n",
       "\n",
       "[62 rows x 5 columns]"
      ]
     },
     "execution_count": 48,
     "metadata": {},
     "output_type": "execute_result"
    }
   ],
   "source": [
    "data"
   ]
  },
  {
   "cell_type": "code",
   "execution_count": 49,
   "id": "844cdb47-7dfb-46bc-9003-76ce3e35bb6f",
   "metadata": {
    "tags": []
   },
   "outputs": [],
   "source": [
    "log_returns = np.log(data/data.shift())"
   ]
  },
  {
   "cell_type": "code",
   "execution_count": 50,
   "id": "f4c1f82c-8323-456e-b532-907aa821a85a",
   "metadata": {
    "tags": []
   },
   "outputs": [
    {
     "data": {
      "text/html": [
       "<div>\n",
       "<style scoped>\n",
       "    .dataframe tbody tr th:only-of-type {\n",
       "        vertical-align: middle;\n",
       "    }\n",
       "\n",
       "    .dataframe tbody tr th {\n",
       "        vertical-align: top;\n",
       "    }\n",
       "\n",
       "    .dataframe thead th {\n",
       "        text-align: right;\n",
       "    }\n",
       "</style>\n",
       "<table border=\"1\" class=\"dataframe\">\n",
       "  <thead>\n",
       "    <tr style=\"text-align: right;\">\n",
       "      <th></th>\n",
       "      <th>AAPL</th>\n",
       "      <th>BABA</th>\n",
       "      <th>IBM</th>\n",
       "      <th>MSFT</th>\n",
       "      <th>^GSPC</th>\n",
       "    </tr>\n",
       "    <tr>\n",
       "      <th>Date</th>\n",
       "      <th></th>\n",
       "      <th></th>\n",
       "      <th></th>\n",
       "      <th></th>\n",
       "      <th></th>\n",
       "    </tr>\n",
       "  </thead>\n",
       "  <tbody>\n",
       "    <tr>\n",
       "      <th>2015-12-01</th>\n",
       "      <td>NaN</td>\n",
       "      <td>NaN</td>\n",
       "      <td>NaN</td>\n",
       "      <td>NaN</td>\n",
       "      <td>NaN</td>\n",
       "    </tr>\n",
       "    <tr>\n",
       "      <th>2016-01-01</th>\n",
       "      <td>-0.078223</td>\n",
       "      <td>-0.192637</td>\n",
       "      <td>-0.097864</td>\n",
       "      <td>-0.007055</td>\n",
       "      <td>-0.052068</td>\n",
       "    </tr>\n",
       "    <tr>\n",
       "      <th>2016-02-01</th>\n",
       "      <td>-0.006700</td>\n",
       "      <td>0.026209</td>\n",
       "      <td>0.048794</td>\n",
       "      <td>-0.079499</td>\n",
       "      <td>-0.004137</td>\n",
       "    </tr>\n",
       "    <tr>\n",
       "      <th>2016-03-01</th>\n",
       "      <td>0.125158</td>\n",
       "      <td>0.138478</td>\n",
       "      <td>0.154992</td>\n",
       "      <td>0.089191</td>\n",
       "      <td>0.063905</td>\n",
       "    </tr>\n",
       "    <tr>\n",
       "      <th>2016-04-01</th>\n",
       "      <td>-0.150731</td>\n",
       "      <td>-0.026802</td>\n",
       "      <td>-0.037060</td>\n",
       "      <td>-0.102087</td>\n",
       "      <td>0.002696</td>\n",
       "    </tr>\n",
       "    <tr>\n",
       "      <th>...</th>\n",
       "      <td>...</td>\n",
       "      <td>...</td>\n",
       "      <td>...</td>\n",
       "      <td>...</td>\n",
       "      <td>...</td>\n",
       "    </tr>\n",
       "    <tr>\n",
       "      <th>2020-09-01</th>\n",
       "      <td>-0.106370</td>\n",
       "      <td>0.023925</td>\n",
       "      <td>-0.000381</td>\n",
       "      <td>-0.067361</td>\n",
       "      <td>-0.040018</td>\n",
       "    </tr>\n",
       "    <tr>\n",
       "      <th>2020-10-01</th>\n",
       "      <td>-0.061888</td>\n",
       "      <td>0.035783</td>\n",
       "      <td>-0.085854</td>\n",
       "      <td>-0.038086</td>\n",
       "      <td>-0.028056</td>\n",
       "    </tr>\n",
       "    <tr>\n",
       "      <th>2020-11-01</th>\n",
       "      <td>0.089481</td>\n",
       "      <td>-0.145773</td>\n",
       "      <td>0.100945</td>\n",
       "      <td>0.055711</td>\n",
       "      <td>0.102146</td>\n",
       "    </tr>\n",
       "    <tr>\n",
       "      <th>2020-12-01</th>\n",
       "      <td>0.110196</td>\n",
       "      <td>-0.123643</td>\n",
       "      <td>0.033322</td>\n",
       "      <td>0.040879</td>\n",
       "      <td>0.036449</td>\n",
       "    </tr>\n",
       "    <tr>\n",
       "      <th>2021-01-01</th>\n",
       "      <td>-0.005517</td>\n",
       "      <td>0.086786</td>\n",
       "      <td>-0.055282</td>\n",
       "      <td>0.041997</td>\n",
       "      <td>-0.011199</td>\n",
       "    </tr>\n",
       "  </tbody>\n",
       "</table>\n",
       "<p>62 rows × 5 columns</p>\n",
       "</div>"
      ],
      "text/plain": [
       "                AAPL      BABA       IBM      MSFT     ^GSPC\n",
       "Date                                                        \n",
       "2015-12-01       NaN       NaN       NaN       NaN       NaN\n",
       "2016-01-01 -0.078223 -0.192637 -0.097864 -0.007055 -0.052068\n",
       "2016-02-01 -0.006700  0.026209  0.048794 -0.079499 -0.004137\n",
       "2016-03-01  0.125158  0.138478  0.154992  0.089191  0.063905\n",
       "2016-04-01 -0.150731 -0.026802 -0.037060 -0.102087  0.002696\n",
       "...              ...       ...       ...       ...       ...\n",
       "2020-09-01 -0.106370  0.023925 -0.000381 -0.067361 -0.040018\n",
       "2020-10-01 -0.061888  0.035783 -0.085854 -0.038086 -0.028056\n",
       "2020-11-01  0.089481 -0.145773  0.100945  0.055711  0.102146\n",
       "2020-12-01  0.110196 -0.123643  0.033322  0.040879  0.036449\n",
       "2021-01-01 -0.005517  0.086786 -0.055282  0.041997 -0.011199\n",
       "\n",
       "[62 rows x 5 columns]"
      ]
     },
     "execution_count": 50,
     "metadata": {},
     "output_type": "execute_result"
    }
   ],
   "source": [
    "log_returns"
   ]
  },
  {
   "cell_type": "code",
   "execution_count": 52,
   "id": "120061b6-812e-419e-a870-2b9b067251b7",
   "metadata": {
    "tags": []
   },
   "outputs": [],
   "source": [
    "cov = log_returns.cov()"
   ]
  },
  {
   "cell_type": "code",
   "execution_count": 53,
   "id": "b09f10f1-6f8b-4c23-bef0-6edc9fb2991d",
   "metadata": {
    "tags": []
   },
   "outputs": [],
   "source": [
    "var = log_returns['^GSPC'].var()"
   ]
  },
  {
   "cell_type": "code",
   "execution_count": 54,
   "id": "352a4e6f-0ec7-4fd9-8f0e-bfe7295c1fa3",
   "metadata": {
    "tags": []
   },
   "outputs": [
    {
     "data": {
      "text/plain": [
       "1.2545573556714296"
      ]
     },
     "execution_count": 54,
     "metadata": {},
     "output_type": "execute_result"
    }
   ],
   "source": [
    "cov.loc['AAPL','^GSPC']/var"
   ]
  },
  {
   "cell_type": "code",
   "execution_count": 56,
   "id": "29002eb1-d7c0-4755-a241-2266cb01240a",
   "metadata": {
    "tags": []
   },
   "outputs": [
    {
     "data": {
      "text/plain": [
       "AAPL     1.254557\n",
       "BABA     0.978355\n",
       "IBM      1.249102\n",
       "MSFT     0.797269\n",
       "^GSPC    1.000000\n",
       "Name: ^GSPC, dtype: float64"
      ]
     },
     "execution_count": 56,
     "metadata": {},
     "output_type": "execute_result"
    }
   ],
   "source": [
    "cov.loc['^GSPC']/var"
   ]
  },
  {
   "cell_type": "code",
   "execution_count": 57,
   "id": "7c6496d8-0c81-4f42-804e-1c2be0835915",
   "metadata": {
    "tags": []
   },
   "outputs": [
    {
     "data": {
      "text/plain": [
       "1.2545573556714291"
      ]
     },
     "execution_count": 57,
     "metadata": {},
     "output_type": "execute_result"
    }
   ],
   "source": [
    "X = log_returns['^GSPC'].iloc[1:].to_numpy().reshape(-1, 1)\n",
    "Y = log_returns['AAPL'].iloc[1:].to_numpy().reshape(-1, 1)\n",
    "\n",
    "lin_regr = LinearRegression()\n",
    "lin_regr.fit(X, Y)\n",
    "\n",
    "lin_regr.coef_[0, 0]"
   ]
  },
  {
   "cell_type": "code",
   "execution_count": 58,
   "id": "85db8da6-4a60-4d2c-96bf-03ac128c50db",
   "metadata": {
    "tags": []
   },
   "outputs": [],
   "source": [
    "import matplotlib.pyplot as plt\n",
    "%matplotlib inline"
   ]
  },
  {
   "cell_type": "code",
   "execution_count": 59,
   "id": "fe924467-c64a-48f7-be8e-818cd3a2690b",
   "metadata": {
    "tags": []
   },
   "outputs": [
    {
     "data": {
      "text/plain": [
       "<matplotlib.collections.PathCollection at 0x12663bf2c80>"
      ]
     },
     "execution_count": 59,
     "metadata": {},
     "output_type": "execute_result"
    },
    {
     "data": {
      "image/png": "[encoded data removed]",
      "text/plain": [
       "<Figure size 640x480 with 1 Axes>"
      ]
     },
     "metadata": {},
     "output_type": "display_data"
    }
   ],
   "source": [
    "fig, ax = plt.subplots()\n",
    "ax.scatter(X, Y)"
   ]
  },
  {
   "cell_type": "code",
   "execution_count": null,
   "id": "b8b842a2-c69a-4c61-bbed-0f662e707d50",
   "metadata": {},
   "outputs": [],
   "source": []
  }
 ],
 "metadata": {
  "kernelspec": {
   "display_name": "Python 3 (ipykernel)",
   "language": "python",
   "name": "python3"
  },
  "language_info": {
   "codemirror_mode": {
    "name": "ipython",
    "version": 3
   },
   "file_extension": ".py",
   "mimetype": "text/x-python",
   "name": "python",
   "nbconvert_exporter": "python",
   "pygments_lexer": "ipython3",
   "version": "3.10.8"
  }
 },
 "nbformat": 4,
 "nbformat_minor": 5
}
