{
 "cells": [
  {
   "cell_type": "markdown",
   "id": "866d93e1-4c4d-4aba-9716-a45afe03931c",
   "metadata": {},
   "source": [
    "### Capital Asset Pricing Model (CAPM)\n",
    "\n",
    "* Relationship between systematic risk and expected return\n",
    "* There are several assumption behind the CAPM formula that have been shown not to hold in reality\n",
    "* CAPM formula is stil widely used\n",
    "\n",
    "![alt text](CAPM.png)"
   ]
  },
  {
   "cell_type": "code",
   "execution_count": 1,
   "id": "16306ef3-23a3-4bd2-ab5b-493dae440b56",
   "metadata": {
    "tags": []
   },
   "outputs": [],
   "source": [
    "import pandas as pd\n",
    "import numpy as np\n",
    "import datetime as dt\n",
    "import pandas_datareader as pdr"
   ]
  },
  {
   "cell_type": "code",
   "execution_count": 2,
   "id": "71398f46-1486-4a09-8b8e-0d1055961ecc",
   "metadata": {
    "tags": []
   },
   "outputs": [],
   "source": [
    "import yfinance as yf\n",
    "yf.pdr_override()"
   ]
  },
  {
   "cell_type": "code",
   "execution_count": 6,
   "id": "c355ebf6-2987-4972-8bd9-9499759b5cc5",
   "metadata": {
    "tags": []
   },
   "outputs": [
    {
     "name": "stdout",
     "output_type": "stream",
     "text": [
      "[*********************100%***********************]  5 of 5 completed\n"
     ]
    }
   ],
   "source": [
    "import pandas_datareader.data as pdr\n",
    "import yfinance as yf\n",
    "yf.pdr_override()\n",
    "from datetime import datetime\n",
    "start = dt.datetime(2015,12,1)\n",
    "end = dt.datetime(2021, 2,1)\n",
    "data = pdr.get_data_yahoo(['AAPL','MSFT','BABA','IBM','^GSPC'], start, end, interval = \"1mo\")"
   ]
  },
  {
   "cell_type": "code",
   "execution_count": 7,
   "id": "ba7010f5-d806-4fba-96d8-709ddd0febbb",
   "metadata": {
    "tags": []
   },
   "outputs": [],
   "source": [
    "data = data['Adj Close']"
   ]
  },
  {
   "cell_type": "code",
   "execution_count": 8,
   "id": "8e987d8b-98bb-4ca5-80b7-2e731fe5431c",
   "metadata": {
    "tags": []
   },
   "outputs": [
    {
     "data": {
      "text/html": [
       "<div>\n",
       "<style scoped>\n",
       "    .dataframe tbody tr th:only-of-type {\n",
       "        vertical-align: middle;\n",
       "    }\n",
       "\n",
       "    .dataframe tbody tr th {\n",
       "        vertical-align: top;\n",
       "    }\n",
       "\n",
       "    .dataframe thead th {\n",
       "        text-align: right;\n",
       "    }\n",
       "</style>\n",
       "<table border=\"1\" class=\"dataframe\">\n",
       "  <thead>\n",
       "    <tr style=\"text-align: right;\">\n",
       "      <th></th>\n",
       "      <th>AAPL</th>\n",
       "      <th>BABA</th>\n",
       "      <th>IBM</th>\n",
       "      <th>MSFT</th>\n",
       "      <th>^GSPC</th>\n",
       "    </tr>\n",
       "    <tr>\n",
       "      <th>Date</th>\n",
       "      <th></th>\n",
       "      <th></th>\n",
       "      <th></th>\n",
       "      <th></th>\n",
       "      <th></th>\n",
       "    </tr>\n",
       "  </thead>\n",
       "  <tbody>\n",
       "    <tr>\n",
       "      <th>2015-12-01</th>\n",
       "      <td>24.054180</td>\n",
       "      <td>81.269997</td>\n",
       "      <td>94.837921</td>\n",
       "      <td>49.616062</td>\n",
       "      <td>2043.939941</td>\n",
       "    </tr>\n",
       "    <tr>\n",
       "      <th>2016-01-01</th>\n",
       "      <td>22.244284</td>\n",
       "      <td>67.029999</td>\n",
       "      <td>85.996391</td>\n",
       "      <td>49.267300</td>\n",
       "      <td>1940.239990</td>\n",
       "    </tr>\n",
       "    <tr>\n",
       "      <th>2016-02-01</th>\n",
       "      <td>22.095741</td>\n",
       "      <td>68.809998</td>\n",
       "      <td>90.296555</td>\n",
       "      <td>45.502254</td>\n",
       "      <td>1932.229980</td>\n",
       "    </tr>\n",
       "    <tr>\n",
       "      <th>2016-03-01</th>\n",
       "      <td>25.041708</td>\n",
       "      <td>79.029999</td>\n",
       "      <td>105.434647</td>\n",
       "      <td>49.747135</td>\n",
       "      <td>2059.739990</td>\n",
       "    </tr>\n",
       "    <tr>\n",
       "      <th>2016-04-01</th>\n",
       "      <td>21.537846</td>\n",
       "      <td>76.940002</td>\n",
       "      <td>101.598740</td>\n",
       "      <td>44.919224</td>\n",
       "      <td>2065.300049</td>\n",
       "    </tr>\n",
       "  </tbody>\n",
       "</table>\n",
       "</div>"
      ],
      "text/plain": [
       "                 AAPL       BABA         IBM       MSFT        ^GSPC\n",
       "Date                                                                \n",
       "2015-12-01  24.054180  81.269997   94.837921  49.616062  2043.939941\n",
       "2016-01-01  22.244284  67.029999   85.996391  49.267300  1940.239990\n",
       "2016-02-01  22.095741  68.809998   90.296555  45.502254  1932.229980\n",
       "2016-03-01  25.041708  79.029999  105.434647  49.747135  2059.739990\n",
       "2016-04-01  21.537846  76.940002  101.598740  44.919224  2065.300049"
      ]
     },
     "execution_count": 8,
     "metadata": {},
     "output_type": "execute_result"
    }
   ],
   "source": [
    "data.head()"
   ]
  },
  {
   "cell_type": "code",
   "execution_count": 9,
   "id": "5c64e1f4-5279-4be3-bf58-264ee2cba0ed",
   "metadata": {
    "tags": []
   },
   "outputs": [],
   "source": [
    "log_returns = np.log(data/data.shift())"
   ]
  },
  {
   "cell_type": "code",
   "execution_count": 11,
   "id": "122dd0fd-ba8b-4a90-ac2f-4f5d46a2fe16",
   "metadata": {
    "tags": []
   },
   "outputs": [],
   "source": [
    "cov = log_returns.cov()"
   ]
  },
  {
   "cell_type": "code",
   "execution_count": 12,
   "id": "002bdfcc-a569-4f45-bb76-e4f1fc1f1424",
   "metadata": {
    "tags": []
   },
   "outputs": [],
   "source": [
    "var = log_returns['^GSPC'].var()"
   ]
  },
  {
   "cell_type": "code",
   "execution_count": 13,
   "id": "5a88d003-4d83-4808-a1b3-fa65e5397872",
   "metadata": {
    "tags": []
   },
   "outputs": [],
   "source": [
    "beta = cov.loc['AAPL','^GSPC']/var"
   ]
  },
  {
   "cell_type": "code",
   "execution_count": 14,
   "id": "4fd70e40-e8fb-48e9-a0b6-d199ffd1dcb2",
   "metadata": {
    "tags": []
   },
   "outputs": [
    {
     "data": {
      "text/plain": [
       "1.2545577639699104"
      ]
     },
     "execution_count": 14,
     "metadata": {},
     "output_type": "execute_result"
    }
   ],
   "source": [
    "beta"
   ]
  },
  {
   "cell_type": "code",
   "execution_count": 15,
   "id": "ad5b7930-8daf-4204-aa8d-d6fcfbdd1f49",
   "metadata": {
    "tags": []
   },
   "outputs": [],
   "source": [
    "risk_free_return = 0.0138\n",
    "market_return = 0.105\n",
    "expected_return = risk_free_return + beta*(market_return - risk_free_return)"
   ]
  },
  {
   "cell_type": "code",
   "execution_count": 16,
   "id": "34e70596-4d8d-4af0-af8b-9751a467e595",
   "metadata": {
    "tags": []
   },
   "outputs": [
    {
     "data": {
      "text/plain": [
       "0.12821566807405582"
      ]
     },
     "execution_count": 16,
     "metadata": {},
     "output_type": "execute_result"
    }
   ],
   "source": [
    "expected_return"
   ]
  },
  {
   "cell_type": "code",
   "execution_count": 17,
   "id": "cb06489f-da4a-4116-860f-2feb9f894f6e",
   "metadata": {
    "tags": []
   },
   "outputs": [
    {
     "data": {
      "text/plain": [
       "0.1317285652168406"
      ]
     },
     "execution_count": 17,
     "metadata": {},
     "output_type": "execute_result"
    }
   ],
   "source": [
    "beta*market_return"
   ]
  },
  {
   "cell_type": "code",
   "execution_count": 18,
   "id": "daba0a7f-f22a-4de0-9232-0ed9fb079d06",
   "metadata": {
    "tags": []
   },
   "outputs": [],
   "source": [
    "beta = cov.loc['^GSPC']/var"
   ]
  },
  {
   "cell_type": "code",
   "execution_count": 19,
   "id": "1b5b6ce5-2437-4922-bddf-3f31f999062a",
   "metadata": {
    "tags": []
   },
   "outputs": [
    {
     "data": {
      "text/plain": [
       "AAPL     1.254558\n",
       "BABA     0.978355\n",
       "IBM      1.249103\n",
       "MSFT     0.797268\n",
       "^GSPC    1.000000\n",
       "Name: ^GSPC, dtype: float64"
      ]
     },
     "execution_count": 19,
     "metadata": {},
     "output_type": "execute_result"
    }
   ],
   "source": [
    "beta"
   ]
  },
  {
   "cell_type": "code",
   "execution_count": 20,
   "id": "6d1d22b4-8877-47a5-86d1-0fa5f9ca7ee7",
   "metadata": {
    "tags": []
   },
   "outputs": [],
   "source": [
    "market_return = risk_free_return + beta*(market_return - risk_free_return)"
   ]
  },
  {
   "cell_type": "code",
   "execution_count": 21,
   "id": "c33c0a7a-3c14-4a71-bc94-23deec94c45d",
   "metadata": {
    "tags": []
   },
   "outputs": [
    {
     "data": {
      "text/plain": [
       "AAPL     0.128216\n",
       "BABA     0.103026\n",
       "IBM      0.127718\n",
       "MSFT     0.086511\n",
       "^GSPC    0.105000\n",
       "Name: ^GSPC, dtype: float64"
      ]
     },
     "execution_count": 21,
     "metadata": {},
     "output_type": "execute_result"
    }
   ],
   "source": [
    "market_return"
   ]
  },
  {
   "cell_type": "code",
   "execution_count": null,
   "id": "e5fe473b-be33-453a-9768-37d0d73402a6",
   "metadata": {},
   "outputs": [],
   "source": []
  }
 ],
 "metadata": {
  "kernelspec": {
   "display_name": "Python 3 (ipykernel)",
   "language": "python",
   "name": "python3"
  },
  "language_info": {
   "codemirror_mode": {
    "name": "ipython",
    "version": 3
   },
   "file_extension": ".py",
   "mimetype": "text/x-python",
   "name": "python",
   "nbconvert_exporter": "python",
   "pygments_lexer": "ipython3",
   "version": "3.10.8"
  }
 },
 "nbformat": 4,
 "nbformat_minor": 5
}
