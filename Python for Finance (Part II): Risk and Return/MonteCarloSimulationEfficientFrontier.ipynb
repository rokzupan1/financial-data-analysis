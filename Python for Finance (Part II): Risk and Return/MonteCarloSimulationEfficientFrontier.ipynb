{
 "cells": [
  {
   "cell_type": "markdown",
   "id": "8807ec64-0513-4bf8-9c4d-1c0fc635aeef",
   "metadata": {},
   "source": [
    "### Monte Carlo Simulation and Efficient Frontier\n",
    "\n",
    "* Introduction to Monte Carlo Simulation\n",
    "* Applying Monte Carlo Simulation on portfolios using Sharpe Ratio (from  last lesson)\n",
    "* Creating Efficient Frontier based on Sharpe Ratio\n",
    "\n",
    "##### Resources\n",
    "\n",
    "* Monte Carlo Simulation https://en.wikipedia.org/wiki/Monte_Carlo_method\n",
    "\n",
    "#### Introduction to Monte Carlo Simulation"
   ]
  },
  {
   "cell_type": "code",
   "execution_count": 3,
   "id": "7b0d4d1c-9eef-4f21-a524-7298a9ad2165",
   "metadata": {
    "tags": []
   },
   "outputs": [],
   "source": [
    "import numpy as np"
   ]
  },
  {
   "cell_type": "code",
   "execution_count": 15,
   "id": "dd3ae955-39c3-46fa-ad30-eccb97ed094a",
   "metadata": {},
   "outputs": [],
   "source": [
    "def roll_dice():\n",
    "    return np.sum(np.random.randint(1,7,2))"
   ]
  },
  {
   "cell_type": "code",
   "execution_count": 16,
   "id": "89c78c22-e0c4-44fe-9632-dacc2c71a93e",
   "metadata": {
    "tags": []
   },
   "outputs": [
    {
     "data": {
      "text/plain": [
       "4"
      ]
     },
     "execution_count": 16,
     "metadata": {},
     "output_type": "execute_result"
    }
   ],
   "source": [
    "roll_dice()"
   ]
  },
  {
   "cell_type": "code",
   "execution_count": 29,
   "id": "11429b43-5e02-4a62-9356-a6c520b88871",
   "metadata": {
    "tags": []
   },
   "outputs": [],
   "source": [
    "def monte_carlo_simulation(runs=1000):\n",
    "    results = np.zeros(2)\n",
    "    for _ in range(runs):\n",
    "            if roll_dice() == 7:\n",
    "                results[0] += 1\n",
    "            else:\n",
    "                results[1] += 1\n",
    "    return results"
   ]
  },
  {
   "cell_type": "code",
   "execution_count": 34,
   "id": "98ff415b-1b5d-48d0-a0b9-51088757832e",
   "metadata": {
    "tags": []
   },
   "outputs": [
    {
     "data": {
      "text/plain": [
       "array([174., 826.])"
      ]
     },
     "execution_count": 34,
     "metadata": {},
     "output_type": "execute_result"
    }
   ],
   "source": [
    "monte_carlo_simulation()"
   ]
  },
  {
   "cell_type": "code",
   "execution_count": 35,
   "id": "1ce9327a-e425-4a86-bb9c-f8c498347374",
   "metadata": {
    "tags": []
   },
   "outputs": [
    {
     "data": {
      "text/plain": [
       "870"
      ]
     },
     "execution_count": 35,
     "metadata": {},
     "output_type": "execute_result"
    }
   ],
   "source": [
    "174*5"
   ]
  },
  {
   "cell_type": "code",
   "execution_count": 62,
   "id": "1c5bfa24-6c37-4f4a-80f1-6ec512815480",
   "metadata": {
    "tags": []
   },
   "outputs": [],
   "source": [
    "results = np.zeros(1000)\n",
    "\n",
    "for i in range(1000):\n",
    "    results[i] = monte_carlo_simulation()[0]"
   ]
  },
  {
   "cell_type": "code",
   "execution_count": 63,
   "id": "edd67e49-c6cd-4f5e-a3f3-2c74349a4f09",
   "metadata": {},
   "outputs": [
    {
     "data": {
      "text/plain": [
       "array([164., 172., 156., 166., 160., 171., 160., 165., 158., 191., 175.,\n",
       "       155., 156., 174., 167., 174., 184., 182., 156., 160., 172., 186.,\n",
       "       156., 162., 168., 176., 169., 162., 176., 167., 159., 172., 190.,\n",
       "       181., 163., 152., 159., 139., 170., 182., 176., 175., 158., 176.,\n",
       "       185., 170., 178., 164., 160., 162., 173., 172., 163., 160., 165.,\n",
       "       129., 163., 163., 181., 158., 156., 154., 179., 175., 162., 153.,\n",
       "       168., 158., 157., 171., 162., 151., 174., 183., 168., 162., 175.,\n",
       "       165., 157., 145., 179., 154., 153., 159., 170., 172., 161., 183.,\n",
       "       146., 167., 178., 181., 163., 157., 148., 165., 160., 140., 169.,\n",
       "       156., 157., 149., 165., 164., 168., 160., 171., 161., 182., 165.,\n",
       "       153., 170., 159., 161., 161., 160., 159., 187., 137., 159., 163.,\n",
       "       160., 187., 155., 182., 171., 156., 161., 166., 143., 193., 162.,\n",
       "       169., 190., 193., 173., 165., 176., 185., 169., 162., 158., 177.,\n",
       "       177., 189., 180., 162., 175., 180., 175., 162., 177., 156., 160.,\n",
       "       162., 154., 174., 178., 159., 174., 183., 171., 172., 187., 163.,\n",
       "       151., 176., 180., 176., 144., 165., 152., 163., 180., 160., 178.,\n",
       "       161., 172., 180., 168., 167., 162., 175., 171., 174., 169., 160.,\n",
       "       175., 161., 173., 168., 152., 170., 158., 167., 151., 175., 185.,\n",
       "       177., 168., 163., 133., 192., 176., 163., 169., 160., 166., 162.,\n",
       "       172., 171., 165., 154., 153., 168., 191., 155., 154., 174., 167.,\n",
       "       174., 165., 172., 158., 175., 165., 179., 148., 176., 148., 167.,\n",
       "       162., 170., 133., 178., 170., 146., 183., 183., 165., 172., 177.,\n",
       "       158., 195., 158., 180., 165., 165., 176., 170., 175., 156., 161.,\n",
       "       144., 179., 159., 167., 155., 154., 154., 190., 157., 147., 169.,\n",
       "       153., 152., 165., 191., 155., 204., 179., 189., 176., 149., 180.,\n",
       "       154., 158., 190., 175., 168., 163., 172., 172., 161., 161., 176.,\n",
       "       161., 177., 181., 177., 157., 172., 171., 158., 177., 159., 174.,\n",
       "       159., 192., 162., 192., 198., 159., 157., 166., 174., 164., 182.,\n",
       "       163., 181., 162., 178., 159., 171., 185., 169., 171., 168., 173.,\n",
       "       143., 158., 167., 173., 169., 173., 146., 162., 174., 153., 160.,\n",
       "       164., 177., 158., 178., 176., 185., 135., 167., 151., 154., 157.,\n",
       "       165., 183., 159., 142., 173., 181., 147., 180., 160., 160., 177.,\n",
       "       149., 174., 184., 157., 167., 162., 166., 189., 174., 161., 169.,\n",
       "       142., 175., 156., 189., 178., 179., 157., 166., 156., 133., 151.,\n",
       "       165., 170., 157., 177., 172., 166., 169., 160., 166., 172., 172.,\n",
       "       172., 156., 184., 154., 159., 179., 174., 156., 169., 175., 173.,\n",
       "       176., 153., 167., 168., 173., 166., 153., 151., 164., 165., 188.,\n",
       "       170., 162., 159., 171., 164., 192., 163., 162., 173., 158., 172.,\n",
       "       171., 160., 132., 163., 160., 151., 171., 170., 170., 150., 151.,\n",
       "       157., 155., 165., 181., 170., 162., 164., 175., 178., 189., 158.,\n",
       "       184., 156., 170., 176., 174., 189., 142., 161., 167., 157., 163.,\n",
       "       178., 135., 184., 158., 145., 174., 167., 172., 171., 144., 182.,\n",
       "       166., 174., 146., 175., 174., 156., 175., 182., 202., 156., 145.,\n",
       "       190., 163., 173., 171., 172., 165., 177., 172., 182., 150., 178.,\n",
       "       159., 164., 151., 150., 158., 183., 147., 163., 163., 157., 175.,\n",
       "       156., 170., 165., 171., 183., 148., 185., 177., 160., 167., 181.,\n",
       "       183., 176., 172., 174., 182., 169., 179., 190., 162., 173., 168.,\n",
       "       160., 142., 178., 170., 175., 187., 177., 162., 182., 171., 163.,\n",
       "       177., 153., 154., 168., 164., 163., 198., 161., 182., 161., 143.,\n",
       "       183., 164., 169., 172., 163., 185., 166., 176., 174., 164., 168.,\n",
       "       192., 169., 152., 171., 165., 156., 143., 156., 162., 146., 169.,\n",
       "       153., 185., 187., 168., 173., 153., 178., 155., 166., 157., 174.,\n",
       "       178., 178., 179., 173., 184., 159., 170., 162., 161., 166., 151.,\n",
       "       185., 154., 162., 163., 147., 164., 164., 160., 158., 184., 141.,\n",
       "       167., 188., 192., 166., 178., 178., 185., 161., 203., 160., 169.,\n",
       "       171., 176., 155., 164., 155., 169., 165., 173., 174., 148., 156.,\n",
       "       168., 160., 175., 150., 161., 175., 173., 147., 158., 152., 182.,\n",
       "       160., 169., 156., 162., 162., 159., 176., 157., 180., 164., 171.,\n",
       "       153., 187., 152., 155., 166., 142., 185., 135., 156., 176., 174.,\n",
       "       163., 178., 157., 162., 175., 176., 136., 184., 168., 153., 152.,\n",
       "       166., 171., 176., 182., 169., 161., 145., 161., 170., 174., 152.,\n",
       "       149., 169., 164., 166., 175., 166., 165., 179., 162., 154., 166.,\n",
       "       162., 160., 168., 155., 185., 179., 186., 165., 181., 177., 160.,\n",
       "       183., 160., 151., 170., 165., 161., 157., 149., 183., 176., 175.,\n",
       "       191., 177., 173., 155., 173., 172., 170., 185., 168., 162., 155.,\n",
       "       156., 164., 159., 163., 177., 155., 157., 170., 177., 145., 170.,\n",
       "       140., 163., 162., 159., 171., 176., 159., 166., 159., 160., 166.,\n",
       "       151., 156., 159., 172., 149., 185., 157., 181., 164., 175., 163.,\n",
       "       161., 170., 143., 159., 177., 159., 166., 162., 183., 148., 175.,\n",
       "       193., 144., 162., 193., 154., 144., 157., 154., 171., 170., 158.,\n",
       "       156., 143., 174., 175., 156., 157., 191., 158., 162., 168., 179.,\n",
       "       171., 171., 157., 177., 173., 158., 155., 181., 159., 158., 180.,\n",
       "       180., 170., 165., 172., 188., 162., 164., 163., 154., 163., 183.,\n",
       "       167., 158., 194., 173., 151., 169., 165., 162., 169., 168., 159.,\n",
       "       147., 163., 167., 177., 159., 168., 166., 162., 156., 172., 173.,\n",
       "       171., 151., 198., 175., 171., 177., 180., 153., 169., 161., 145.,\n",
       "       179., 164., 175., 176., 164., 214., 152., 181., 196., 168., 173.,\n",
       "       151., 161., 162., 165., 181., 181., 189., 156., 164., 180., 163.,\n",
       "       171., 176., 167., 173., 142., 170., 179., 162., 194., 176., 170.,\n",
       "       164., 151., 166., 178., 154., 172., 158., 172., 156., 179., 161.,\n",
       "       135., 166., 196., 159., 193., 173., 175., 152., 178., 167., 195.,\n",
       "       146., 165., 158., 173., 170., 178., 180., 181., 162., 166., 144.,\n",
       "       174., 163., 155., 158., 172., 162., 151., 180., 162., 150., 156.,\n",
       "       153., 162., 149., 170., 177., 175., 173., 169., 166., 156., 169.,\n",
       "       169., 153., 174., 162., 174., 193., 174., 163., 164., 184., 171.,\n",
       "       160., 182., 165., 160., 164., 147., 154., 154., 158., 154., 169.,\n",
       "       154., 176., 172., 145., 167., 189., 158., 154., 166., 168., 154.,\n",
       "       166., 163., 164., 158., 152., 195., 167., 171., 144., 156., 173.,\n",
       "       157., 133., 185., 169., 185., 172., 190., 167., 164., 171., 179.,\n",
       "       184., 183., 175., 161., 163., 163., 161., 157., 165., 169., 174.,\n",
       "       157., 175., 185., 171., 154., 178., 155., 194., 176., 158.])"
      ]
     },
     "execution_count": 63,
     "metadata": {},
     "output_type": "execute_result"
    }
   ],
   "source": [
    "results"
   ]
  },
  {
   "cell_type": "code",
   "execution_count": 64,
   "id": "8d5ec3ec-e2c0-4f4f-b846-d33d52dbdad1",
   "metadata": {
    "tags": []
   },
   "outputs": [],
   "source": [
    "import matplotlib.pyplot as plt\n",
    "%matplotlib inline"
   ]
  },
  {
   "cell_type": "code",
   "execution_count": 65,
   "id": "7018dc80-71e7-4e7d-9781-999048031046",
   "metadata": {
    "tags": []
   },
   "outputs": [
    {
     "data": {
      "text/plain": [
       "(array([  6.,   9.,  27.,  48., 127., 164., 171., 180., 124.,  86.,  31.,\n",
       "         20.,   4.,   2.,   1.]),\n",
       " array([129.        , 134.66666667, 140.33333333, 146.        ,\n",
       "        151.66666667, 157.33333333, 163.        , 168.66666667,\n",
       "        174.33333333, 180.        , 185.66666667, 191.33333333,\n",
       "        197.        , 202.66666667, 208.33333333, 214.        ]),\n",
       " <BarContainer object of 15 artists>)"
      ]
     },
     "execution_count": 65,
     "metadata": {},
     "output_type": "execute_result"
    },
    {
     "data": {
      "image/png": "[encoded data removed]",
      "text/plain": [
       "<Figure size 640x480 with 1 Axes>"
      ]
     },
     "metadata": {},
     "output_type": "display_data"
    }
   ],
   "source": [
    "fig, ax = plt.subplots()\n",
    "ax.hist(results, bins = 15)"
   ]
  },
  {
   "cell_type": "code",
   "execution_count": 66,
   "id": "ab104317-d841-4918-b0fe-701d68372f0d",
   "metadata": {
    "tags": []
   },
   "outputs": [
    {
     "data": {
      "text/plain": [
       "834.345"
      ]
     },
     "execution_count": 66,
     "metadata": {},
     "output_type": "execute_result"
    }
   ],
   "source": [
    "results.mean()*5"
   ]
  },
  {
   "cell_type": "code",
   "execution_count": 67,
   "id": "5c235af9-1eef-4f93-89f3-1193849f401b",
   "metadata": {
    "tags": []
   },
   "outputs": [
    {
     "data": {
      "text/plain": [
       "833.131"
      ]
     },
     "execution_count": 67,
     "metadata": {},
     "output_type": "execute_result"
    }
   ],
   "source": [
    "1000 - results.mean()"
   ]
  },
  {
   "cell_type": "code",
   "execution_count": 68,
   "id": "83c5ac22-ed7a-47de-bb0f-33464e83c883",
   "metadata": {
    "tags": []
   },
   "outputs": [
    {
     "data": {
      "text/plain": [
       "0.166869"
      ]
     },
     "execution_count": 68,
     "metadata": {},
     "output_type": "execute_result"
    }
   ],
   "source": [
    "results.mean()/1000"
   ]
  },
  {
   "cell_type": "code",
   "execution_count": 55,
   "id": "0c47ffd1-f825-49fe-9bac-ccbd20dfb3e1",
   "metadata": {
    "tags": []
   },
   "outputs": [],
   "source": [
    "d1 = np.arange(1, 7)\n",
    "d2 = np.arange(1, 7)"
   ]
  },
  {
   "cell_type": "code",
   "execution_count": 56,
   "id": "61621eb6-49c9-4eae-9c3c-5a2fe050bf9e",
   "metadata": {
    "tags": []
   },
   "outputs": [],
   "source": [
    "mat = np.add.outer(d1,d2)"
   ]
  },
  {
   "cell_type": "code",
   "execution_count": 57,
   "id": "61d12a03-d2af-4152-aa30-9218b94d408a",
   "metadata": {
    "tags": []
   },
   "outputs": [
    {
     "data": {
      "text/plain": [
       "array([[ 2,  3,  4,  5,  6,  7],\n",
       "       [ 3,  4,  5,  6,  7,  8],\n",
       "       [ 4,  5,  6,  7,  8,  9],\n",
       "       [ 5,  6,  7,  8,  9, 10],\n",
       "       [ 6,  7,  8,  9, 10, 11],\n",
       "       [ 7,  8,  9, 10, 11, 12]])"
      ]
     },
     "execution_count": 57,
     "metadata": {},
     "output_type": "execute_result"
    }
   ],
   "source": [
    "mat"
   ]
  },
  {
   "cell_type": "code",
   "execution_count": 59,
   "id": "f3162f19-02a1-45e1-a3b9-8bb0f731a982",
   "metadata": {
    "tags": []
   },
   "outputs": [
    {
     "data": {
      "text/plain": [
       "36"
      ]
     },
     "execution_count": 59,
     "metadata": {},
     "output_type": "execute_result"
    }
   ],
   "source": [
    "mat.size"
   ]
  },
  {
   "cell_type": "code",
   "execution_count": 60,
   "id": "59dcf88b-6f1e-4152-ad86-e2da79ec12c5",
   "metadata": {
    "tags": []
   },
   "outputs": [
    {
     "data": {
      "text/plain": [
       "6"
      ]
     },
     "execution_count": 60,
     "metadata": {},
     "output_type": "execute_result"
    }
   ],
   "source": [
    "mat[mat == 7].size"
   ]
  },
  {
   "cell_type": "code",
   "execution_count": 61,
   "id": "866eb610-e5c1-4add-9529-e69f34679355",
   "metadata": {
    "tags": []
   },
   "outputs": [
    {
     "data": {
      "text/plain": [
       "0.16666666666666666"
      ]
     },
     "execution_count": 61,
     "metadata": {},
     "output_type": "execute_result"
    }
   ],
   "source": [
    "mat[mat == 7].size / mat.size"
   ]
  },
  {
   "cell_type": "markdown",
   "id": "366dcc27-9c2e-442c-8f33-36e75f921bb9",
   "metadata": {},
   "source": [
    "#### Monte Carlo Simulation with Portfolios and Sharpe Ratio"
   ]
  },
  {
   "cell_type": "code",
   "execution_count": 69,
   "id": "5ad28986-921e-4fcc-9e1f-f4269ee50f8b",
   "metadata": {
    "tags": []
   },
   "outputs": [],
   "source": [
    "import pandas as pd\n",
    "import datetime as dt\n",
    "import pandas_datareader as pdr"
   ]
  },
  {
   "cell_type": "code",
   "execution_count": 202,
   "id": "da6dedf0-8bb1-48fd-a81b-42f3504a18e3",
   "metadata": {
    "tags": []
   },
   "outputs": [],
   "source": [
    "tickers = [\"AAPL\",\"MSFT\",\"IBM\",\"TSLA\"]\n",
    "start = dt.datetime(2020,1,1)\n",
    "end = dt.datetime(2021,3,1)\n",
    "data = pdr.get_data_stooq(tickers,start,end)"
   ]
  },
  {
   "cell_type": "code",
   "execution_count": 203,
   "id": "0c985cdb-e0f9-4b44-a734-0007aaf856b0",
   "metadata": {
    "tags": []
   },
   "outputs": [],
   "source": [
    "data = data[::-1]"
   ]
  },
  {
   "cell_type": "code",
   "execution_count": 204,
   "id": "73300a81-28c2-485a-a9da-2f941f7f8a52",
   "metadata": {
    "tags": []
   },
   "outputs": [],
   "source": [
    "data = data['Close']"
   ]
  },
  {
   "cell_type": "code",
   "execution_count": 205,
   "id": "8cd39ad6-5519-4f74-9ed6-12a3fd57a0be",
   "metadata": {
    "tags": []
   },
   "outputs": [
    {
     "data": {
      "text/html": [
       "<div>\n",
       "<style scoped>\n",
       "    .dataframe tbody tr th:only-of-type {\n",
       "        vertical-align: middle;\n",
       "    }\n",
       "\n",
       "    .dataframe tbody tr th {\n",
       "        vertical-align: top;\n",
       "    }\n",
       "\n",
       "    .dataframe thead th {\n",
       "        text-align: right;\n",
       "    }\n",
       "</style>\n",
       "<table border=\"1\" class=\"dataframe\">\n",
       "  <thead>\n",
       "    <tr style=\"text-align: right;\">\n",
       "      <th>Symbols</th>\n",
       "      <th>AAPL</th>\n",
       "      <th>MSFT</th>\n",
       "      <th>IBM</th>\n",
       "      <th>TSLA</th>\n",
       "    </tr>\n",
       "    <tr>\n",
       "      <th>Date</th>\n",
       "      <th></th>\n",
       "      <th></th>\n",
       "      <th></th>\n",
       "      <th></th>\n",
       "    </tr>\n",
       "  </thead>\n",
       "  <tbody>\n",
       "    <tr>\n",
       "      <th>2020-01-02</th>\n",
       "      <td>73.5616</td>\n",
       "      <td>156.133</td>\n",
       "      <td>116.720</td>\n",
       "      <td>28.6840</td>\n",
       "    </tr>\n",
       "    <tr>\n",
       "      <th>2020-01-03</th>\n",
       "      <td>72.8488</td>\n",
       "      <td>154.216</td>\n",
       "      <td>115.784</td>\n",
       "      <td>29.5340</td>\n",
       "    </tr>\n",
       "    <tr>\n",
       "      <th>2020-01-06</th>\n",
       "      <td>73.4250</td>\n",
       "      <td>154.613</td>\n",
       "      <td>115.569</td>\n",
       "      <td>30.1027</td>\n",
       "    </tr>\n",
       "    <tr>\n",
       "      <th>2020-01-07</th>\n",
       "      <td>73.0831</td>\n",
       "      <td>153.183</td>\n",
       "      <td>115.656</td>\n",
       "      <td>31.2707</td>\n",
       "    </tr>\n",
       "    <tr>\n",
       "      <th>2020-01-08</th>\n",
       "      <td>74.2575</td>\n",
       "      <td>155.656</td>\n",
       "      <td>116.623</td>\n",
       "      <td>32.8093</td>\n",
       "    </tr>\n",
       "  </tbody>\n",
       "</table>\n",
       "</div>"
      ],
      "text/plain": [
       "Symbols        AAPL     MSFT      IBM     TSLA\n",
       "Date                                          \n",
       "2020-01-02  73.5616  156.133  116.720  28.6840\n",
       "2020-01-03  72.8488  154.216  115.784  29.5340\n",
       "2020-01-06  73.4250  154.613  115.569  30.1027\n",
       "2020-01-07  73.0831  153.183  115.656  31.2707\n",
       "2020-01-08  74.2575  155.656  116.623  32.8093"
      ]
     },
     "execution_count": 205,
     "metadata": {},
     "output_type": "execute_result"
    }
   ],
   "source": [
    "data.head()"
   ]
  },
  {
   "cell_type": "code",
   "execution_count": 206,
   "id": "7e842768-6688-476a-a602-9f97c19e50df",
   "metadata": {
    "tags": []
   },
   "outputs": [],
   "source": [
    "log_returns = np.log(data/data.shift())"
   ]
  },
  {
   "cell_type": "code",
   "execution_count": 207,
   "id": "2d9bf95a-e691-4961-b942-af03b4db9c9d",
   "metadata": {
    "tags": []
   },
   "outputs": [
    {
     "data": {
      "text/html": [
       "<div>\n",
       "<style scoped>\n",
       "    .dataframe tbody tr th:only-of-type {\n",
       "        vertical-align: middle;\n",
       "    }\n",
       "\n",
       "    .dataframe tbody tr th {\n",
       "        vertical-align: top;\n",
       "    }\n",
       "\n",
       "    .dataframe thead th {\n",
       "        text-align: right;\n",
       "    }\n",
       "</style>\n",
       "<table border=\"1\" class=\"dataframe\">\n",
       "  <thead>\n",
       "    <tr style=\"text-align: right;\">\n",
       "      <th>Symbols</th>\n",
       "      <th>AAPL</th>\n",
       "      <th>MSFT</th>\n",
       "      <th>IBM</th>\n",
       "      <th>TSLA</th>\n",
       "    </tr>\n",
       "    <tr>\n",
       "      <th>Date</th>\n",
       "      <th></th>\n",
       "      <th></th>\n",
       "      <th></th>\n",
       "      <th></th>\n",
       "    </tr>\n",
       "  </thead>\n",
       "  <tbody>\n",
       "    <tr>\n",
       "      <th>2020-01-02</th>\n",
       "      <td>NaN</td>\n",
       "      <td>NaN</td>\n",
       "      <td>NaN</td>\n",
       "      <td>NaN</td>\n",
       "    </tr>\n",
       "    <tr>\n",
       "      <th>2020-01-03</th>\n",
       "      <td>-0.009737</td>\n",
       "      <td>-0.012354</td>\n",
       "      <td>-0.008052</td>\n",
       "      <td>0.029203</td>\n",
       "    </tr>\n",
       "    <tr>\n",
       "      <th>2020-01-06</th>\n",
       "      <td>0.007878</td>\n",
       "      <td>0.002571</td>\n",
       "      <td>-0.001859</td>\n",
       "      <td>0.019073</td>\n",
       "    </tr>\n",
       "    <tr>\n",
       "      <th>2020-01-07</th>\n",
       "      <td>-0.004667</td>\n",
       "      <td>-0.009292</td>\n",
       "      <td>0.000753</td>\n",
       "      <td>0.038067</td>\n",
       "    </tr>\n",
       "    <tr>\n",
       "      <th>2020-01-08</th>\n",
       "      <td>0.015942</td>\n",
       "      <td>0.016015</td>\n",
       "      <td>0.008326</td>\n",
       "      <td>0.048030</td>\n",
       "    </tr>\n",
       "    <tr>\n",
       "      <th>...</th>\n",
       "      <td>...</td>\n",
       "      <td>...</td>\n",
       "      <td>...</td>\n",
       "      <td>...</td>\n",
       "    </tr>\n",
       "    <tr>\n",
       "      <th>2021-02-23</th>\n",
       "      <td>-0.001115</td>\n",
       "      <td>-0.005254</td>\n",
       "      <td>-0.001144</td>\n",
       "      <td>-0.022161</td>\n",
       "    </tr>\n",
       "    <tr>\n",
       "      <th>2021-02-24</th>\n",
       "      <td>-0.004095</td>\n",
       "      <td>0.005427</td>\n",
       "      <td>0.020463</td>\n",
       "      <td>0.059953</td>\n",
       "    </tr>\n",
       "    <tr>\n",
       "      <th>2021-02-25</th>\n",
       "      <td>-0.035504</td>\n",
       "      <td>-0.024008</td>\n",
       "      <td>-0.006049</td>\n",
       "      <td>-0.084023</td>\n",
       "    </tr>\n",
       "    <tr>\n",
       "      <th>2021-02-26</th>\n",
       "      <td>0.002253</td>\n",
       "      <td>0.014726</td>\n",
       "      <td>-0.029295</td>\n",
       "      <td>-0.009899</td>\n",
       "    </tr>\n",
       "    <tr>\n",
       "      <th>2021-03-01</th>\n",
       "      <td>0.052437</td>\n",
       "      <td>0.019419</td>\n",
       "      <td>0.015151</td>\n",
       "      <td>0.061615</td>\n",
       "    </tr>\n",
       "  </tbody>\n",
       "</table>\n",
       "<p>292 rows × 4 columns</p>\n",
       "</div>"
      ],
      "text/plain": [
       "Symbols         AAPL      MSFT       IBM      TSLA\n",
       "Date                                              \n",
       "2020-01-02       NaN       NaN       NaN       NaN\n",
       "2020-01-03 -0.009737 -0.012354 -0.008052  0.029203\n",
       "2020-01-06  0.007878  0.002571 -0.001859  0.019073\n",
       "2020-01-07 -0.004667 -0.009292  0.000753  0.038067\n",
       "2020-01-08  0.015942  0.016015  0.008326  0.048030\n",
       "...              ...       ...       ...       ...\n",
       "2021-02-23 -0.001115 -0.005254 -0.001144 -0.022161\n",
       "2021-02-24 -0.004095  0.005427  0.020463  0.059953\n",
       "2021-02-25 -0.035504 -0.024008 -0.006049 -0.084023\n",
       "2021-02-26  0.002253  0.014726 -0.029295 -0.009899\n",
       "2021-03-01  0.052437  0.019419  0.015151  0.061615\n",
       "\n",
       "[292 rows x 4 columns]"
      ]
     },
     "execution_count": 207,
     "metadata": {},
     "output_type": "execute_result"
    }
   ],
   "source": [
    "log_returns"
   ]
  },
  {
   "cell_type": "code",
   "execution_count": 208,
   "id": "0511ab83-7174-462d-b114-ea21406f912d",
   "metadata": {
    "tags": []
   },
   "outputs": [
    {
     "data": {
      "text/plain": [
       "array([0.03282451, 0.35170672, 0.30043944, 0.31502933])"
      ]
     },
     "execution_count": 208,
     "metadata": {},
     "output_type": "execute_result"
    }
   ],
   "source": [
    "weight = np.random.random(4)\n",
    "weight /= weight.sum()\n",
    "weight"
   ]
  },
  {
   "cell_type": "code",
   "execution_count": 209,
   "id": "c2c24422-6956-486c-b502-f7dbb15e37e5",
   "metadata": {
    "tags": []
   },
   "outputs": [],
   "source": [
    "exp_rtn = np.sum(log_returns.mean()*weight)*252"
   ]
  },
  {
   "cell_type": "code",
   "execution_count": 211,
   "id": "3dd8359e-3ab5-4534-a06c-9e7ec430abcf",
   "metadata": {
    "tags": []
   },
   "outputs": [
    {
     "data": {
      "text/plain": [
       "0.7035859248300564"
      ]
     },
     "execution_count": 211,
     "metadata": {},
     "output_type": "execute_result"
    }
   ],
   "source": [
    "exp_rtn"
   ]
  },
  {
   "cell_type": "code",
   "execution_count": 212,
   "id": "a9cb9d72-1aa5-489e-a354-d92a1368653a",
   "metadata": {
    "tags": []
   },
   "outputs": [],
   "source": [
    "exp_vol = np.sqrt(np.dot(weight, np.dot(log_returns.cov()*252,weight)))"
   ]
  },
  {
   "cell_type": "code",
   "execution_count": 213,
   "id": "5d311707-4229-40bb-9ac9-e5b4a2cc298f",
   "metadata": {
    "tags": []
   },
   "outputs": [],
   "source": [
    "sharpe_ratio = exp_rtn / exp_vol"
   ]
  },
  {
   "cell_type": "code",
   "execution_count": 214,
   "id": "c8705bfd-998b-4e28-8ca9-1818f1784dd1",
   "metadata": {
    "tags": []
   },
   "outputs": [
    {
     "data": {
      "text/plain": [
       "1.5600948458547992"
      ]
     },
     "execution_count": 214,
     "metadata": {},
     "output_type": "execute_result"
    }
   ],
   "source": [
    "sharpe_ratio"
   ]
  },
  {
   "cell_type": "code",
   "execution_count": 222,
   "id": "24cc1495-5e3f-48ec-bb20-27828537b252",
   "metadata": {
    "tags": []
   },
   "outputs": [],
   "source": [
    "# Monte Carlo Simulation\n",
    "n = 5000\n",
    "weights = np.zeros((n,4))\n",
    "exp_rtns = np.zeros(n)\n",
    "exp_vols = np.zeros(n)\n",
    "sharpe_ratios = np.zeros(n)\n",
    "\n",
    "for i in range(n):\n",
    "    weight = np.random.random(4)\n",
    "    weight /= weight.sum()\n",
    "    weights[i] = weight\n",
    "    \n",
    "    exp_rtns[i] = np.sum(log_returns.mean()*weight)*252\n",
    "    exp_vols[i] = np.sqrt(np.dot(weight, np.dot(log_returns.cov()*252,weight)))\n",
    "    sharpe_ratios[i] = exp_rtns[i] / exp_vols[i]"
   ]
  },
  {
   "cell_type": "code",
   "execution_count": 223,
   "id": "0166ab07-0490-4d66-92ed-c7b76d2547e5",
   "metadata": {
    "tags": []
   },
   "outputs": [
    {
     "data": {
      "text/plain": [
       "2.0979919557212643"
      ]
     },
     "execution_count": 223,
     "metadata": {},
     "output_type": "execute_result"
    }
   ],
   "source": [
    "sharpe_ratios.max()"
   ]
  },
  {
   "cell_type": "code",
   "execution_count": 224,
   "id": "ba37b1c4-5b94-4216-a95a-4b270b90ae13",
   "metadata": {
    "tags": []
   },
   "outputs": [
    {
     "data": {
      "text/plain": [
       "2496"
      ]
     },
     "execution_count": 224,
     "metadata": {},
     "output_type": "execute_result"
    }
   ],
   "source": [
    "sharpe_ratios.argmax()"
   ]
  },
  {
   "cell_type": "code",
   "execution_count": 225,
   "id": "3ef791c1-3bf7-4c13-9ef4-932244a5ef32",
   "metadata": {
    "tags": []
   },
   "outputs": [
    {
     "data": {
      "text/plain": [
       "array([0.01484536, 0.06592535, 0.02716635, 0.89206294])"
      ]
     },
     "execution_count": 225,
     "metadata": {},
     "output_type": "execute_result"
    }
   ],
   "source": [
    "weights[2496]"
   ]
  },
  {
   "cell_type": "code",
   "execution_count": 226,
   "id": "dbc6c08b-52d9-405f-acd8-06e74363007a",
   "metadata": {
    "tags": []
   },
   "outputs": [
    {
     "data": {
      "text/plain": [
       "Text(0, 0.5, 'Expected Return')"
      ]
     },
     "execution_count": 226,
     "metadata": {},
     "output_type": "execute_result"
    },
    {
     "data": {
      "image/png": "[encoded data removed]",
      "text/plain": [
       "<Figure size 640x480 with 1 Axes>"
      ]
     },
     "metadata": {},
     "output_type": "display_data"
    }
   ],
   "source": [
    "fig, ax = plt.subplots()\n",
    "ax.scatter(exp_vols, exp_rtns, c=sharpe_ratios)\n",
    "ax.scatter(exp_vols[sharpe_ratios.argmax()], exp_rtns[sharpe_ratios.argmax()], c='r')\n",
    "ax.set_xlabel(\"Expected Volatility\")\n",
    "ax.set_ylabel(\"Expected Return\")"
   ]
  },
  {
   "cell_type": "code",
   "execution_count": null,
   "id": "a66bcee2-9a67-47f5-a7cd-a83d2ac07810",
   "metadata": {},
   "outputs": [],
   "source": []
  }
 ],
 "metadata": {
  "kernelspec": {
   "display_name": "Python 3 (ipykernel)",
   "language": "python",
   "name": "python3"
  },
  "language_info": {
   "codemirror_mode": {
    "name": "ipython",
    "version": 3
   },
   "file_extension": ".py",
   "mimetype": "text/x-python",
   "name": "python",
   "nbconvert_exporter": "python",
   "pygments_lexer": "ipython3",
   "version": "3.10.8"
  }
 },
 "nbformat": 4,
 "nbformat_minor": 5
}
