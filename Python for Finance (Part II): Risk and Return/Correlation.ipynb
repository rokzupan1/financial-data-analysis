{
 "cells": [
  {
   "cell_type": "markdown",
   "id": "b3495c59-6861-463c-8113-1a0628c03ec0",
   "metadata": {},
   "source": [
    "#### Correlation"
   ]
  },
  {
   "cell_type": "markdown",
   "id": "6ca215ea-9495-4ba1-b228-c65804a6063c",
   "metadata": {},
   "source": [
    "* Correlation measures association, but doesn't show if x causes y or vice versa\n",
    "* Correlation is a statistic that measures the degree to which two variables move in relation to each other\n",
    "* In finance, the correlation can measure the movement of a stock with that of a benchmark index, such as the S&P 500"
   ]
  },
  {
   "cell_type": "markdown",
   "id": "f722545c-94ec-4ced-849f-59841c9891f7",
   "metadata": {},
   "source": [
    "![alt text](Correlation.png)"
   ]
  },
  {
   "cell_type": "code",
   "execution_count": 1,
   "id": "6f9a3a02-a9c2-45ca-9367-66b4c4f782b4",
   "metadata": {
    "tags": []
   },
   "outputs": [],
   "source": [
    "import pandas as pd\n",
    "import pandas_datareader as pdr\n",
    "import datetime as dt\n",
    "import numpy as np"
   ]
  },
  {
   "cell_type": "code",
   "execution_count": 3,
   "id": "41e0a60d-342d-4bf3-bbac-7e1fb9da2e8a",
   "metadata": {
    "tags": []
   },
   "outputs": [],
   "source": [
    "tickers = ['AAPL', 'BABA', 'IBM', 'MSFT']\n",
    "start = dt.datetime(2020, 1, 1)\n",
    "end = dt.datetime(2021, 3, 1)\n",
    "data = pdr.get_data_stooq(tickers, start, end)"
   ]
  },
  {
   "cell_type": "code",
   "execution_count": 4,
   "id": "7486cad2-49e1-4ddc-a98c-f45252dbe331",
   "metadata": {
    "tags": []
   },
   "outputs": [],
   "source": [
    "data = data[::-1]"
   ]
  },
  {
   "cell_type": "code",
   "execution_count": 6,
   "id": "f2752854-8c0c-46ee-9fe3-86814001f0b5",
   "metadata": {
    "tags": []
   },
   "outputs": [],
   "source": [
    "data = data['Close']"
   ]
  },
  {
   "cell_type": "code",
   "execution_count": 7,
   "id": "f0f594ed-28b5-49df-842b-4aaf20b3f012",
   "metadata": {
    "tags": []
   },
   "outputs": [
    {
     "data": {
      "text/html": [
       "<div>\n",
       "<style scoped>\n",
       "    .dataframe tbody tr th:only-of-type {\n",
       "        vertical-align: middle;\n",
       "    }\n",
       "\n",
       "    .dataframe tbody tr th {\n",
       "        vertical-align: top;\n",
       "    }\n",
       "\n",
       "    .dataframe thead th {\n",
       "        text-align: right;\n",
       "    }\n",
       "</style>\n",
       "<table border=\"1\" class=\"dataframe\">\n",
       "  <thead>\n",
       "    <tr style=\"text-align: right;\">\n",
       "      <th>Symbols</th>\n",
       "      <th>AAPL</th>\n",
       "      <th>BABA</th>\n",
       "      <th>IBM</th>\n",
       "      <th>MSFT</th>\n",
       "    </tr>\n",
       "    <tr>\n",
       "      <th>Date</th>\n",
       "      <th></th>\n",
       "      <th></th>\n",
       "      <th></th>\n",
       "      <th></th>\n",
       "    </tr>\n",
       "  </thead>\n",
       "  <tbody>\n",
       "    <tr>\n",
       "      <th>2020-01-02</th>\n",
       "      <td>73.5616</td>\n",
       "      <td>219.77</td>\n",
       "      <td>116.720</td>\n",
       "      <td>156.133</td>\n",
       "    </tr>\n",
       "    <tr>\n",
       "      <th>2020-01-03</th>\n",
       "      <td>72.8488</td>\n",
       "      <td>217.00</td>\n",
       "      <td>115.784</td>\n",
       "      <td>154.216</td>\n",
       "    </tr>\n",
       "    <tr>\n",
       "      <th>2020-01-06</th>\n",
       "      <td>73.4250</td>\n",
       "      <td>216.64</td>\n",
       "      <td>115.569</td>\n",
       "      <td>154.613</td>\n",
       "    </tr>\n",
       "    <tr>\n",
       "      <th>2020-01-07</th>\n",
       "      <td>73.0831</td>\n",
       "      <td>217.63</td>\n",
       "      <td>115.656</td>\n",
       "      <td>153.183</td>\n",
       "    </tr>\n",
       "    <tr>\n",
       "      <th>2020-01-08</th>\n",
       "      <td>74.2575</td>\n",
       "      <td>218.00</td>\n",
       "      <td>116.623</td>\n",
       "      <td>155.656</td>\n",
       "    </tr>\n",
       "    <tr>\n",
       "      <th>...</th>\n",
       "      <td>...</td>\n",
       "      <td>...</td>\n",
       "      <td>...</td>\n",
       "      <td>...</td>\n",
       "    </tr>\n",
       "    <tr>\n",
       "      <th>2021-02-23</th>\n",
       "      <td>124.5600</td>\n",
       "      <td>252.75</td>\n",
       "      <td>110.962</td>\n",
       "      <td>229.716</td>\n",
       "    </tr>\n",
       "    <tr>\n",
       "      <th>2021-02-24</th>\n",
       "      <td>124.0510</td>\n",
       "      <td>250.34</td>\n",
       "      <td>113.256</td>\n",
       "      <td>230.966</td>\n",
       "    </tr>\n",
       "    <tr>\n",
       "      <th>2021-02-25</th>\n",
       "      <td>119.7240</td>\n",
       "      <td>240.18</td>\n",
       "      <td>112.573</td>\n",
       "      <td>225.487</td>\n",
       "    </tr>\n",
       "    <tr>\n",
       "      <th>2021-02-26</th>\n",
       "      <td>119.9940</td>\n",
       "      <td>237.76</td>\n",
       "      <td>109.323</td>\n",
       "      <td>228.832</td>\n",
       "    </tr>\n",
       "    <tr>\n",
       "      <th>2021-03-01</th>\n",
       "      <td>126.4540</td>\n",
       "      <td>241.69</td>\n",
       "      <td>110.992</td>\n",
       "      <td>233.319</td>\n",
       "    </tr>\n",
       "  </tbody>\n",
       "</table>\n",
       "<p>292 rows × 4 columns</p>\n",
       "</div>"
      ],
      "text/plain": [
       "Symbols         AAPL    BABA      IBM     MSFT\n",
       "Date                                          \n",
       "2020-01-02   73.5616  219.77  116.720  156.133\n",
       "2020-01-03   72.8488  217.00  115.784  154.216\n",
       "2020-01-06   73.4250  216.64  115.569  154.613\n",
       "2020-01-07   73.0831  217.63  115.656  153.183\n",
       "2020-01-08   74.2575  218.00  116.623  155.656\n",
       "...              ...     ...      ...      ...\n",
       "2021-02-23  124.5600  252.75  110.962  229.716\n",
       "2021-02-24  124.0510  250.34  113.256  230.966\n",
       "2021-02-25  119.7240  240.18  112.573  225.487\n",
       "2021-02-26  119.9940  237.76  109.323  228.832\n",
       "2021-03-01  126.4540  241.69  110.992  233.319\n",
       "\n",
       "[292 rows x 4 columns]"
      ]
     },
     "execution_count": 7,
     "metadata": {},
     "output_type": "execute_result"
    }
   ],
   "source": [
    "data"
   ]
  },
  {
   "cell_type": "code",
   "execution_count": 8,
   "id": "5b85a089-c0b9-499d-b6f1-4689625a5b7c",
   "metadata": {
    "tags": []
   },
   "outputs": [],
   "source": [
    "log_returns = np.log(data/data.shift())"
   ]
  },
  {
   "cell_type": "code",
   "execution_count": 9,
   "id": "b4fba21b-abf1-4a1c-8ada-ecf45c606d58",
   "metadata": {
    "tags": []
   },
   "outputs": [
    {
     "data": {
      "text/html": [
       "<div>\n",
       "<style scoped>\n",
       "    .dataframe tbody tr th:only-of-type {\n",
       "        vertical-align: middle;\n",
       "    }\n",
       "\n",
       "    .dataframe tbody tr th {\n",
       "        vertical-align: top;\n",
       "    }\n",
       "\n",
       "    .dataframe thead th {\n",
       "        text-align: right;\n",
       "    }\n",
       "</style>\n",
       "<table border=\"1\" class=\"dataframe\">\n",
       "  <thead>\n",
       "    <tr style=\"text-align: right;\">\n",
       "      <th>Symbols</th>\n",
       "      <th>AAPL</th>\n",
       "      <th>BABA</th>\n",
       "      <th>IBM</th>\n",
       "      <th>MSFT</th>\n",
       "    </tr>\n",
       "    <tr>\n",
       "      <th>Date</th>\n",
       "      <th></th>\n",
       "      <th></th>\n",
       "      <th></th>\n",
       "      <th></th>\n",
       "    </tr>\n",
       "  </thead>\n",
       "  <tbody>\n",
       "    <tr>\n",
       "      <th>2020-01-02</th>\n",
       "      <td>NaN</td>\n",
       "      <td>NaN</td>\n",
       "      <td>NaN</td>\n",
       "      <td>NaN</td>\n",
       "    </tr>\n",
       "    <tr>\n",
       "      <th>2020-01-03</th>\n",
       "      <td>-0.009737</td>\n",
       "      <td>-0.012684</td>\n",
       "      <td>-0.008052</td>\n",
       "      <td>-0.012354</td>\n",
       "    </tr>\n",
       "    <tr>\n",
       "      <th>2020-01-06</th>\n",
       "      <td>0.007878</td>\n",
       "      <td>-0.001660</td>\n",
       "      <td>-0.001859</td>\n",
       "      <td>0.002571</td>\n",
       "    </tr>\n",
       "    <tr>\n",
       "      <th>2020-01-07</th>\n",
       "      <td>-0.004667</td>\n",
       "      <td>0.004559</td>\n",
       "      <td>0.000753</td>\n",
       "      <td>-0.009292</td>\n",
       "    </tr>\n",
       "    <tr>\n",
       "      <th>2020-01-08</th>\n",
       "      <td>0.015942</td>\n",
       "      <td>0.001699</td>\n",
       "      <td>0.008326</td>\n",
       "      <td>0.016015</td>\n",
       "    </tr>\n",
       "    <tr>\n",
       "      <th>...</th>\n",
       "      <td>...</td>\n",
       "      <td>...</td>\n",
       "      <td>...</td>\n",
       "      <td>...</td>\n",
       "    </tr>\n",
       "    <tr>\n",
       "      <th>2021-02-23</th>\n",
       "      <td>-0.001115</td>\n",
       "      <td>-0.004933</td>\n",
       "      <td>-0.001144</td>\n",
       "      <td>-0.005254</td>\n",
       "    </tr>\n",
       "    <tr>\n",
       "      <th>2021-02-24</th>\n",
       "      <td>-0.004095</td>\n",
       "      <td>-0.009581</td>\n",
       "      <td>0.020463</td>\n",
       "      <td>0.005427</td>\n",
       "    </tr>\n",
       "    <tr>\n",
       "      <th>2021-02-25</th>\n",
       "      <td>-0.035504</td>\n",
       "      <td>-0.041431</td>\n",
       "      <td>-0.006049</td>\n",
       "      <td>-0.024008</td>\n",
       "    </tr>\n",
       "    <tr>\n",
       "      <th>2021-02-26</th>\n",
       "      <td>0.002253</td>\n",
       "      <td>-0.010127</td>\n",
       "      <td>-0.029295</td>\n",
       "      <td>0.014726</td>\n",
       "    </tr>\n",
       "    <tr>\n",
       "      <th>2021-03-01</th>\n",
       "      <td>0.052437</td>\n",
       "      <td>0.016394</td>\n",
       "      <td>0.015151</td>\n",
       "      <td>0.019419</td>\n",
       "    </tr>\n",
       "  </tbody>\n",
       "</table>\n",
       "<p>292 rows × 4 columns</p>\n",
       "</div>"
      ],
      "text/plain": [
       "Symbols         AAPL      BABA       IBM      MSFT\n",
       "Date                                              \n",
       "2020-01-02       NaN       NaN       NaN       NaN\n",
       "2020-01-03 -0.009737 -0.012684 -0.008052 -0.012354\n",
       "2020-01-06  0.007878 -0.001660 -0.001859  0.002571\n",
       "2020-01-07 -0.004667  0.004559  0.000753 -0.009292\n",
       "2020-01-08  0.015942  0.001699  0.008326  0.016015\n",
       "...              ...       ...       ...       ...\n",
       "2021-02-23 -0.001115 -0.004933 -0.001144 -0.005254\n",
       "2021-02-24 -0.004095 -0.009581  0.020463  0.005427\n",
       "2021-02-25 -0.035504 -0.041431 -0.006049 -0.024008\n",
       "2021-02-26  0.002253 -0.010127 -0.029295  0.014726\n",
       "2021-03-01  0.052437  0.016394  0.015151  0.019419\n",
       "\n",
       "[292 rows x 4 columns]"
      ]
     },
     "execution_count": 9,
     "metadata": {},
     "output_type": "execute_result"
    }
   ],
   "source": [
    "log_returns"
   ]
  },
  {
   "cell_type": "code",
   "execution_count": 10,
   "id": "b1651653-28a8-42f1-8acf-1edb4a3f671c",
   "metadata": {
    "tags": []
   },
   "outputs": [
    {
     "data": {
      "text/html": [
       "<div>\n",
       "<style scoped>\n",
       "    .dataframe tbody tr th:only-of-type {\n",
       "        vertical-align: middle;\n",
       "    }\n",
       "\n",
       "    .dataframe tbody tr th {\n",
       "        vertical-align: top;\n",
       "    }\n",
       "\n",
       "    .dataframe thead th {\n",
       "        text-align: right;\n",
       "    }\n",
       "</style>\n",
       "<table border=\"1\" class=\"dataframe\">\n",
       "  <thead>\n",
       "    <tr style=\"text-align: right;\">\n",
       "      <th>Symbols</th>\n",
       "      <th>AAPL</th>\n",
       "      <th>BABA</th>\n",
       "      <th>IBM</th>\n",
       "      <th>MSFT</th>\n",
       "    </tr>\n",
       "    <tr>\n",
       "      <th>Symbols</th>\n",
       "      <th></th>\n",
       "      <th></th>\n",
       "      <th></th>\n",
       "      <th></th>\n",
       "    </tr>\n",
       "  </thead>\n",
       "  <tbody>\n",
       "    <tr>\n",
       "      <th>AAPL</th>\n",
       "      <td>1.000000</td>\n",
       "      <td>0.494181</td>\n",
       "      <td>0.533946</td>\n",
       "      <td>0.829827</td>\n",
       "    </tr>\n",
       "    <tr>\n",
       "      <th>BABA</th>\n",
       "      <td>0.494181</td>\n",
       "      <td>1.000000</td>\n",
       "      <td>0.332575</td>\n",
       "      <td>0.548186</td>\n",
       "    </tr>\n",
       "    <tr>\n",
       "      <th>IBM</th>\n",
       "      <td>0.533946</td>\n",
       "      <td>0.332575</td>\n",
       "      <td>1.000000</td>\n",
       "      <td>0.595718</td>\n",
       "    </tr>\n",
       "    <tr>\n",
       "      <th>MSFT</th>\n",
       "      <td>0.829827</td>\n",
       "      <td>0.548186</td>\n",
       "      <td>0.595718</td>\n",
       "      <td>1.000000</td>\n",
       "    </tr>\n",
       "  </tbody>\n",
       "</table>\n",
       "</div>"
      ],
      "text/plain": [
       "Symbols      AAPL      BABA       IBM      MSFT\n",
       "Symbols                                        \n",
       "AAPL     1.000000  0.494181  0.533946  0.829827\n",
       "BABA     0.494181  1.000000  0.332575  0.548186\n",
       "IBM      0.533946  0.332575  1.000000  0.595718\n",
       "MSFT     0.829827  0.548186  0.595718  1.000000"
      ]
     },
     "execution_count": 10,
     "metadata": {},
     "output_type": "execute_result"
    }
   ],
   "source": [
    "log_returns.corr()"
   ]
  },
  {
   "cell_type": "code",
   "execution_count": 28,
   "id": "47158733-a569-4a03-b187-ce40f2628edf",
   "metadata": {
    "tags": []
   },
   "outputs": [],
   "source": [
    "sp500 = pdr.get_data_stooq(\"^SPX\",start,end)"
   ]
  },
  {
   "cell_type": "code",
   "execution_count": 29,
   "id": "25cb3aa6-dda4-46c6-9651-400ac6b892f3",
   "metadata": {
    "tags": []
   },
   "outputs": [],
   "source": [
    "sp500 = sp500[::-1]"
   ]
  },
  {
   "cell_type": "code",
   "execution_count": 30,
   "id": "4d7fc13c-cb25-4ce4-a6fb-27ceaeedc239",
   "metadata": {
    "tags": []
   },
   "outputs": [
    {
     "data": {
      "text/html": [
       "<div>\n",
       "<style scoped>\n",
       "    .dataframe tbody tr th:only-of-type {\n",
       "        vertical-align: middle;\n",
       "    }\n",
       "\n",
       "    .dataframe tbody tr th {\n",
       "        vertical-align: top;\n",
       "    }\n",
       "\n",
       "    .dataframe thead th {\n",
       "        text-align: right;\n",
       "    }\n",
       "</style>\n",
       "<table border=\"1\" class=\"dataframe\">\n",
       "  <thead>\n",
       "    <tr style=\"text-align: right;\">\n",
       "      <th></th>\n",
       "      <th>Open</th>\n",
       "      <th>High</th>\n",
       "      <th>Low</th>\n",
       "      <th>Close</th>\n",
       "      <th>Volume</th>\n",
       "    </tr>\n",
       "    <tr>\n",
       "      <th>Date</th>\n",
       "      <th></th>\n",
       "      <th></th>\n",
       "      <th></th>\n",
       "      <th></th>\n",
       "      <th></th>\n",
       "    </tr>\n",
       "  </thead>\n",
       "  <tbody>\n",
       "    <tr>\n",
       "      <th>2020-01-02</th>\n",
       "      <td>3244.67</td>\n",
       "      <td>3258.14</td>\n",
       "      <td>3235.53</td>\n",
       "      <td>3257.85</td>\n",
       "      <td>1921250000</td>\n",
       "    </tr>\n",
       "    <tr>\n",
       "      <th>2020-01-03</th>\n",
       "      <td>3226.36</td>\n",
       "      <td>3246.15</td>\n",
       "      <td>3222.34</td>\n",
       "      <td>3234.85</td>\n",
       "      <td>1922938889</td>\n",
       "    </tr>\n",
       "    <tr>\n",
       "      <th>2020-01-06</th>\n",
       "      <td>3217.55</td>\n",
       "      <td>3246.84</td>\n",
       "      <td>3214.64</td>\n",
       "      <td>3246.28</td>\n",
       "      <td>2041150000</td>\n",
       "    </tr>\n",
       "    <tr>\n",
       "      <th>2020-01-07</th>\n",
       "      <td>3241.86</td>\n",
       "      <td>3244.91</td>\n",
       "      <td>3232.43</td>\n",
       "      <td>3237.18</td>\n",
       "      <td>1900211111</td>\n",
       "    </tr>\n",
       "    <tr>\n",
       "      <th>2020-01-08</th>\n",
       "      <td>3238.59</td>\n",
       "      <td>3267.07</td>\n",
       "      <td>3236.67</td>\n",
       "      <td>3253.05</td>\n",
       "      <td>2067161111</td>\n",
       "    </tr>\n",
       "  </tbody>\n",
       "</table>\n",
       "</div>"
      ],
      "text/plain": [
       "               Open     High      Low    Close      Volume\n",
       "Date                                                      \n",
       "2020-01-02  3244.67  3258.14  3235.53  3257.85  1921250000\n",
       "2020-01-03  3226.36  3246.15  3222.34  3234.85  1922938889\n",
       "2020-01-06  3217.55  3246.84  3214.64  3246.28  2041150000\n",
       "2020-01-07  3241.86  3244.91  3232.43  3237.18  1900211111\n",
       "2020-01-08  3238.59  3267.07  3236.67  3253.05  2067161111"
      ]
     },
     "execution_count": 30,
     "metadata": {},
     "output_type": "execute_result"
    }
   ],
   "source": [
    "sp500.head()"
   ]
  },
  {
   "cell_type": "code",
   "execution_count": 31,
   "id": "f4124c4a-2f95-45ff-a85a-2e4190684aaf",
   "metadata": {
    "tags": []
   },
   "outputs": [],
   "source": [
    "log_returns['SP500'] = np.log(sp500['Close']/sp500['Close'].shift())"
   ]
  },
  {
   "cell_type": "code",
   "execution_count": 33,
   "id": "bb7fa4f3-d34f-4705-bdaf-a3ce24c77837",
   "metadata": {
    "tags": []
   },
   "outputs": [
    {
     "data": {
      "text/html": [
       "<div>\n",
       "<style scoped>\n",
       "    .dataframe tbody tr th:only-of-type {\n",
       "        vertical-align: middle;\n",
       "    }\n",
       "\n",
       "    .dataframe tbody tr th {\n",
       "        vertical-align: top;\n",
       "    }\n",
       "\n",
       "    .dataframe thead th {\n",
       "        text-align: right;\n",
       "    }\n",
       "</style>\n",
       "<table border=\"1\" class=\"dataframe\">\n",
       "  <thead>\n",
       "    <tr style=\"text-align: right;\">\n",
       "      <th>Symbols</th>\n",
       "      <th>AAPL</th>\n",
       "      <th>BABA</th>\n",
       "      <th>IBM</th>\n",
       "      <th>MSFT</th>\n",
       "      <th>SP500</th>\n",
       "    </tr>\n",
       "    <tr>\n",
       "      <th>Symbols</th>\n",
       "      <th></th>\n",
       "      <th></th>\n",
       "      <th></th>\n",
       "      <th></th>\n",
       "      <th></th>\n",
       "    </tr>\n",
       "  </thead>\n",
       "  <tbody>\n",
       "    <tr>\n",
       "      <th>AAPL</th>\n",
       "      <td>1.000000</td>\n",
       "      <td>0.494181</td>\n",
       "      <td>0.533946</td>\n",
       "      <td>0.829827</td>\n",
       "      <td>0.818268</td>\n",
       "    </tr>\n",
       "    <tr>\n",
       "      <th>BABA</th>\n",
       "      <td>0.494181</td>\n",
       "      <td>1.000000</td>\n",
       "      <td>0.332575</td>\n",
       "      <td>0.548186</td>\n",
       "      <td>0.503329</td>\n",
       "    </tr>\n",
       "    <tr>\n",
       "      <th>IBM</th>\n",
       "      <td>0.533946</td>\n",
       "      <td>0.332575</td>\n",
       "      <td>1.000000</td>\n",
       "      <td>0.595718</td>\n",
       "      <td>0.791977</td>\n",
       "    </tr>\n",
       "    <tr>\n",
       "      <th>MSFT</th>\n",
       "      <td>0.829827</td>\n",
       "      <td>0.548186</td>\n",
       "      <td>0.595718</td>\n",
       "      <td>1.000000</td>\n",
       "      <td>0.870645</td>\n",
       "    </tr>\n",
       "    <tr>\n",
       "      <th>SP500</th>\n",
       "      <td>0.818268</td>\n",
       "      <td>0.503329</td>\n",
       "      <td>0.791977</td>\n",
       "      <td>0.870645</td>\n",
       "      <td>1.000000</td>\n",
       "    </tr>\n",
       "  </tbody>\n",
       "</table>\n",
       "</div>"
      ],
      "text/plain": [
       "Symbols      AAPL      BABA       IBM      MSFT     SP500\n",
       "Symbols                                                  \n",
       "AAPL     1.000000  0.494181  0.533946  0.829827  0.818268\n",
       "BABA     0.494181  1.000000  0.332575  0.548186  0.503329\n",
       "IBM      0.533946  0.332575  1.000000  0.595718  0.791977\n",
       "MSFT     0.829827  0.548186  0.595718  1.000000  0.870645\n",
       "SP500    0.818268  0.503329  0.791977  0.870645  1.000000"
      ]
     },
     "execution_count": 33,
     "metadata": {},
     "output_type": "execute_result"
    }
   ],
   "source": [
    "log_returns.corr()"
   ]
  },
  {
   "cell_type": "code",
   "execution_count": 48,
   "id": "a7935472-6830-4efc-8a6b-28bafda67887",
   "metadata": {
    "tags": []
   },
   "outputs": [],
   "source": [
    "def test_correlation(ticker):\n",
    "    df = pdr.get_data_stooq(ticker, start)\n",
    "    df = df[::-1]\n",
    "    lr = log_returns.copy()\n",
    "    lr[ticker] = np.log(df['Close']/df['Close'].shift())\n",
    "    return lr.corr()"
   ]
  },
  {
   "cell_type": "code",
   "execution_count": 50,
   "id": "5e122f52-3c36-4e02-bd03-e5f67108a763",
   "metadata": {
    "tags": []
   },
   "outputs": [
    {
     "data": {
      "text/html": [
       "<div>\n",
       "<style scoped>\n",
       "    .dataframe tbody tr th:only-of-type {\n",
       "        vertical-align: middle;\n",
       "    }\n",
       "\n",
       "    .dataframe tbody tr th {\n",
       "        vertical-align: top;\n",
       "    }\n",
       "\n",
       "    .dataframe thead th {\n",
       "        text-align: right;\n",
       "    }\n",
       "</style>\n",
       "<table border=\"1\" class=\"dataframe\">\n",
       "  <thead>\n",
       "    <tr style=\"text-align: right;\">\n",
       "      <th>Symbols</th>\n",
       "      <th>AAPL</th>\n",
       "      <th>BABA</th>\n",
       "      <th>IBM</th>\n",
       "      <th>MSFT</th>\n",
       "      <th>SP500</th>\n",
       "      <th>TLT</th>\n",
       "    </tr>\n",
       "    <tr>\n",
       "      <th>Symbols</th>\n",
       "      <th></th>\n",
       "      <th></th>\n",
       "      <th></th>\n",
       "      <th></th>\n",
       "      <th></th>\n",
       "      <th></th>\n",
       "    </tr>\n",
       "  </thead>\n",
       "  <tbody>\n",
       "    <tr>\n",
       "      <th>AAPL</th>\n",
       "      <td>1.000000</td>\n",
       "      <td>0.494181</td>\n",
       "      <td>0.533946</td>\n",
       "      <td>0.829827</td>\n",
       "      <td>0.818268</td>\n",
       "      <td>-0.350307</td>\n",
       "    </tr>\n",
       "    <tr>\n",
       "      <th>BABA</th>\n",
       "      <td>0.494181</td>\n",
       "      <td>1.000000</td>\n",
       "      <td>0.332575</td>\n",
       "      <td>0.548186</td>\n",
       "      <td>0.503329</td>\n",
       "      <td>-0.205355</td>\n",
       "    </tr>\n",
       "    <tr>\n",
       "      <th>IBM</th>\n",
       "      <td>0.533946</td>\n",
       "      <td>0.332575</td>\n",
       "      <td>1.000000</td>\n",
       "      <td>0.595718</td>\n",
       "      <td>0.791977</td>\n",
       "      <td>-0.444726</td>\n",
       "    </tr>\n",
       "    <tr>\n",
       "      <th>MSFT</th>\n",
       "      <td>0.829827</td>\n",
       "      <td>0.548186</td>\n",
       "      <td>0.595718</td>\n",
       "      <td>1.000000</td>\n",
       "      <td>0.870645</td>\n",
       "      <td>-0.355313</td>\n",
       "    </tr>\n",
       "    <tr>\n",
       "      <th>SP500</th>\n",
       "      <td>0.818268</td>\n",
       "      <td>0.503329</td>\n",
       "      <td>0.791977</td>\n",
       "      <td>0.870645</td>\n",
       "      <td>1.000000</td>\n",
       "      <td>-0.460005</td>\n",
       "    </tr>\n",
       "    <tr>\n",
       "      <th>TLT</th>\n",
       "      <td>-0.350307</td>\n",
       "      <td>-0.205355</td>\n",
       "      <td>-0.444726</td>\n",
       "      <td>-0.355313</td>\n",
       "      <td>-0.460005</td>\n",
       "      <td>1.000000</td>\n",
       "    </tr>\n",
       "  </tbody>\n",
       "</table>\n",
       "</div>"
      ],
      "text/plain": [
       "Symbols      AAPL      BABA       IBM      MSFT     SP500       TLT\n",
       "Symbols                                                            \n",
       "AAPL     1.000000  0.494181  0.533946  0.829827  0.818268 -0.350307\n",
       "BABA     0.494181  1.000000  0.332575  0.548186  0.503329 -0.205355\n",
       "IBM      0.533946  0.332575  1.000000  0.595718  0.791977 -0.444726\n",
       "MSFT     0.829827  0.548186  0.595718  1.000000  0.870645 -0.355313\n",
       "SP500    0.818268  0.503329  0.791977  0.870645  1.000000 -0.460005\n",
       "TLT     -0.350307 -0.205355 -0.444726 -0.355313 -0.460005  1.000000"
      ]
     },
     "execution_count": 50,
     "metadata": {},
     "output_type": "execute_result"
    }
   ],
   "source": [
    "test_correlation(\"TLT\")"
   ]
  },
  {
   "cell_type": "code",
   "execution_count": 51,
   "id": "a15ef318-1f05-4939-81e7-4291de9e817a",
   "metadata": {
    "tags": []
   },
   "outputs": [],
   "source": [
    "import matplotlib.pyplot as plt\n",
    "%matplotlib inline"
   ]
  },
  {
   "cell_type": "code",
   "execution_count": 54,
   "id": "690244fc-7a62-4d3c-ba0a-ad600b067201",
   "metadata": {
    "tags": []
   },
   "outputs": [],
   "source": [
    "def visualize_correlation(ticker1, ticker2):\n",
    "    df = pdr.get_data_stooq([ticker1, ticker2],start,end)\n",
    "    df = df[::-1]\n",
    "    df = df['Close']\n",
    "    df = df/df.iloc[0]\n",
    "    fig, ax = plt.subplots()\n",
    "    df.plot(ax = ax)"
   ]
  },
  {
   "cell_type": "code",
   "execution_count": 55,
   "id": "6a6544c4-e295-4bc7-8479-4a1a8432db4f",
   "metadata": {
    "tags": []
   },
   "outputs": [
    {
     "data": {
      "image/png": "[encoded data removed]",
      "text/plain": [
       "<Figure size 640x480 with 1 Axes>"
      ]
     },
     "metadata": {},
     "output_type": "display_data"
    }
   ],
   "source": [
    "visualize_correlation(\"AAPL\", \"TLT\")"
   ]
  },
  {
   "cell_type": "code",
   "execution_count": 56,
   "id": "148ba2f9-9f76-42b1-8268-48c8486c0a02",
   "metadata": {
    "tags": []
   },
   "outputs": [
    {
     "data": {
      "image/png": "[encoded data removed]",
      "text/plain": [
       "<Figure size 640x480 with 1 Axes>"
      ]
     },
     "metadata": {},
     "output_type": "display_data"
    }
   ],
   "source": [
    "visualize_correlation(\"^SPX\",\"TLT\")"
   ]
  },
  {
   "cell_type": "code",
   "execution_count": null,
   "id": "beef02fa-169f-4003-bfa5-e666e699b3cb",
   "metadata": {},
   "outputs": [],
   "source": []
  }
 ],
 "metadata": {
  "kernelspec": {
   "display_name": "Python 3 (ipykernel)",
   "language": "python",
   "name": "python3"
  },
  "language_info": {
   "codemirror_mode": {
    "name": "ipython",
    "version": 3
   },
   "file_extension": ".py",
   "mimetype": "text/x-python",
   "name": "python",
   "nbconvert_exporter": "python",
   "pygments_lexer": "ipython3",
   "version": "3.10.8"
  }
 },
 "nbformat": 4,
 "nbformat_minor": 5
}
