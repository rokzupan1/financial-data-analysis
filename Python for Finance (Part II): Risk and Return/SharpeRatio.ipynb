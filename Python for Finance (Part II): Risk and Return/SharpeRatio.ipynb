{
 "cells": [
  {
   "cell_type": "markdown",
   "id": "f6afd93f-1372-4015-9ec1-b52b84a245b1",
   "metadata": {},
   "source": [
    "##### Sharpe Ratio\n",
    "\n",
    "* Represents both risk and return\n",
    "* Developed by Nobel laureate William F. Sharpe and is used to help investors understand the return of an investment compared to it risk"
   ]
  },
  {
   "cell_type": "markdown",
   "id": "29451d56-afbf-4684-b56b-2915ee3fceac",
   "metadata": {},
   "source": [
    "##### Formula"
   ]
  },
  {
   "cell_type": "markdown",
   "id": "00819da4-1119-44a9-9e57-69066f8b0b04",
   "metadata": {},
   "source": [
    "The goal is to get high Sharpe Ratio\n",
    "\n",
    "![alt text](SharpeRatio.png)"
   ]
  },
  {
   "cell_type": "markdown",
   "id": "ce67c54e-7565-4e68-b455-7a0bbe1d4e27",
   "metadata": {},
   "source": [
    "##### Need to understand"
   ]
  },
  {
   "cell_type": "markdown",
   "id": "e9afbc3b-1482-41a4-8f7a-c21369a205bd",
   "metadata": {},
   "source": [
    "* Portfolio return (done in part 1)\n",
    "* Risk free return\n",
    "* Standard deviation of portfolio (or the risk)\n",
    "\n",
    "##### Resources\n",
    "\n",
    "* **Risk free return** 10 year Treasury Note \n",
    "* Sharpe Ratio https://www.investopedia.com/terms/s/sharperatio.asp\n",
    "* Standard deviation https://www.investopedia.com/terms/s/standarddeviation.asp"
   ]
  },
  {
   "cell_type": "code",
   "execution_count": 1,
   "id": "ee828dfd-21f7-44af-a34b-f233093acfc1",
   "metadata": {
    "tags": []
   },
   "outputs": [],
   "source": [
    "import pandas as pd\n",
    "import numpy as np\n",
    "import pandas_datareader as pdr\n",
    "import datetime as dt"
   ]
  },
  {
   "cell_type": "code",
   "execution_count": 6,
   "id": "9596d7a7-1471-4c6b-a02b-3c3423b54058",
   "metadata": {
    "tags": []
   },
   "outputs": [],
   "source": [
    "tickers = [\"AAPL\", \"MSFT\", \"IBM\"]\n",
    "start = dt.datetime(2021,1,1)\n",
    "\n",
    "data = pdr.get_data_stooq(tickers,start)"
   ]
  },
  {
   "cell_type": "code",
   "execution_count": 7,
   "id": "48082bd0-ef35-4af2-bc28-0e50389e3afa",
   "metadata": {
    "tags": []
   },
   "outputs": [],
   "source": [
    "data = data[::-1]"
   ]
  },
  {
   "cell_type": "code",
   "execution_count": 8,
   "id": "76af827b-e445-41d7-9da1-d6b3423796e4",
   "metadata": {
    "tags": []
   },
   "outputs": [
    {
     "data": {
      "text/html": [
       "<div>\n",
       "<style scoped>\n",
       "    .dataframe tbody tr th:only-of-type {\n",
       "        vertical-align: middle;\n",
       "    }\n",
       "\n",
       "    .dataframe tbody tr th {\n",
       "        vertical-align: top;\n",
       "    }\n",
       "\n",
       "    .dataframe thead tr th {\n",
       "        text-align: left;\n",
       "    }\n",
       "\n",
       "    .dataframe thead tr:last-of-type th {\n",
       "        text-align: right;\n",
       "    }\n",
       "</style>\n",
       "<table border=\"1\" class=\"dataframe\">\n",
       "  <thead>\n",
       "    <tr>\n",
       "      <th>Attributes</th>\n",
       "      <th colspan=\"3\" halign=\"left\">Close</th>\n",
       "      <th colspan=\"3\" halign=\"left\">High</th>\n",
       "      <th colspan=\"3\" halign=\"left\">Low</th>\n",
       "      <th colspan=\"3\" halign=\"left\">Open</th>\n",
       "      <th colspan=\"3\" halign=\"left\">Volume</th>\n",
       "    </tr>\n",
       "    <tr>\n",
       "      <th>Symbols</th>\n",
       "      <th>AAPL</th>\n",
       "      <th>MSFT</th>\n",
       "      <th>IBM</th>\n",
       "      <th>AAPL</th>\n",
       "      <th>MSFT</th>\n",
       "      <th>IBM</th>\n",
       "      <th>AAPL</th>\n",
       "      <th>MSFT</th>\n",
       "      <th>IBM</th>\n",
       "      <th>AAPL</th>\n",
       "      <th>MSFT</th>\n",
       "      <th>IBM</th>\n",
       "      <th>AAPL</th>\n",
       "      <th>MSFT</th>\n",
       "      <th>IBM</th>\n",
       "    </tr>\n",
       "    <tr>\n",
       "      <th>Date</th>\n",
       "      <th></th>\n",
       "      <th></th>\n",
       "      <th></th>\n",
       "      <th></th>\n",
       "      <th></th>\n",
       "      <th></th>\n",
       "      <th></th>\n",
       "      <th></th>\n",
       "      <th></th>\n",
       "      <th></th>\n",
       "      <th></th>\n",
       "      <th></th>\n",
       "      <th></th>\n",
       "      <th></th>\n",
       "      <th></th>\n",
       "    </tr>\n",
       "  </thead>\n",
       "  <tbody>\n",
       "    <tr>\n",
       "      <th>2021-01-04</th>\n",
       "      <td>127.880</td>\n",
       "      <td>213.881</td>\n",
       "      <td>112.435</td>\n",
       "      <td>132.027</td>\n",
       "      <td>219.104</td>\n",
       "      <td>114.222</td>\n",
       "      <td>125.268</td>\n",
       "      <td>211.052</td>\n",
       "      <td>111.616</td>\n",
       "      <td>131.937</td>\n",
       "      <td>218.637</td>\n",
       "      <td>114.154</td>\n",
       "      <td>1.450221e+08</td>\n",
       "      <td>3.779221e+07</td>\n",
       "      <td>5.709524e+06</td>\n",
       "    </tr>\n",
       "    <tr>\n",
       "      <th>2021-01-05</th>\n",
       "      <td>129.445</td>\n",
       "      <td>214.080</td>\n",
       "      <td>114.427</td>\n",
       "      <td>130.173</td>\n",
       "      <td>214.686</td>\n",
       "      <td>114.905</td>\n",
       "      <td>126.902</td>\n",
       "      <td>211.916</td>\n",
       "      <td>113.041</td>\n",
       "      <td>127.362</td>\n",
       "      <td>213.464</td>\n",
       "      <td>113.392</td>\n",
       "      <td>9.883730e+07</td>\n",
       "      <td>2.424774e+07</td>\n",
       "      <td>6.740776e+06</td>\n",
       "    </tr>\n",
       "    <tr>\n",
       "      <th>2021-01-06</th>\n",
       "      <td>125.108</td>\n",
       "      <td>208.530</td>\n",
       "      <td>117.277</td>\n",
       "      <td>129.485</td>\n",
       "      <td>212.700</td>\n",
       "      <td>119.629</td>\n",
       "      <td>124.889</td>\n",
       "      <td>208.233</td>\n",
       "      <td>114.945</td>\n",
       "      <td>126.195</td>\n",
       "      <td>208.461</td>\n",
       "      <td>115.119</td>\n",
       "      <td>1.569497e+08</td>\n",
       "      <td>3.657133e+07</td>\n",
       "      <td>8.771536e+06</td>\n",
       "    </tr>\n",
       "    <tr>\n",
       "      <th>2021-01-07</th>\n",
       "      <td>129.355</td>\n",
       "      <td>214.458</td>\n",
       "      <td>117.013</td>\n",
       "      <td>130.063</td>\n",
       "      <td>215.500</td>\n",
       "      <td>118.340</td>\n",
       "      <td>126.334</td>\n",
       "      <td>209.960</td>\n",
       "      <td>116.350</td>\n",
       "      <td>126.834</td>\n",
       "      <td>210.287</td>\n",
       "      <td>117.969</td>\n",
       "      <td>1.108936e+08</td>\n",
       "      <td>2.818830e+07</td>\n",
       "      <td>4.968954e+06</td>\n",
       "    </tr>\n",
       "    <tr>\n",
       "      <th>2021-01-08</th>\n",
       "      <td>130.482</td>\n",
       "      <td>215.778</td>\n",
       "      <td>116.593</td>\n",
       "      <td>131.061</td>\n",
       "      <td>216.711</td>\n",
       "      <td>117.296</td>\n",
       "      <td>128.698</td>\n",
       "      <td>213.236</td>\n",
       "      <td>115.198</td>\n",
       "      <td>130.861</td>\n",
       "      <td>214.845</td>\n",
       "      <td>116.623</td>\n",
       "      <td>1.064206e+08</td>\n",
       "      <td>2.336554e+07</td>\n",
       "      <td>5.155374e+06</td>\n",
       "    </tr>\n",
       "  </tbody>\n",
       "</table>\n",
       "</div>"
      ],
      "text/plain": [
       "Attributes    Close                       High                        Low  \\\n",
       "Symbols        AAPL     MSFT      IBM     AAPL     MSFT      IBM     AAPL   \n",
       "Date                                                                        \n",
       "2021-01-04  127.880  213.881  112.435  132.027  219.104  114.222  125.268   \n",
       "2021-01-05  129.445  214.080  114.427  130.173  214.686  114.905  126.902   \n",
       "2021-01-06  125.108  208.530  117.277  129.485  212.700  119.629  124.889   \n",
       "2021-01-07  129.355  214.458  117.013  130.063  215.500  118.340  126.334   \n",
       "2021-01-08  130.482  215.778  116.593  131.061  216.711  117.296  128.698   \n",
       "\n",
       "Attributes                       Open                          Volume  \\\n",
       "Symbols        MSFT      IBM     AAPL     MSFT      IBM          AAPL   \n",
       "Date                                                                    \n",
       "2021-01-04  211.052  111.616  131.937  218.637  114.154  1.450221e+08   \n",
       "2021-01-05  211.916  113.041  127.362  213.464  113.392  9.883730e+07   \n",
       "2021-01-06  208.233  114.945  126.195  208.461  115.119  1.569497e+08   \n",
       "2021-01-07  209.960  116.350  126.834  210.287  117.969  1.108936e+08   \n",
       "2021-01-08  213.236  115.198  130.861  214.845  116.623  1.064206e+08   \n",
       "\n",
       "Attributes                              \n",
       "Symbols             MSFT           IBM  \n",
       "Date                                    \n",
       "2021-01-04  3.779221e+07  5.709524e+06  \n",
       "2021-01-05  2.424774e+07  6.740776e+06  \n",
       "2021-01-06  3.657133e+07  8.771536e+06  \n",
       "2021-01-07  2.818830e+07  4.968954e+06  \n",
       "2021-01-08  2.336554e+07  5.155374e+06  "
      ]
     },
     "execution_count": 8,
     "metadata": {},
     "output_type": "execute_result"
    }
   ],
   "source": [
    "data.head()"
   ]
  },
  {
   "cell_type": "code",
   "execution_count": 9,
   "id": "b8b044a1-7585-4c1a-835a-43f7384a3f45",
   "metadata": {
    "tags": []
   },
   "outputs": [],
   "source": [
    "data = data['Close']"
   ]
  },
  {
   "cell_type": "code",
   "execution_count": 10,
   "id": "4214e24e-253e-47f8-af8c-3cc3aca7a6e7",
   "metadata": {
    "tags": []
   },
   "outputs": [
    {
     "data": {
      "text/html": [
       "<div>\n",
       "<style scoped>\n",
       "    .dataframe tbody tr th:only-of-type {\n",
       "        vertical-align: middle;\n",
       "    }\n",
       "\n",
       "    .dataframe tbody tr th {\n",
       "        vertical-align: top;\n",
       "    }\n",
       "\n",
       "    .dataframe thead th {\n",
       "        text-align: right;\n",
       "    }\n",
       "</style>\n",
       "<table border=\"1\" class=\"dataframe\">\n",
       "  <thead>\n",
       "    <tr style=\"text-align: right;\">\n",
       "      <th>Symbols</th>\n",
       "      <th>AAPL</th>\n",
       "      <th>MSFT</th>\n",
       "      <th>IBM</th>\n",
       "    </tr>\n",
       "    <tr>\n",
       "      <th>Date</th>\n",
       "      <th></th>\n",
       "      <th></th>\n",
       "      <th></th>\n",
       "    </tr>\n",
       "  </thead>\n",
       "  <tbody>\n",
       "    <tr>\n",
       "      <th>2021-01-04</th>\n",
       "      <td>127.880</td>\n",
       "      <td>213.881</td>\n",
       "      <td>112.435</td>\n",
       "    </tr>\n",
       "    <tr>\n",
       "      <th>2021-01-05</th>\n",
       "      <td>129.445</td>\n",
       "      <td>214.080</td>\n",
       "      <td>114.427</td>\n",
       "    </tr>\n",
       "    <tr>\n",
       "      <th>2021-01-06</th>\n",
       "      <td>125.108</td>\n",
       "      <td>208.530</td>\n",
       "      <td>117.277</td>\n",
       "    </tr>\n",
       "    <tr>\n",
       "      <th>2021-01-07</th>\n",
       "      <td>129.355</td>\n",
       "      <td>214.458</td>\n",
       "      <td>117.013</td>\n",
       "    </tr>\n",
       "    <tr>\n",
       "      <th>2021-01-08</th>\n",
       "      <td>130.482</td>\n",
       "      <td>215.778</td>\n",
       "      <td>116.593</td>\n",
       "    </tr>\n",
       "    <tr>\n",
       "      <th>...</th>\n",
       "      <td>...</td>\n",
       "      <td>...</td>\n",
       "      <td>...</td>\n",
       "    </tr>\n",
       "    <tr>\n",
       "      <th>2023-03-08</th>\n",
       "      <td>152.870</td>\n",
       "      <td>253.700</td>\n",
       "      <td>128.050</td>\n",
       "    </tr>\n",
       "    <tr>\n",
       "      <th>2023-03-09</th>\n",
       "      <td>150.590</td>\n",
       "      <td>252.320</td>\n",
       "      <td>126.160</td>\n",
       "    </tr>\n",
       "    <tr>\n",
       "      <th>2023-03-10</th>\n",
       "      <td>148.500</td>\n",
       "      <td>248.590</td>\n",
       "      <td>125.450</td>\n",
       "    </tr>\n",
       "    <tr>\n",
       "      <th>2023-03-13</th>\n",
       "      <td>150.470</td>\n",
       "      <td>253.920</td>\n",
       "      <td>125.580</td>\n",
       "    </tr>\n",
       "    <tr>\n",
       "      <th>2023-03-14</th>\n",
       "      <td>152.590</td>\n",
       "      <td>260.790</td>\n",
       "      <td>124.650</td>\n",
       "    </tr>\n",
       "  </tbody>\n",
       "</table>\n",
       "<p>552 rows × 3 columns</p>\n",
       "</div>"
      ],
      "text/plain": [
       "Symbols        AAPL     MSFT      IBM\n",
       "Date                                 \n",
       "2021-01-04  127.880  213.881  112.435\n",
       "2021-01-05  129.445  214.080  114.427\n",
       "2021-01-06  125.108  208.530  117.277\n",
       "2021-01-07  129.355  214.458  117.013\n",
       "2021-01-08  130.482  215.778  116.593\n",
       "...             ...      ...      ...\n",
       "2023-03-08  152.870  253.700  128.050\n",
       "2023-03-09  150.590  252.320  126.160\n",
       "2023-03-10  148.500  248.590  125.450\n",
       "2023-03-13  150.470  253.920  125.580\n",
       "2023-03-14  152.590  260.790  124.650\n",
       "\n",
       "[552 rows x 3 columns]"
      ]
     },
     "execution_count": 10,
     "metadata": {},
     "output_type": "execute_result"
    }
   ],
   "source": [
    "data"
   ]
  },
  {
   "cell_type": "code",
   "execution_count": 11,
   "id": "872b5cd2-62e4-40a4-90aa-a8c88977f51f",
   "metadata": {
    "tags": []
   },
   "outputs": [],
   "source": [
    "portfolio = [0.40,0.35,0.25]"
   ]
  },
  {
   "cell_type": "code",
   "execution_count": 12,
   "id": "3890c0dc-220d-4d50-abc6-f27b19df67b0",
   "metadata": {
    "tags": []
   },
   "outputs": [
    {
     "data": {
      "text/plain": [
       "1.0"
      ]
     },
     "execution_count": 12,
     "metadata": {},
     "output_type": "execute_result"
    }
   ],
   "source": [
    "np.sum(portfolio)"
   ]
  },
  {
   "cell_type": "code",
   "execution_count": 15,
   "id": "ce70f1f3-b440-4830-853a-c377505822fd",
   "metadata": {
    "tags": []
   },
   "outputs": [
    {
     "data": {
      "text/html": [
       "<div>\n",
       "<style scoped>\n",
       "    .dataframe tbody tr th:only-of-type {\n",
       "        vertical-align: middle;\n",
       "    }\n",
       "\n",
       "    .dataframe tbody tr th {\n",
       "        vertical-align: top;\n",
       "    }\n",
       "\n",
       "    .dataframe thead th {\n",
       "        text-align: right;\n",
       "    }\n",
       "</style>\n",
       "<table border=\"1\" class=\"dataframe\">\n",
       "  <thead>\n",
       "    <tr style=\"text-align: right;\">\n",
       "      <th>Symbols</th>\n",
       "      <th>AAPL</th>\n",
       "      <th>MSFT</th>\n",
       "      <th>IBM</th>\n",
       "    </tr>\n",
       "    <tr>\n",
       "      <th>Date</th>\n",
       "      <th></th>\n",
       "      <th></th>\n",
       "      <th></th>\n",
       "    </tr>\n",
       "  </thead>\n",
       "  <tbody>\n",
       "    <tr>\n",
       "      <th>2021-01-04</th>\n",
       "      <td>NaN</td>\n",
       "      <td>NaN</td>\n",
       "      <td>NaN</td>\n",
       "    </tr>\n",
       "    <tr>\n",
       "      <th>2021-01-05</th>\n",
       "      <td>0.012164</td>\n",
       "      <td>0.000930</td>\n",
       "      <td>0.017562</td>\n",
       "    </tr>\n",
       "    <tr>\n",
       "      <th>2021-01-06</th>\n",
       "      <td>-0.034079</td>\n",
       "      <td>-0.026267</td>\n",
       "      <td>0.024602</td>\n",
       "    </tr>\n",
       "    <tr>\n",
       "      <th>2021-01-07</th>\n",
       "      <td>0.033383</td>\n",
       "      <td>0.028031</td>\n",
       "      <td>-0.002254</td>\n",
       "    </tr>\n",
       "    <tr>\n",
       "      <th>2021-01-08</th>\n",
       "      <td>0.008675</td>\n",
       "      <td>0.006136</td>\n",
       "      <td>-0.003596</td>\n",
       "    </tr>\n",
       "    <tr>\n",
       "      <th>...</th>\n",
       "      <td>...</td>\n",
       "      <td>...</td>\n",
       "      <td>...</td>\n",
       "    </tr>\n",
       "    <tr>\n",
       "      <th>2023-03-08</th>\n",
       "      <td>0.008342</td>\n",
       "      <td>-0.001772</td>\n",
       "      <td>-0.001561</td>\n",
       "    </tr>\n",
       "    <tr>\n",
       "      <th>2023-03-09</th>\n",
       "      <td>-0.015027</td>\n",
       "      <td>-0.005454</td>\n",
       "      <td>-0.014870</td>\n",
       "    </tr>\n",
       "    <tr>\n",
       "      <th>2023-03-10</th>\n",
       "      <td>-0.013976</td>\n",
       "      <td>-0.014893</td>\n",
       "      <td>-0.005644</td>\n",
       "    </tr>\n",
       "    <tr>\n",
       "      <th>2023-03-13</th>\n",
       "      <td>0.013179</td>\n",
       "      <td>0.021214</td>\n",
       "      <td>0.001036</td>\n",
       "    </tr>\n",
       "    <tr>\n",
       "      <th>2023-03-14</th>\n",
       "      <td>0.013991</td>\n",
       "      <td>0.026696</td>\n",
       "      <td>-0.007433</td>\n",
       "    </tr>\n",
       "  </tbody>\n",
       "</table>\n",
       "<p>552 rows × 3 columns</p>\n",
       "</div>"
      ],
      "text/plain": [
       "Symbols         AAPL      MSFT       IBM\n",
       "Date                                    \n",
       "2021-01-04       NaN       NaN       NaN\n",
       "2021-01-05  0.012164  0.000930  0.017562\n",
       "2021-01-06 -0.034079 -0.026267  0.024602\n",
       "2021-01-07  0.033383  0.028031 -0.002254\n",
       "2021-01-08  0.008675  0.006136 -0.003596\n",
       "...              ...       ...       ...\n",
       "2023-03-08  0.008342 -0.001772 -0.001561\n",
       "2023-03-09 -0.015027 -0.005454 -0.014870\n",
       "2023-03-10 -0.013976 -0.014893 -0.005644\n",
       "2023-03-13  0.013179  0.021214  0.001036\n",
       "2023-03-14  0.013991  0.026696 -0.007433\n",
       "\n",
       "[552 rows x 3 columns]"
      ]
     },
     "execution_count": 15,
     "metadata": {},
     "output_type": "execute_result"
    }
   ],
   "source": [
    "np.log(data/data.shift()) #percentage change"
   ]
  },
  {
   "cell_type": "code",
   "execution_count": 18,
   "id": "af2b3143-f486-464c-b12c-36d4e6deb6a3",
   "metadata": {
    "tags": []
   },
   "outputs": [
    {
     "data": {
      "text/plain": [
       "Date\n",
       "2021-01-04    0.000000\n",
       "2021-01-05    0.009581\n",
       "2021-01-06   -0.016674\n",
       "2021-01-07    0.022601\n",
       "2021-01-08    0.004719\n",
       "                ...   \n",
       "2023-03-08    0.002327\n",
       "2023-03-09   -0.011637\n",
       "2023-03-10   -0.012214\n",
       "2023-03-13    0.012955\n",
       "2023-03-14    0.013082\n",
       "Length: 552, dtype: float64"
      ]
     },
     "execution_count": 18,
     "metadata": {},
     "output_type": "execute_result"
    }
   ],
   "source": [
    "np.sum(np.log(data/data.shift())*portfolio,axis=1)"
   ]
  },
  {
   "cell_type": "code",
   "execution_count": 20,
   "id": "e5a7a3db-89c2-471a-bb53-b152483ac3a5",
   "metadata": {
    "tags": []
   },
   "outputs": [
    {
     "data": {
      "text/plain": [
       "Date\n",
       "2021-01-04    0.000000\n",
       "2021-01-05    0.009581\n",
       "2021-01-06   -0.016674\n",
       "2021-01-07    0.022601\n",
       "2021-01-08    0.004719\n",
       "                ...   \n",
       "2023-03-08    0.002327\n",
       "2023-03-09   -0.011637\n",
       "2023-03-10   -0.012214\n",
       "2023-03-13    0.012955\n",
       "2023-03-14    0.013082\n",
       "Length: 552, dtype: float64"
      ]
     },
     "execution_count": 20,
     "metadata": {},
     "output_type": "execute_result"
    }
   ],
   "source": [
    "log_return = np.sum(np.log(data/data.shift())*portfolio,axis=1)\n",
    "log_return"
   ]
  },
  {
   "cell_type": "code",
   "execution_count": 21,
   "id": "14a907b2-365a-4dc2-a4ab-9237d6186761",
   "metadata": {
    "tags": []
   },
   "outputs": [],
   "source": [
    "import matplotlib.pyplot as plt\n",
    "%matplotlib inline"
   ]
  },
  {
   "cell_type": "code",
   "execution_count": 22,
   "id": "43d23021-4b10-4896-99ce-ba72dfbbdef5",
   "metadata": {
    "tags": []
   },
   "outputs": [
    {
     "data": {
      "text/plain": [
       "<AxesSubplot: >"
      ]
     },
     "execution_count": 22,
     "metadata": {},
     "output_type": "execute_result"
    },
    {
     "data": {
      "image/png": "[encoded data removed]",
      "text/plain": [
       "<Figure size 640x480 with 1 Axes>"
      ]
     },
     "metadata": {},
     "output_type": "display_data"
    }
   ],
   "source": [
    "fig, ax=plt.subplots()\n",
    "log_return.hist(bins=50,ax=ax)"
   ]
  },
  {
   "cell_type": "code",
   "execution_count": 23,
   "id": "0971c74b-08b4-4e27-a1ec-9fe388dbbab3",
   "metadata": {
    "tags": []
   },
   "outputs": [
    {
     "data": {
      "text/plain": [
       "0.014773204094032428"
      ]
     },
     "execution_count": 23,
     "metadata": {},
     "output_type": "execute_result"
    }
   ],
   "source": [
    "log_return.std()"
   ]
  },
  {
   "cell_type": "code",
   "execution_count": 24,
   "id": "8f5ebb54-8eec-4cbd-bf65-b298761c2bb5",
   "metadata": {
    "tags": []
   },
   "outputs": [
    {
     "data": {
      "text/plain": [
       "0.00030045658154831493"
      ]
     },
     "execution_count": 24,
     "metadata": {},
     "output_type": "execute_result"
    }
   ],
   "source": [
    "log_return.mean()"
   ]
  },
  {
   "cell_type": "code",
   "execution_count": 30,
   "id": "98dbbcc7-1021-40e3-b8b2-808d2f2655f4",
   "metadata": {
    "tags": []
   },
   "outputs": [
    {
     "data": {
      "text/plain": [
       "0.020337942915828466"
      ]
     },
     "execution_count": 30,
     "metadata": {},
     "output_type": "execute_result"
    }
   ],
   "source": [
    "sharpe_ratio = log_return.mean()/log_return.std()\n",
    "sharpe_ratio"
   ]
  },
  {
   "cell_type": "code",
   "execution_count": 48,
   "id": "539727a6-b644-4ee0-ae55-923d75dc9321",
   "metadata": {
    "tags": []
   },
   "outputs": [
    {
     "data": {
      "text/plain": [
       "0.32285483480345983"
      ]
     },
     "execution_count": 48,
     "metadata": {},
     "output_type": "execute_result"
    }
   ],
   "source": [
    "asr = sharpe_ratio*252**.5\n",
    "asr"
   ]
  },
  {
   "cell_type": "code",
   "execution_count": 53,
   "id": "a7e29d7c-6964-46ca-8fb4-2cc8e9d785c7",
   "metadata": {
    "tags": []
   },
   "outputs": [
    {
     "data": {
      "text/plain": [
       "array([0.39251191, 0.47968658, 0.12780152])"
      ]
     },
     "execution_count": 53,
     "metadata": {},
     "output_type": "execute_result"
    }
   ],
   "source": [
    "weight = np.random.random(3)\n",
    "weight /= weight.sum()\n",
    "weight"
   ]
  },
  {
   "cell_type": "code",
   "execution_count": 54,
   "id": "1790a417-da8d-420c-ad2e-be941a7f93ea",
   "metadata": {
    "tags": []
   },
   "outputs": [],
   "source": [
    "log_return2 = np.sum(np.log(data/data.shift())*weight,axis=1)"
   ]
  },
  {
   "cell_type": "code",
   "execution_count": 55,
   "id": "b5a943d0-bd6e-4b35-8e16-8eb39e998c92",
   "metadata": {
    "tags": []
   },
   "outputs": [],
   "source": [
    "sharpe_ratio2 = log_return2.mean()/log_return2.std()"
   ]
  },
  {
   "cell_type": "code",
   "execution_count": 56,
   "id": "cda7eac6-37a0-496f-bd1f-51d46626807d",
   "metadata": {
    "tags": []
   },
   "outputs": [
    {
     "data": {
      "text/plain": [
       "0.32094362992394215"
      ]
     },
     "execution_count": 56,
     "metadata": {},
     "output_type": "execute_result"
    }
   ],
   "source": [
    "asr2 = sharpe_ratio2*255**.5\n",
    "asr2"
   ]
  },
  {
   "cell_type": "code",
   "execution_count": null,
   "id": "f822e0b9-3608-4b8a-b5e1-55fcce990091",
   "metadata": {},
   "outputs": [],
   "source": []
  }
 ],
 "metadata": {
  "kernelspec": {
   "display_name": "Python 3 (ipykernel)",
   "language": "python",
   "name": "python3"
  },
  "language_info": {
   "codemirror_mode": {
    "name": "ipython",
    "version": 3
   },
   "file_extension": ".py",
   "mimetype": "text/x-python",
   "name": "python",
   "nbconvert_exporter": "python",
   "pygments_lexer": "ipython3",
   "version": "3.10.8"
  }
 },
 "nbformat": 4,
 "nbformat_minor": 5
}
