{
 "cells": [
  {
   "cell_type": "markdown",
   "id": "210fda5f-b91b-476e-822a-358e3e1cf46b",
   "metadata": {},
   "source": [
    "### Portfolio and Risk"
   ]
  },
  {
   "cell_type": "markdown",
   "id": "896aeb7c-0aad-448d-a471-8eca763aee20",
   "metadata": {
    "tags": []
   },
   "source": [
    "* Pandas Datareader\n",
    "* Pandas\n",
    "* Numpy(focus in this course)\n",
    "* Portfolio and return"
   ]
  },
  {
   "cell_type": "markdown",
   "id": "585766a5-bd5b-4b03-a2c7-ef677ab43c47",
   "metadata": {},
   "source": [
    "##### Pandas Datareader & Pandas DataFrame"
   ]
  },
  {
   "cell_type": "code",
   "execution_count": 2,
   "id": "6755a127-809a-48b3-ac26-cba6cb5c6c81",
   "metadata": {
    "tags": []
   },
   "outputs": [],
   "source": [
    "import numpy as np\n",
    "import pandas_datareader as pdr\n",
    "import datetime as dt\n",
    "import pandas as pd"
   ]
  },
  {
   "cell_type": "code",
   "execution_count": 3,
   "id": "3d11aa14-947a-44ab-a814-5301d1dc4cd6",
   "metadata": {
    "tags": []
   },
   "outputs": [],
   "source": [
    "start = dt.datetime(2020,1,1)\n",
    "ticker = \"AAPL\"\n",
    "data = pdr.get_data_stooq(ticker,start,end)"
   ]
  },
  {
   "cell_type": "code",
   "execution_count": 21,
   "id": "cf91c8e0-abd2-4c97-b0fb-74fb36687206",
   "metadata": {
    "tags": []
   },
   "outputs": [],
   "source": [
    "data = data[::-1]"
   ]
  },
  {
   "cell_type": "code",
   "execution_count": 17,
   "id": "d58697d2-82f4-4c21-8870-7380818ef6ca",
   "metadata": {
    "tags": []
   },
   "outputs": [
    {
     "data": {
      "text/plain": [
       "Open      float64\n",
       "High      float64\n",
       "Low       float64\n",
       "Close     float64\n",
       "Volume    float64\n",
       "dtype: object"
      ]
     },
     "execution_count": 17,
     "metadata": {},
     "output_type": "execute_result"
    }
   ],
   "source": [
    "data.dtypes"
   ]
  },
  {
   "cell_type": "code",
   "execution_count": 22,
   "id": "b1cba95e-50f8-4579-82ec-5bd2aac5dfff",
   "metadata": {
    "tags": []
   },
   "outputs": [
    {
     "data": {
      "text/html": [
       "<div>\n",
       "<style scoped>\n",
       "    .dataframe tbody tr th:only-of-type {\n",
       "        vertical-align: middle;\n",
       "    }\n",
       "\n",
       "    .dataframe tbody tr th {\n",
       "        vertical-align: top;\n",
       "    }\n",
       "\n",
       "    .dataframe thead th {\n",
       "        text-align: right;\n",
       "    }\n",
       "</style>\n",
       "<table border=\"1\" class=\"dataframe\">\n",
       "  <thead>\n",
       "    <tr style=\"text-align: right;\">\n",
       "      <th></th>\n",
       "      <th>Open</th>\n",
       "      <th>High</th>\n",
       "      <th>Low</th>\n",
       "      <th>Close</th>\n",
       "      <th>Volume</th>\n",
       "    </tr>\n",
       "    <tr>\n",
       "      <th>Date</th>\n",
       "      <th></th>\n",
       "      <th></th>\n",
       "      <th></th>\n",
       "      <th></th>\n",
       "      <th></th>\n",
       "    </tr>\n",
       "  </thead>\n",
       "  <tbody>\n",
       "    <tr>\n",
       "      <th>2020-01-02</th>\n",
       "      <td>72.5537</td>\n",
       "      <td>73.6225</td>\n",
       "      <td>72.2955</td>\n",
       "      <td>73.5616</td>\n",
       "      <td>1.384613e+08</td>\n",
       "    </tr>\n",
       "    <tr>\n",
       "      <th>2020-01-03</th>\n",
       "      <td>72.7790</td>\n",
       "      <td>73.6185</td>\n",
       "      <td>72.6185</td>\n",
       "      <td>72.8488</td>\n",
       "      <td>1.495753e+08</td>\n",
       "    </tr>\n",
       "    <tr>\n",
       "      <th>2020-01-06</th>\n",
       "      <td>71.9515</td>\n",
       "      <td>73.4649</td>\n",
       "      <td>71.7023</td>\n",
       "      <td>73.4250</td>\n",
       "      <td>1.210384e+08</td>\n",
       "    </tr>\n",
       "    <tr>\n",
       "      <th>2020-01-07</th>\n",
       "      <td>73.4350</td>\n",
       "      <td>73.6972</td>\n",
       "      <td>72.8607</td>\n",
       "      <td>73.0831</td>\n",
       "      <td>1.138238e+08</td>\n",
       "    </tr>\n",
       "    <tr>\n",
       "      <th>2020-01-08</th>\n",
       "      <td>72.7810</td>\n",
       "      <td>74.5626</td>\n",
       "      <td>72.7790</td>\n",
       "      <td>74.2575</td>\n",
       "      <td>1.351095e+08</td>\n",
       "    </tr>\n",
       "  </tbody>\n",
       "</table>\n",
       "</div>"
      ],
      "text/plain": [
       "               Open     High      Low    Close        Volume\n",
       "Date                                                        \n",
       "2020-01-02  72.5537  73.6225  72.2955  73.5616  1.384613e+08\n",
       "2020-01-03  72.7790  73.6185  72.6185  72.8488  1.495753e+08\n",
       "2020-01-06  71.9515  73.4649  71.7023  73.4250  1.210384e+08\n",
       "2020-01-07  73.4350  73.6972  72.8607  73.0831  1.138238e+08\n",
       "2020-01-08  72.7810  74.5626  72.7790  74.2575  1.351095e+08"
      ]
     },
     "execution_count": 22,
     "metadata": {},
     "output_type": "execute_result"
    }
   ],
   "source": [
    "data.head()"
   ]
  },
  {
   "cell_type": "code",
   "execution_count": 19,
   "id": "063febf1-0989-4f07-b97d-867ea3599963",
   "metadata": {
    "tags": []
   },
   "outputs": [
    {
     "data": {
      "text/html": [
       "<div>\n",
       "<style scoped>\n",
       "    .dataframe tbody tr th:only-of-type {\n",
       "        vertical-align: middle;\n",
       "    }\n",
       "\n",
       "    .dataframe tbody tr th {\n",
       "        vertical-align: top;\n",
       "    }\n",
       "\n",
       "    .dataframe thead th {\n",
       "        text-align: right;\n",
       "    }\n",
       "</style>\n",
       "<table border=\"1\" class=\"dataframe\">\n",
       "  <thead>\n",
       "    <tr style=\"text-align: right;\">\n",
       "      <th></th>\n",
       "      <th>Open</th>\n",
       "      <th>High</th>\n",
       "      <th>Low</th>\n",
       "      <th>Close</th>\n",
       "      <th>Volume</th>\n",
       "    </tr>\n",
       "    <tr>\n",
       "      <th>Date</th>\n",
       "      <th></th>\n",
       "      <th></th>\n",
       "      <th></th>\n",
       "      <th></th>\n",
       "      <th></th>\n",
       "    </tr>\n",
       "  </thead>\n",
       "  <tbody>\n",
       "    <tr>\n",
       "      <th>2023-03-08</th>\n",
       "      <td>152.810</td>\n",
       "      <td>153.470</td>\n",
       "      <td>151.8300</td>\n",
       "      <td>152.87</td>\n",
       "      <td>47204791.0</td>\n",
       "    </tr>\n",
       "    <tr>\n",
       "      <th>2023-03-09</th>\n",
       "      <td>153.559</td>\n",
       "      <td>154.535</td>\n",
       "      <td>150.2250</td>\n",
       "      <td>150.59</td>\n",
       "      <td>53833582.0</td>\n",
       "    </tr>\n",
       "    <tr>\n",
       "      <th>2023-03-10</th>\n",
       "      <td>150.210</td>\n",
       "      <td>150.940</td>\n",
       "      <td>147.6096</td>\n",
       "      <td>148.50</td>\n",
       "      <td>68572400.0</td>\n",
       "    </tr>\n",
       "    <tr>\n",
       "      <th>2023-03-13</th>\n",
       "      <td>147.805</td>\n",
       "      <td>153.140</td>\n",
       "      <td>147.7000</td>\n",
       "      <td>150.47</td>\n",
       "      <td>84457122.0</td>\n",
       "    </tr>\n",
       "    <tr>\n",
       "      <th>2023-03-14</th>\n",
       "      <td>151.280</td>\n",
       "      <td>153.400</td>\n",
       "      <td>150.1000</td>\n",
       "      <td>152.59</td>\n",
       "      <td>73695893.0</td>\n",
       "    </tr>\n",
       "  </tbody>\n",
       "</table>\n",
       "</div>"
      ],
      "text/plain": [
       "               Open     High       Low   Close      Volume\n",
       "Date                                                      \n",
       "2023-03-08  152.810  153.470  151.8300  152.87  47204791.0\n",
       "2023-03-09  153.559  154.535  150.2250  150.59  53833582.0\n",
       "2023-03-10  150.210  150.940  147.6096  148.50  68572400.0\n",
       "2023-03-13  147.805  153.140  147.7000  150.47  84457122.0\n",
       "2023-03-14  151.280  153.400  150.1000  152.59  73695893.0"
      ]
     },
     "execution_count": 19,
     "metadata": {},
     "output_type": "execute_result"
    }
   ],
   "source": [
    "data.tail()"
   ]
  },
  {
   "cell_type": "code",
   "execution_count": 23,
   "id": "fc240861-9d47-4c94-9865-8169fdeceb78",
   "metadata": {
    "tags": []
   },
   "outputs": [
    {
     "data": {
      "text/plain": [
       "pandas.core.frame.DataFrame"
      ]
     },
     "execution_count": 23,
     "metadata": {},
     "output_type": "execute_result"
    }
   ],
   "source": [
    "type(data)"
   ]
  },
  {
   "cell_type": "markdown",
   "id": "8e4f6de6-a522-457c-8f3a-f459b7e011d9",
   "metadata": {},
   "source": [
    "##### NumPy"
   ]
  },
  {
   "cell_type": "code",
   "execution_count": 24,
   "id": "57437574-1356-4cd1-97ed-5ad01cd2b80f",
   "metadata": {
    "tags": []
   },
   "outputs": [
    {
     "data": {
      "text/plain": [
       "array([[7.25537000e+01, 7.36225000e+01, 7.22955000e+01, 7.35616000e+01,\n",
       "        1.38461336e+08],\n",
       "       [7.27790000e+01, 7.36185000e+01, 7.26185000e+01, 7.28488000e+01,\n",
       "        1.49575255e+08],\n",
       "       [7.19515000e+01, 7.34649000e+01, 7.17023000e+01, 7.34250000e+01,\n",
       "        1.21038376e+08],\n",
       "       ...,\n",
       "       [1.50210000e+02, 1.50940000e+02, 1.47609600e+02, 1.48500000e+02,\n",
       "        6.85724000e+07],\n",
       "       [1.47805000e+02, 1.53140000e+02, 1.47700000e+02, 1.50470000e+02,\n",
       "        8.44571220e+07],\n",
       "       [1.51280000e+02, 1.53400000e+02, 1.50100000e+02, 1.52590000e+02,\n",
       "        7.36958930e+07]])"
      ]
     },
     "execution_count": 24,
     "metadata": {},
     "output_type": "execute_result"
    }
   ],
   "source": [
    "data.to_numpy()"
   ]
  },
  {
   "cell_type": "code",
   "execution_count": 25,
   "id": "abbed502-bc83-4fd7-9cb4-fd637052137f",
   "metadata": {
    "tags": []
   },
   "outputs": [],
   "source": [
    "arr = data.to_numpy()"
   ]
  },
  {
   "cell_type": "code",
   "execution_count": 26,
   "id": "8e100112-9c89-4159-91ac-1ce757f27546",
   "metadata": {
    "tags": []
   },
   "outputs": [
    {
     "data": {
      "text/plain": [
       "(805, 5)"
      ]
     },
     "execution_count": 26,
     "metadata": {},
     "output_type": "execute_result"
    }
   ],
   "source": [
    "arr.shape"
   ]
  },
  {
   "cell_type": "code",
   "execution_count": 27,
   "id": "2c71379d-2c7d-4f8d-b4ab-60c8c462c2cb",
   "metadata": {
    "tags": []
   },
   "outputs": [
    {
     "data": {
      "text/plain": [
       "805"
      ]
     },
     "execution_count": 27,
     "metadata": {},
     "output_type": "execute_result"
    }
   ],
   "source": [
    "len(data)"
   ]
  },
  {
   "cell_type": "code",
   "execution_count": 28,
   "id": "6dc54027-76da-4042-a444-c485e9cbb690",
   "metadata": {
    "tags": []
   },
   "outputs": [
    {
     "data": {
      "text/plain": [
       "array([7.25537000e+01, 7.36225000e+01, 7.22955000e+01, 7.35616000e+01,\n",
       "       1.38461336e+08])"
      ]
     },
     "execution_count": 28,
     "metadata": {},
     "output_type": "execute_result"
    }
   ],
   "source": [
    "arr[0]"
   ]
  },
  {
   "cell_type": "code",
   "execution_count": 29,
   "id": "95793f9d-1827-4020-ae97-6349929b9b3d",
   "metadata": {
    "tags": []
   },
   "outputs": [
    {
     "data": {
      "text/html": [
       "<div>\n",
       "<style scoped>\n",
       "    .dataframe tbody tr th:only-of-type {\n",
       "        vertical-align: middle;\n",
       "    }\n",
       "\n",
       "    .dataframe tbody tr th {\n",
       "        vertical-align: top;\n",
       "    }\n",
       "\n",
       "    .dataframe thead th {\n",
       "        text-align: right;\n",
       "    }\n",
       "</style>\n",
       "<table border=\"1\" class=\"dataframe\">\n",
       "  <thead>\n",
       "    <tr style=\"text-align: right;\">\n",
       "      <th></th>\n",
       "      <th>Open</th>\n",
       "      <th>High</th>\n",
       "      <th>Low</th>\n",
       "      <th>Close</th>\n",
       "      <th>Volume</th>\n",
       "    </tr>\n",
       "    <tr>\n",
       "      <th>Date</th>\n",
       "      <th></th>\n",
       "      <th></th>\n",
       "      <th></th>\n",
       "      <th></th>\n",
       "      <th></th>\n",
       "    </tr>\n",
       "  </thead>\n",
       "  <tbody>\n",
       "    <tr>\n",
       "      <th>2020-01-02</th>\n",
       "      <td>72.5537</td>\n",
       "      <td>73.6225</td>\n",
       "      <td>72.2955</td>\n",
       "      <td>73.5616</td>\n",
       "      <td>1.384613e+08</td>\n",
       "    </tr>\n",
       "  </tbody>\n",
       "</table>\n",
       "</div>"
      ],
      "text/plain": [
       "               Open     High      Low    Close        Volume\n",
       "Date                                                        \n",
       "2020-01-02  72.5537  73.6225  72.2955  73.5616  1.384613e+08"
      ]
     },
     "execution_count": 29,
     "metadata": {},
     "output_type": "execute_result"
    }
   ],
   "source": [
    "data.head(1)"
   ]
  },
  {
   "cell_type": "code",
   "execution_count": 30,
   "id": "aa03db60-33c9-4686-903b-4b02c6ae166f",
   "metadata": {
    "tags": []
   },
   "outputs": [
    {
     "data": {
      "text/plain": [
       "dtype('float64')"
      ]
     },
     "execution_count": 30,
     "metadata": {},
     "output_type": "execute_result"
    }
   ],
   "source": [
    "arr.dtype"
   ]
  },
  {
   "cell_type": "code",
   "execution_count": 31,
   "id": "1be469fe-b55f-4a02-8b3a-598616921191",
   "metadata": {
    "tags": []
   },
   "outputs": [],
   "source": [
    "small = arr[:10,1].copy()"
   ]
  },
  {
   "cell_type": "code",
   "execution_count": 32,
   "id": "6b064b05-a6fc-44d3-bf3e-ff4af54a69bb",
   "metadata": {
    "tags": []
   },
   "outputs": [
    {
     "data": {
      "text/plain": [
       "array([73.6225, 73.6185, 73.4649, 73.6972, 74.5626, 76.0261, 76.5785,\n",
       "       77.6581, 77.7788, 77.2723])"
      ]
     },
     "execution_count": 32,
     "metadata": {},
     "output_type": "execute_result"
    }
   ],
   "source": [
    "small"
   ]
  },
  {
   "cell_type": "code",
   "execution_count": 33,
   "id": "5e0c58ec-8460-4a09-af81-c523a37417de",
   "metadata": {
    "tags": []
   },
   "outputs": [
    {
     "data": {
      "text/html": [
       "<div>\n",
       "<style scoped>\n",
       "    .dataframe tbody tr th:only-of-type {\n",
       "        vertical-align: middle;\n",
       "    }\n",
       "\n",
       "    .dataframe tbody tr th {\n",
       "        vertical-align: top;\n",
       "    }\n",
       "\n",
       "    .dataframe thead th {\n",
       "        text-align: right;\n",
       "    }\n",
       "</style>\n",
       "<table border=\"1\" class=\"dataframe\">\n",
       "  <thead>\n",
       "    <tr style=\"text-align: right;\">\n",
       "      <th></th>\n",
       "      <th>Open</th>\n",
       "      <th>High</th>\n",
       "      <th>Low</th>\n",
       "      <th>Close</th>\n",
       "      <th>Volume</th>\n",
       "    </tr>\n",
       "    <tr>\n",
       "      <th>Date</th>\n",
       "      <th></th>\n",
       "      <th></th>\n",
       "      <th></th>\n",
       "      <th></th>\n",
       "      <th></th>\n",
       "    </tr>\n",
       "  </thead>\n",
       "  <tbody>\n",
       "    <tr>\n",
       "      <th>2020-01-02</th>\n",
       "      <td>72.5537</td>\n",
       "      <td>73.6225</td>\n",
       "      <td>72.2955</td>\n",
       "      <td>73.5616</td>\n",
       "      <td>1.384613e+08</td>\n",
       "    </tr>\n",
       "    <tr>\n",
       "      <th>2020-01-03</th>\n",
       "      <td>72.7790</td>\n",
       "      <td>73.6185</td>\n",
       "      <td>72.6185</td>\n",
       "      <td>72.8488</td>\n",
       "      <td>1.495753e+08</td>\n",
       "    </tr>\n",
       "    <tr>\n",
       "      <th>2020-01-06</th>\n",
       "      <td>71.9515</td>\n",
       "      <td>73.4649</td>\n",
       "      <td>71.7023</td>\n",
       "      <td>73.4250</td>\n",
       "      <td>1.210384e+08</td>\n",
       "    </tr>\n",
       "    <tr>\n",
       "      <th>2020-01-07</th>\n",
       "      <td>73.4350</td>\n",
       "      <td>73.6972</td>\n",
       "      <td>72.8607</td>\n",
       "      <td>73.0831</td>\n",
       "      <td>1.138238e+08</td>\n",
       "    </tr>\n",
       "    <tr>\n",
       "      <th>2020-01-08</th>\n",
       "      <td>72.7810</td>\n",
       "      <td>74.5626</td>\n",
       "      <td>72.7790</td>\n",
       "      <td>74.2575</td>\n",
       "      <td>1.351095e+08</td>\n",
       "    </tr>\n",
       "  </tbody>\n",
       "</table>\n",
       "</div>"
      ],
      "text/plain": [
       "               Open     High      Low    Close        Volume\n",
       "Date                                                        \n",
       "2020-01-02  72.5537  73.6225  72.2955  73.5616  1.384613e+08\n",
       "2020-01-03  72.7790  73.6185  72.6185  72.8488  1.495753e+08\n",
       "2020-01-06  71.9515  73.4649  71.7023  73.4250  1.210384e+08\n",
       "2020-01-07  73.4350  73.6972  72.8607  73.0831  1.138238e+08\n",
       "2020-01-08  72.7810  74.5626  72.7790  74.2575  1.351095e+08"
      ]
     },
     "execution_count": 33,
     "metadata": {},
     "output_type": "execute_result"
    }
   ],
   "source": [
    "data.head()"
   ]
  },
  {
   "cell_type": "code",
   "execution_count": 34,
   "id": "6f51d968-410b-461d-8de7-40c99200c131",
   "metadata": {
    "tags": []
   },
   "outputs": [
    {
     "data": {
      "text/plain": [
       "77.7788"
      ]
     },
     "execution_count": 34,
     "metadata": {},
     "output_type": "execute_result"
    }
   ],
   "source": [
    "np.max(small)"
   ]
  },
  {
   "cell_type": "code",
   "execution_count": 35,
   "id": "39795f56-e449-4919-b48b-715299b77c14",
   "metadata": {
    "tags": []
   },
   "outputs": [
    {
     "data": {
      "text/plain": [
       "77.7788"
      ]
     },
     "execution_count": 35,
     "metadata": {},
     "output_type": "execute_result"
    }
   ],
   "source": [
    "small.max()"
   ]
  },
  {
   "cell_type": "code",
   "execution_count": 36,
   "id": "26d7ece9-da92-4736-b856-97b22bac3719",
   "metadata": {
    "tags": []
   },
   "outputs": [
    {
     "data": {
      "text/plain": [
       "8"
      ]
     },
     "execution_count": 36,
     "metadata": {},
     "output_type": "execute_result"
    }
   ],
   "source": [
    "small.argmax()"
   ]
  },
  {
   "cell_type": "code",
   "execution_count": 37,
   "id": "fc2d049d-6ee6-40ec-bab5-df12e938e9e4",
   "metadata": {
    "tags": []
   },
   "outputs": [
    {
     "data": {
      "text/plain": [
       "77.7788"
      ]
     },
     "execution_count": 37,
     "metadata": {},
     "output_type": "execute_result"
    }
   ],
   "source": [
    "small[small.argmax()]"
   ]
  },
  {
   "cell_type": "code",
   "execution_count": 38,
   "id": "b7daf508-8ad3-49f4-aa08-2b7436a319e0",
   "metadata": {
    "tags": []
   },
   "outputs": [
    {
     "data": {
      "text/plain": [
       "array([4.29895069, 4.29889635, 4.29680774, 4.29996481, 4.31163904,\n",
       "       4.3310767 , 4.33831636, 4.35231586, 4.3538689 , 4.34733555])"
      ]
     },
     "execution_count": 38,
     "metadata": {},
     "output_type": "execute_result"
    }
   ],
   "source": [
    "np.log(small)"
   ]
  },
  {
   "cell_type": "code",
   "execution_count": 39,
   "id": "d3d60e23-e086-4227-bd8d-3fd5db93f26c",
   "metadata": {
    "tags": []
   },
   "outputs": [
    {
     "data": {
      "text/html": [
       "<div>\n",
       "<style scoped>\n",
       "    .dataframe tbody tr th:only-of-type {\n",
       "        vertical-align: middle;\n",
       "    }\n",
       "\n",
       "    .dataframe tbody tr th {\n",
       "        vertical-align: top;\n",
       "    }\n",
       "\n",
       "    .dataframe thead th {\n",
       "        text-align: right;\n",
       "    }\n",
       "</style>\n",
       "<table border=\"1\" class=\"dataframe\">\n",
       "  <thead>\n",
       "    <tr style=\"text-align: right;\">\n",
       "      <th></th>\n",
       "      <th>Open</th>\n",
       "      <th>High</th>\n",
       "      <th>Low</th>\n",
       "      <th>Close</th>\n",
       "      <th>Volume</th>\n",
       "    </tr>\n",
       "    <tr>\n",
       "      <th>Date</th>\n",
       "      <th></th>\n",
       "      <th></th>\n",
       "      <th></th>\n",
       "      <th></th>\n",
       "      <th></th>\n",
       "    </tr>\n",
       "  </thead>\n",
       "  <tbody>\n",
       "    <tr>\n",
       "      <th>2020-01-02</th>\n",
       "      <td>4.284327</td>\n",
       "      <td>4.298951</td>\n",
       "      <td>4.280762</td>\n",
       "      <td>4.298123</td>\n",
       "      <td>18.746102</td>\n",
       "    </tr>\n",
       "    <tr>\n",
       "      <th>2020-01-03</th>\n",
       "      <td>4.287427</td>\n",
       "      <td>4.298896</td>\n",
       "      <td>4.285220</td>\n",
       "      <td>4.288386</td>\n",
       "      <td>18.823310</td>\n",
       "    </tr>\n",
       "    <tr>\n",
       "      <th>2020-01-06</th>\n",
       "      <td>4.275992</td>\n",
       "      <td>4.296808</td>\n",
       "      <td>4.272523</td>\n",
       "      <td>4.296264</td>\n",
       "      <td>18.611618</td>\n",
       "    </tr>\n",
       "    <tr>\n",
       "      <th>2020-01-07</th>\n",
       "      <td>4.296401</td>\n",
       "      <td>4.299965</td>\n",
       "      <td>4.288549</td>\n",
       "      <td>4.291597</td>\n",
       "      <td>18.550162</td>\n",
       "    </tr>\n",
       "    <tr>\n",
       "      <th>2020-01-08</th>\n",
       "      <td>4.287455</td>\n",
       "      <td>4.311639</td>\n",
       "      <td>4.287427</td>\n",
       "      <td>4.307539</td>\n",
       "      <td>18.721596</td>\n",
       "    </tr>\n",
       "    <tr>\n",
       "      <th>...</th>\n",
       "      <td>...</td>\n",
       "      <td>...</td>\n",
       "      <td>...</td>\n",
       "      <td>...</td>\n",
       "      <td>...</td>\n",
       "    </tr>\n",
       "    <tr>\n",
       "      <th>2023-03-08</th>\n",
       "      <td>5.029195</td>\n",
       "      <td>5.033505</td>\n",
       "      <td>5.022761</td>\n",
       "      <td>5.029588</td>\n",
       "      <td>17.670006</td>\n",
       "    </tr>\n",
       "    <tr>\n",
       "      <th>2023-03-09</th>\n",
       "      <td>5.034085</td>\n",
       "      <td>5.040421</td>\n",
       "      <td>5.012134</td>\n",
       "      <td>5.014561</td>\n",
       "      <td>17.801408</td>\n",
       "    </tr>\n",
       "    <tr>\n",
       "      <th>2023-03-10</th>\n",
       "      <td>5.012034</td>\n",
       "      <td>5.016882</td>\n",
       "      <td>4.994571</td>\n",
       "      <td>5.000585</td>\n",
       "      <td>18.043401</td>\n",
       "    </tr>\n",
       "    <tr>\n",
       "      <th>2023-03-13</th>\n",
       "      <td>4.995894</td>\n",
       "      <td>5.031353</td>\n",
       "      <td>4.995183</td>\n",
       "      <td>5.013764</td>\n",
       "      <td>18.251755</td>\n",
       "    </tr>\n",
       "    <tr>\n",
       "      <th>2023-03-14</th>\n",
       "      <td>5.019132</td>\n",
       "      <td>5.033049</td>\n",
       "      <td>5.011302</td>\n",
       "      <td>5.027755</td>\n",
       "      <td>18.115458</td>\n",
       "    </tr>\n",
       "  </tbody>\n",
       "</table>\n",
       "<p>805 rows × 5 columns</p>\n",
       "</div>"
      ],
      "text/plain": [
       "                Open      High       Low     Close     Volume\n",
       "Date                                                         \n",
       "2020-01-02  4.284327  4.298951  4.280762  4.298123  18.746102\n",
       "2020-01-03  4.287427  4.298896  4.285220  4.288386  18.823310\n",
       "2020-01-06  4.275992  4.296808  4.272523  4.296264  18.611618\n",
       "2020-01-07  4.296401  4.299965  4.288549  4.291597  18.550162\n",
       "2020-01-08  4.287455  4.311639  4.287427  4.307539  18.721596\n",
       "...              ...       ...       ...       ...        ...\n",
       "2023-03-08  5.029195  5.033505  5.022761  5.029588  17.670006\n",
       "2023-03-09  5.034085  5.040421  5.012134  5.014561  17.801408\n",
       "2023-03-10  5.012034  5.016882  4.994571  5.000585  18.043401\n",
       "2023-03-13  4.995894  5.031353  4.995183  5.013764  18.251755\n",
       "2023-03-14  5.019132  5.033049  5.011302  5.027755  18.115458\n",
       "\n",
       "[805 rows x 5 columns]"
      ]
     },
     "execution_count": 39,
     "metadata": {},
     "output_type": "execute_result"
    }
   ],
   "source": [
    "np.log(data)"
   ]
  },
  {
   "cell_type": "code",
   "execution_count": 40,
   "id": "5f0bec0e-3c8b-4aea-bd1a-74814d686163",
   "metadata": {
    "tags": []
   },
   "outputs": [
    {
     "data": {
      "text/html": [
       "<div>\n",
       "<style scoped>\n",
       "    .dataframe tbody tr th:only-of-type {\n",
       "        vertical-align: middle;\n",
       "    }\n",
       "\n",
       "    .dataframe tbody tr th {\n",
       "        vertical-align: top;\n",
       "    }\n",
       "\n",
       "    .dataframe thead th {\n",
       "        text-align: right;\n",
       "    }\n",
       "</style>\n",
       "<table border=\"1\" class=\"dataframe\">\n",
       "  <thead>\n",
       "    <tr style=\"text-align: right;\">\n",
       "      <th></th>\n",
       "      <th>Open</th>\n",
       "      <th>High</th>\n",
       "      <th>Low</th>\n",
       "      <th>Close</th>\n",
       "      <th>Volume</th>\n",
       "    </tr>\n",
       "    <tr>\n",
       "      <th>Date</th>\n",
       "      <th></th>\n",
       "      <th></th>\n",
       "      <th></th>\n",
       "      <th></th>\n",
       "      <th></th>\n",
       "    </tr>\n",
       "  </thead>\n",
       "  <tbody>\n",
       "    <tr>\n",
       "      <th>2020-01-02</th>\n",
       "      <td>NaN</td>\n",
       "      <td>NaN</td>\n",
       "      <td>NaN</td>\n",
       "      <td>NaN</td>\n",
       "      <td>NaN</td>\n",
       "    </tr>\n",
       "    <tr>\n",
       "      <th>2020-01-03</th>\n",
       "      <td>1.003105</td>\n",
       "      <td>0.999946</td>\n",
       "      <td>1.004468</td>\n",
       "      <td>0.990310</td>\n",
       "      <td>1.080267</td>\n",
       "    </tr>\n",
       "    <tr>\n",
       "      <th>2020-01-06</th>\n",
       "      <td>0.988630</td>\n",
       "      <td>0.997914</td>\n",
       "      <td>0.987383</td>\n",
       "      <td>1.007910</td>\n",
       "      <td>0.809214</td>\n",
       "    </tr>\n",
       "    <tr>\n",
       "      <th>2020-01-07</th>\n",
       "      <td>1.020618</td>\n",
       "      <td>1.003162</td>\n",
       "      <td>1.016156</td>\n",
       "      <td>0.995344</td>\n",
       "      <td>0.940394</td>\n",
       "    </tr>\n",
       "    <tr>\n",
       "      <th>2020-01-08</th>\n",
       "      <td>0.991094</td>\n",
       "      <td>1.011743</td>\n",
       "      <td>0.998879</td>\n",
       "      <td>1.016069</td>\n",
       "      <td>1.187006</td>\n",
       "    </tr>\n",
       "    <tr>\n",
       "      <th>...</th>\n",
       "      <td>...</td>\n",
       "      <td>...</td>\n",
       "      <td>...</td>\n",
       "      <td>...</td>\n",
       "      <td>...</td>\n",
       "    </tr>\n",
       "    <tr>\n",
       "      <th>2023-03-08</th>\n",
       "      <td>0.994209</td>\n",
       "      <td>0.996365</td>\n",
       "      <td>1.004632</td>\n",
       "      <td>1.008377</td>\n",
       "      <td>0.840212</td>\n",
       "    </tr>\n",
       "    <tr>\n",
       "      <th>2023-03-09</th>\n",
       "      <td>1.004902</td>\n",
       "      <td>1.006939</td>\n",
       "      <td>0.989429</td>\n",
       "      <td>0.985085</td>\n",
       "      <td>1.140426</td>\n",
       "    </tr>\n",
       "    <tr>\n",
       "      <th>2023-03-10</th>\n",
       "      <td>0.978191</td>\n",
       "      <td>0.976737</td>\n",
       "      <td>0.982590</td>\n",
       "      <td>0.986121</td>\n",
       "      <td>1.273785</td>\n",
       "    </tr>\n",
       "    <tr>\n",
       "      <th>2023-03-13</th>\n",
       "      <td>0.983989</td>\n",
       "      <td>1.014575</td>\n",
       "      <td>1.000612</td>\n",
       "      <td>1.013266</td>\n",
       "      <td>1.231649</td>\n",
       "    </tr>\n",
       "    <tr>\n",
       "      <th>2023-03-14</th>\n",
       "      <td>1.023511</td>\n",
       "      <td>1.001698</td>\n",
       "      <td>1.016249</td>\n",
       "      <td>1.014089</td>\n",
       "      <td>0.872584</td>\n",
       "    </tr>\n",
       "  </tbody>\n",
       "</table>\n",
       "<p>805 rows × 5 columns</p>\n",
       "</div>"
      ],
      "text/plain": [
       "                Open      High       Low     Close    Volume\n",
       "Date                                                        \n",
       "2020-01-02       NaN       NaN       NaN       NaN       NaN\n",
       "2020-01-03  1.003105  0.999946  1.004468  0.990310  1.080267\n",
       "2020-01-06  0.988630  0.997914  0.987383  1.007910  0.809214\n",
       "2020-01-07  1.020618  1.003162  1.016156  0.995344  0.940394\n",
       "2020-01-08  0.991094  1.011743  0.998879  1.016069  1.187006\n",
       "...              ...       ...       ...       ...       ...\n",
       "2023-03-08  0.994209  0.996365  1.004632  1.008377  0.840212\n",
       "2023-03-09  1.004902  1.006939  0.989429  0.985085  1.140426\n",
       "2023-03-10  0.978191  0.976737  0.982590  0.986121  1.273785\n",
       "2023-03-13  0.983989  1.014575  1.000612  1.013266  1.231649\n",
       "2023-03-14  1.023511  1.001698  1.016249  1.014089  0.872584\n",
       "\n",
       "[805 rows x 5 columns]"
      ]
     },
     "execution_count": 40,
     "metadata": {},
     "output_type": "execute_result"
    }
   ],
   "source": [
    "data/data.shift()"
   ]
  },
  {
   "cell_type": "code",
   "execution_count": 42,
   "id": "9822e07b-9758-41a1-9a58-40eab3018417",
   "metadata": {
    "tags": []
   },
   "outputs": [
    {
     "data": {
      "text/plain": [
       "Open      0.734805\n",
       "High      0.734098\n",
       "Low       0.730540\n",
       "Close     0.729631\n",
       "Volume   -0.630644\n",
       "dtype: float64"
      ]
     },
     "execution_count": 42,
     "metadata": {},
     "output_type": "execute_result"
    }
   ],
   "source": [
    "np.sum(np.log(data/data.shift()))"
   ]
  },
  {
   "cell_type": "code",
   "execution_count": 43,
   "id": "b97fb57b-c90d-4f2e-a281-85da305b255c",
   "metadata": {
    "tags": []
   },
   "outputs": [
    {
     "data": {
      "text/html": [
       "<div>\n",
       "<style scoped>\n",
       "    .dataframe tbody tr th:only-of-type {\n",
       "        vertical-align: middle;\n",
       "    }\n",
       "\n",
       "    .dataframe tbody tr th {\n",
       "        vertical-align: top;\n",
       "    }\n",
       "\n",
       "    .dataframe thead th {\n",
       "        text-align: right;\n",
       "    }\n",
       "</style>\n",
       "<table border=\"1\" class=\"dataframe\">\n",
       "  <thead>\n",
       "    <tr style=\"text-align: right;\">\n",
       "      <th></th>\n",
       "      <th>Open</th>\n",
       "      <th>High</th>\n",
       "      <th>Low</th>\n",
       "      <th>Close</th>\n",
       "      <th>Volume</th>\n",
       "    </tr>\n",
       "    <tr>\n",
       "      <th>Date</th>\n",
       "      <th></th>\n",
       "      <th></th>\n",
       "      <th></th>\n",
       "      <th></th>\n",
       "      <th></th>\n",
       "    </tr>\n",
       "  </thead>\n",
       "  <tbody>\n",
       "    <tr>\n",
       "      <th>2023-03-14</th>\n",
       "      <td>0.734805</td>\n",
       "      <td>0.734098</td>\n",
       "      <td>0.73054</td>\n",
       "      <td>0.729631</td>\n",
       "      <td>-0.630644</td>\n",
       "    </tr>\n",
       "  </tbody>\n",
       "</table>\n",
       "</div>"
      ],
      "text/plain": [
       "                Open      High      Low     Close    Volume\n",
       "Date                                                       \n",
       "2023-03-14  0.734805  0.734098  0.73054  0.729631 -0.630644"
      ]
     },
     "execution_count": 43,
     "metadata": {},
     "output_type": "execute_result"
    }
   ],
   "source": [
    "np.log(data/data.iloc[0]).tail(1)"
   ]
  },
  {
   "cell_type": "code",
   "execution_count": 45,
   "id": "0465a2b0-6b14-44fe-a018-428c81d793b1",
   "metadata": {
    "tags": []
   },
   "outputs": [
    {
     "data": {
      "text/plain": [
       "(10,)"
      ]
     },
     "execution_count": 45,
     "metadata": {},
     "output_type": "execute_result"
    }
   ],
   "source": [
    "small.shape"
   ]
  },
  {
   "cell_type": "code",
   "execution_count": 46,
   "id": "51fc0527-2d06-48a9-80a7-6dae9206c795",
   "metadata": {
    "tags": []
   },
   "outputs": [
    {
     "data": {
      "text/plain": [
       "array([[73.6225, 73.6185, 73.4649, 73.6972, 74.5626],\n",
       "       [76.0261, 76.5785, 77.6581, 77.7788, 77.2723]])"
      ]
     },
     "execution_count": 46,
     "metadata": {},
     "output_type": "execute_result"
    }
   ],
   "source": [
    "small.reshape(2,5)"
   ]
  },
  {
   "cell_type": "code",
   "execution_count": 47,
   "id": "be9dcc83-dee2-406c-9fe9-6ced29c10ee7",
   "metadata": {
    "tags": []
   },
   "outputs": [
    {
     "data": {
      "text/plain": [
       "array([[73.6225],\n",
       "       [73.6185],\n",
       "       [73.4649],\n",
       "       [73.6972],\n",
       "       [74.5626],\n",
       "       [76.0261],\n",
       "       [76.5785],\n",
       "       [77.6581],\n",
       "       [77.7788],\n",
       "       [77.2723]])"
      ]
     },
     "execution_count": 47,
     "metadata": {},
     "output_type": "execute_result"
    }
   ],
   "source": [
    "small.reshape(10,1)"
   ]
  },
  {
   "cell_type": "code",
   "execution_count": 48,
   "id": "9a902f4d-2b6b-465e-8f50-f6349eca6b3f",
   "metadata": {
    "tags": []
   },
   "outputs": [
    {
     "data": {
      "text/plain": [
       "array([[73.6225],\n",
       "       [73.6185],\n",
       "       [73.4649],\n",
       "       [73.6972],\n",
       "       [74.5626],\n",
       "       [76.0261],\n",
       "       [76.5785],\n",
       "       [77.6581],\n",
       "       [77.7788],\n",
       "       [77.2723]])"
      ]
     },
     "execution_count": 48,
     "metadata": {},
     "output_type": "execute_result"
    }
   ],
   "source": [
    "small.reshape(-1,1)"
   ]
  },
  {
   "cell_type": "markdown",
   "id": "141d6add-5014-4c9a-854b-56e86b6d901e",
   "metadata": {},
   "source": [
    "##### Portfolios"
   ]
  },
  {
   "cell_type": "code",
   "execution_count": 49,
   "id": "de356be1-afbd-4696-856d-12de6d6bdbda",
   "metadata": {
    "tags": []
   },
   "outputs": [],
   "source": [
    "tickers = [\"AAPL\",\"MSFT\",\"TWTR\",\"IBM\"]\n",
    "start = dt.datetime(2020,1,1)\n",
    "data = pdr.get_data_stooq(tickers,start)"
   ]
  },
  {
   "cell_type": "code",
   "execution_count": 52,
   "id": "17d1b625-bd5f-4d80-8270-8044f2a4503c",
   "metadata": {
    "tags": []
   },
   "outputs": [],
   "source": [
    "data = data[::-1]"
   ]
  },
  {
   "cell_type": "code",
   "execution_count": 53,
   "id": "c63b3a61-cae7-406b-8611-3954a6c3ce5f",
   "metadata": {
    "tags": []
   },
   "outputs": [
    {
     "data": {
      "text/html": [
       "<div>\n",
       "<style scoped>\n",
       "    .dataframe tbody tr th:only-of-type {\n",
       "        vertical-align: middle;\n",
       "    }\n",
       "\n",
       "    .dataframe tbody tr th {\n",
       "        vertical-align: top;\n",
       "    }\n",
       "\n",
       "    .dataframe thead tr th {\n",
       "        text-align: left;\n",
       "    }\n",
       "</style>\n",
       "<table border=\"1\" class=\"dataframe\">\n",
       "  <thead>\n",
       "    <tr>\n",
       "      <th>Attributes</th>\n",
       "      <th colspan=\"3\" halign=\"left\">Close</th>\n",
       "      <th colspan=\"3\" halign=\"left\">High</th>\n",
       "      <th colspan=\"3\" halign=\"left\">Low</th>\n",
       "      <th colspan=\"3\" halign=\"left\">Open</th>\n",
       "      <th colspan=\"3\" halign=\"left\">Volume</th>\n",
       "    </tr>\n",
       "    <tr>\n",
       "      <th>Symbols</th>\n",
       "      <th>AAPL</th>\n",
       "      <th>MSFT</th>\n",
       "      <th>IBM</th>\n",
       "      <th>AAPL</th>\n",
       "      <th>MSFT</th>\n",
       "      <th>IBM</th>\n",
       "      <th>AAPL</th>\n",
       "      <th>MSFT</th>\n",
       "      <th>IBM</th>\n",
       "      <th>AAPL</th>\n",
       "      <th>MSFT</th>\n",
       "      <th>IBM</th>\n",
       "      <th>AAPL</th>\n",
       "      <th>MSFT</th>\n",
       "      <th>IBM</th>\n",
       "    </tr>\n",
       "  </thead>\n",
       "  <tbody>\n",
       "    <tr>\n",
       "      <th>2020-01-02</th>\n",
       "      <td>73.5616</td>\n",
       "      <td>156.133</td>\n",
       "      <td>116.720</td>\n",
       "      <td>73.6225</td>\n",
       "      <td>156.231</td>\n",
       "      <td>117.159</td>\n",
       "      <td>72.2955</td>\n",
       "      <td>153.928</td>\n",
       "      <td>116.154</td>\n",
       "      <td>72.5537</td>\n",
       "      <td>154.365</td>\n",
       "      <td>116.359</td>\n",
       "      <td>1.384613e+08</td>\n",
       "      <td>2.328220e+07</td>\n",
       "      <td>3.653332e+06</td>\n",
       "    </tr>\n",
       "    <tr>\n",
       "      <th>2020-01-03</th>\n",
       "      <td>72.8488</td>\n",
       "      <td>154.216</td>\n",
       "      <td>115.784</td>\n",
       "      <td>73.6185</td>\n",
       "      <td>155.517</td>\n",
       "      <td>116.242</td>\n",
       "      <td>72.6185</td>\n",
       "      <td>153.660</td>\n",
       "      <td>115.119</td>\n",
       "      <td>72.7790</td>\n",
       "      <td>153.918</td>\n",
       "      <td>115.129</td>\n",
       "      <td>1.495753e+08</td>\n",
       "      <td>2.172604e+07</td>\n",
       "      <td>2.753980e+06</td>\n",
       "    </tr>\n",
       "    <tr>\n",
       "      <th>2020-01-06</th>\n",
       "      <td>73.4250</td>\n",
       "      <td>154.613</td>\n",
       "      <td>115.569</td>\n",
       "      <td>73.4649</td>\n",
       "      <td>154.683</td>\n",
       "      <td>115.696</td>\n",
       "      <td>71.7023</td>\n",
       "      <td>152.141</td>\n",
       "      <td>114.797</td>\n",
       "      <td>71.9515</td>\n",
       "      <td>152.688</td>\n",
       "      <td>114.993</td>\n",
       "      <td>1.210384e+08</td>\n",
       "      <td>2.142262e+07</td>\n",
       "      <td>2.815041e+06</td>\n",
       "    </tr>\n",
       "    <tr>\n",
       "      <th>2020-01-07</th>\n",
       "      <td>73.0831</td>\n",
       "      <td>153.183</td>\n",
       "      <td>115.656</td>\n",
       "      <td>73.6972</td>\n",
       "      <td>155.249</td>\n",
       "      <td>116.330</td>\n",
       "      <td>72.8607</td>\n",
       "      <td>152.925</td>\n",
       "      <td>114.973</td>\n",
       "      <td>73.4350</td>\n",
       "      <td>154.900</td>\n",
       "      <td>115.227</td>\n",
       "      <td>1.138238e+08</td>\n",
       "      <td>2.250785e+07</td>\n",
       "      <td>3.800835e+06</td>\n",
       "    </tr>\n",
       "    <tr>\n",
       "      <th>2020-01-08</th>\n",
       "      <td>74.2575</td>\n",
       "      <td>155.656</td>\n",
       "      <td>116.623</td>\n",
       "      <td>74.5626</td>\n",
       "      <td>156.301</td>\n",
       "      <td>117.111</td>\n",
       "      <td>72.7790</td>\n",
       "      <td>153.551</td>\n",
       "      <td>115.432</td>\n",
       "      <td>72.7810</td>\n",
       "      <td>154.514</td>\n",
       "      <td>115.940</td>\n",
       "      <td>1.351095e+08</td>\n",
       "      <td>2.855639e+07</td>\n",
       "      <td>5.042468e+06</td>\n",
       "    </tr>\n",
       "  </tbody>\n",
       "</table>\n",
       "</div>"
      ],
      "text/plain": [
       "Attributes    Close                       High                        Low  \\\n",
       "Symbols        AAPL     MSFT      IBM     AAPL     MSFT      IBM     AAPL   \n",
       "2020-01-02  73.5616  156.133  116.720  73.6225  156.231  117.159  72.2955   \n",
       "2020-01-03  72.8488  154.216  115.784  73.6185  155.517  116.242  72.6185   \n",
       "2020-01-06  73.4250  154.613  115.569  73.4649  154.683  115.696  71.7023   \n",
       "2020-01-07  73.0831  153.183  115.656  73.6972  155.249  116.330  72.8607   \n",
       "2020-01-08  74.2575  155.656  116.623  74.5626  156.301  117.111  72.7790   \n",
       "\n",
       "Attributes                       Open                          Volume  \\\n",
       "Symbols        MSFT      IBM     AAPL     MSFT      IBM          AAPL   \n",
       "2020-01-02  153.928  116.154  72.5537  154.365  116.359  1.384613e+08   \n",
       "2020-01-03  153.660  115.119  72.7790  153.918  115.129  1.495753e+08   \n",
       "2020-01-06  152.141  114.797  71.9515  152.688  114.993  1.210384e+08   \n",
       "2020-01-07  152.925  114.973  73.4350  154.900  115.227  1.138238e+08   \n",
       "2020-01-08  153.551  115.432  72.7810  154.514  115.940  1.351095e+08   \n",
       "\n",
       "Attributes                              \n",
       "Symbols             MSFT           IBM  \n",
       "2020-01-02  2.328220e+07  3.653332e+06  \n",
       "2020-01-03  2.172604e+07  2.753980e+06  \n",
       "2020-01-06  2.142262e+07  2.815041e+06  \n",
       "2020-01-07  2.250785e+07  3.800835e+06  \n",
       "2020-01-08  2.855639e+07  5.042468e+06  "
      ]
     },
     "execution_count": 53,
     "metadata": {},
     "output_type": "execute_result"
    }
   ],
   "source": [
    "data.head()"
   ]
  },
  {
   "cell_type": "code",
   "execution_count": 54,
   "id": "a4d00ce2-fbfe-4416-ad64-157d87de1b3d",
   "metadata": {
    "tags": []
   },
   "outputs": [],
   "source": [
    "data = data['Close']"
   ]
  },
  {
   "cell_type": "code",
   "execution_count": 55,
   "id": "2f145124-f0cf-471e-9ee9-4c73b7fb8f38",
   "metadata": {
    "tags": []
   },
   "outputs": [
    {
     "data": {
      "text/html": [
       "<div>\n",
       "<style scoped>\n",
       "    .dataframe tbody tr th:only-of-type {\n",
       "        vertical-align: middle;\n",
       "    }\n",
       "\n",
       "    .dataframe tbody tr th {\n",
       "        vertical-align: top;\n",
       "    }\n",
       "\n",
       "    .dataframe thead th {\n",
       "        text-align: right;\n",
       "    }\n",
       "</style>\n",
       "<table border=\"1\" class=\"dataframe\">\n",
       "  <thead>\n",
       "    <tr style=\"text-align: right;\">\n",
       "      <th>Symbols</th>\n",
       "      <th>AAPL</th>\n",
       "      <th>MSFT</th>\n",
       "      <th>IBM</th>\n",
       "    </tr>\n",
       "  </thead>\n",
       "  <tbody>\n",
       "    <tr>\n",
       "      <th>2020-01-02</th>\n",
       "      <td>73.5616</td>\n",
       "      <td>156.133</td>\n",
       "      <td>116.720</td>\n",
       "    </tr>\n",
       "    <tr>\n",
       "      <th>2020-01-03</th>\n",
       "      <td>72.8488</td>\n",
       "      <td>154.216</td>\n",
       "      <td>115.784</td>\n",
       "    </tr>\n",
       "    <tr>\n",
       "      <th>2020-01-06</th>\n",
       "      <td>73.4250</td>\n",
       "      <td>154.613</td>\n",
       "      <td>115.569</td>\n",
       "    </tr>\n",
       "    <tr>\n",
       "      <th>2020-01-07</th>\n",
       "      <td>73.0831</td>\n",
       "      <td>153.183</td>\n",
       "      <td>115.656</td>\n",
       "    </tr>\n",
       "    <tr>\n",
       "      <th>2020-01-08</th>\n",
       "      <td>74.2575</td>\n",
       "      <td>155.656</td>\n",
       "      <td>116.623</td>\n",
       "    </tr>\n",
       "    <tr>\n",
       "      <th>...</th>\n",
       "      <td>...</td>\n",
       "      <td>...</td>\n",
       "      <td>...</td>\n",
       "    </tr>\n",
       "    <tr>\n",
       "      <th>2023-03-08</th>\n",
       "      <td>152.8700</td>\n",
       "      <td>253.700</td>\n",
       "      <td>128.050</td>\n",
       "    </tr>\n",
       "    <tr>\n",
       "      <th>2023-03-09</th>\n",
       "      <td>150.5900</td>\n",
       "      <td>252.320</td>\n",
       "      <td>126.160</td>\n",
       "    </tr>\n",
       "    <tr>\n",
       "      <th>2023-03-10</th>\n",
       "      <td>148.5000</td>\n",
       "      <td>248.590</td>\n",
       "      <td>125.450</td>\n",
       "    </tr>\n",
       "    <tr>\n",
       "      <th>2023-03-13</th>\n",
       "      <td>150.4700</td>\n",
       "      <td>253.920</td>\n",
       "      <td>125.580</td>\n",
       "    </tr>\n",
       "    <tr>\n",
       "      <th>2023-03-14</th>\n",
       "      <td>152.5900</td>\n",
       "      <td>260.790</td>\n",
       "      <td>124.650</td>\n",
       "    </tr>\n",
       "  </tbody>\n",
       "</table>\n",
       "<p>805 rows × 3 columns</p>\n",
       "</div>"
      ],
      "text/plain": [
       "Symbols         AAPL     MSFT      IBM\n",
       "2020-01-02   73.5616  156.133  116.720\n",
       "2020-01-03   72.8488  154.216  115.784\n",
       "2020-01-06   73.4250  154.613  115.569\n",
       "2020-01-07   73.0831  153.183  115.656\n",
       "2020-01-08   74.2575  155.656  116.623\n",
       "...              ...      ...      ...\n",
       "2023-03-08  152.8700  253.700  128.050\n",
       "2023-03-09  150.5900  252.320  126.160\n",
       "2023-03-10  148.5000  248.590  125.450\n",
       "2023-03-13  150.4700  253.920  125.580\n",
       "2023-03-14  152.5900  260.790  124.650\n",
       "\n",
       "[805 rows x 3 columns]"
      ]
     },
     "execution_count": 55,
     "metadata": {},
     "output_type": "execute_result"
    }
   ],
   "source": [
    "data"
   ]
  },
  {
   "cell_type": "code",
   "execution_count": 59,
   "id": "c1004617-d3f7-41e5-aa98-ff51a6b89f9c",
   "metadata": {
    "tags": []
   },
   "outputs": [],
   "source": [
    "portfolios = [.45,.35,.20]"
   ]
  },
  {
   "cell_type": "code",
   "execution_count": 60,
   "id": "2a6a574d-48e4-4d8c-bf52-cf48af2f8f4a",
   "metadata": {
    "tags": []
   },
   "outputs": [
    {
     "data": {
      "text/plain": [
       "1.0"
      ]
     },
     "execution_count": 60,
     "metadata": {},
     "output_type": "execute_result"
    }
   ],
   "source": [
    "np.sum(portfolios)"
   ]
  },
  {
   "cell_type": "code",
   "execution_count": 62,
   "id": "b94abebb-e2d5-41c3-b963-b5c79b259143",
   "metadata": {
    "tags": []
   },
   "outputs": [
    {
     "data": {
      "text/html": [
       "<div>\n",
       "<style scoped>\n",
       "    .dataframe tbody tr th:only-of-type {\n",
       "        vertical-align: middle;\n",
       "    }\n",
       "\n",
       "    .dataframe tbody tr th {\n",
       "        vertical-align: top;\n",
       "    }\n",
       "\n",
       "    .dataframe thead th {\n",
       "        text-align: right;\n",
       "    }\n",
       "</style>\n",
       "<table border=\"1\" class=\"dataframe\">\n",
       "  <thead>\n",
       "    <tr style=\"text-align: right;\">\n",
       "      <th>Symbols</th>\n",
       "      <th>AAPL</th>\n",
       "      <th>MSFT</th>\n",
       "      <th>IBM</th>\n",
       "    </tr>\n",
       "  </thead>\n",
       "  <tbody>\n",
       "    <tr>\n",
       "      <th>2020-01-02</th>\n",
       "      <td>450.000000</td>\n",
       "      <td>350.000000</td>\n",
       "      <td>200.000000</td>\n",
       "    </tr>\n",
       "    <tr>\n",
       "      <th>2020-01-03</th>\n",
       "      <td>445.639573</td>\n",
       "      <td>345.702702</td>\n",
       "      <td>198.396162</td>\n",
       "    </tr>\n",
       "    <tr>\n",
       "      <th>2020-01-06</th>\n",
       "      <td>449.164374</td>\n",
       "      <td>346.592649</td>\n",
       "      <td>198.027759</td>\n",
       "    </tr>\n",
       "    <tr>\n",
       "      <th>2020-01-07</th>\n",
       "      <td>447.072861</td>\n",
       "      <td>343.387048</td>\n",
       "      <td>198.176833</td>\n",
       "    </tr>\n",
       "    <tr>\n",
       "      <th>2020-01-08</th>\n",
       "      <td>454.257044</td>\n",
       "      <td>348.930719</td>\n",
       "      <td>199.833790</td>\n",
       "    </tr>\n",
       "    <tr>\n",
       "      <th>...</th>\n",
       "      <td>...</td>\n",
       "      <td>...</td>\n",
       "      <td>...</td>\n",
       "    </tr>\n",
       "    <tr>\n",
       "      <th>2023-03-08</th>\n",
       "      <td>935.155027</td>\n",
       "      <td>568.713853</td>\n",
       "      <td>219.413982</td>\n",
       "    </tr>\n",
       "    <tr>\n",
       "      <th>2023-03-09</th>\n",
       "      <td>921.207532</td>\n",
       "      <td>565.620337</td>\n",
       "      <td>216.175463</td>\n",
       "    </tr>\n",
       "    <tr>\n",
       "      <th>2023-03-10</th>\n",
       "      <td>908.422329</td>\n",
       "      <td>557.258875</td>\n",
       "      <td>214.958876</td>\n",
       "    </tr>\n",
       "    <tr>\n",
       "      <th>2023-03-13</th>\n",
       "      <td>920.473454</td>\n",
       "      <td>569.207022</td>\n",
       "      <td>215.181631</td>\n",
       "    </tr>\n",
       "    <tr>\n",
       "      <th>2023-03-14</th>\n",
       "      <td>933.442176</td>\n",
       "      <td>584.607354</td>\n",
       "      <td>213.588074</td>\n",
       "    </tr>\n",
       "  </tbody>\n",
       "</table>\n",
       "<p>805 rows × 3 columns</p>\n",
       "</div>"
      ],
      "text/plain": [
       "Symbols           AAPL        MSFT         IBM\n",
       "2020-01-02  450.000000  350.000000  200.000000\n",
       "2020-01-03  445.639573  345.702702  198.396162\n",
       "2020-01-06  449.164374  346.592649  198.027759\n",
       "2020-01-07  447.072861  343.387048  198.176833\n",
       "2020-01-08  454.257044  348.930719  199.833790\n",
       "...                ...         ...         ...\n",
       "2023-03-08  935.155027  568.713853  219.413982\n",
       "2023-03-09  921.207532  565.620337  216.175463\n",
       "2023-03-10  908.422329  557.258875  214.958876\n",
       "2023-03-13  920.473454  569.207022  215.181631\n",
       "2023-03-14  933.442176  584.607354  213.588074\n",
       "\n",
       "[805 rows x 3 columns]"
      ]
     },
     "execution_count": 62,
     "metadata": {},
     "output_type": "execute_result"
    }
   ],
   "source": [
    "data/data.iloc[0]*portfolios*1000"
   ]
  },
  {
   "cell_type": "code",
   "execution_count": 65,
   "id": "16c78fb2-cf74-40a5-aa3b-b22cc9f4f8fd",
   "metadata": {
    "tags": []
   },
   "outputs": [
    {
     "data": {
      "text/plain": [
       "array([0.29471351, 0.34967772, 0.31135371, 0.04425506])"
      ]
     },
     "execution_count": 65,
     "metadata": {},
     "output_type": "execute_result"
    }
   ],
   "source": [
    "weight = np.random.random(4)\n",
    "weight /= weight.sum()\n",
    "weight"
   ]
  },
  {
   "cell_type": "code",
   "execution_count": 66,
   "id": "f104fcd4-2e66-4991-82c3-9f40a13b1311",
   "metadata": {
    "tags": []
   },
   "outputs": [
    {
     "data": {
      "text/plain": [
       "1.0"
      ]
     },
     "execution_count": 66,
     "metadata": {},
     "output_type": "execute_result"
    }
   ],
   "source": [
    "weight.sum()"
   ]
  },
  {
   "cell_type": "code",
   "execution_count": null,
   "id": "09738547-6e04-4a4b-b1a9-a2b4c33be3f2",
   "metadata": {},
   "outputs": [],
   "source": []
  }
 ],
 "metadata": {
  "kernelspec": {
   "display_name": "Python 3 (ipykernel)",
   "language": "python",
   "name": "python3"
  },
  "language_info": {
   "codemirror_mode": {
    "name": "ipython",
    "version": 3
   },
   "file_extension": ".py",
   "mimetype": "text/x-python",
   "name": "python",
   "nbconvert_exporter": "python",
   "pygments_lexer": "ipython3",
   "version": "3.10.8"
  }
 },
 "nbformat": 4,
 "nbformat_minor": 5
}
