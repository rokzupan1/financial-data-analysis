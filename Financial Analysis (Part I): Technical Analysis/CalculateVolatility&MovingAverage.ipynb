{
 "cells": [
  {
   "cell_type": "markdown",
   "id": "ba8c50d3-d9d8-4caa-96b6-3a5665793540",
   "metadata": {
    "tags": []
   },
   "source": [
    "# Calculate simple\n",
    "\n",
    "* Pct change\n",
    "* Log return\n",
    "* Standard deviation\n",
    "* Rolling\n",
    "    * Simple Moving Average\n",
    "    * Exponential Moving Average\n",
    "    \n",
    "### Standard Deviation\n",
    "\n",
    "![alt text](StandardDeviation.png)\n"
   ]
  },
  {
   "cell_type": "code",
   "execution_count": 2,
   "id": "1617bc40-e4a8-4989-b2f3-f350a320e8ec",
   "metadata": {
    "tags": []
   },
   "outputs": [],
   "source": [
    "import pandas as pd\n",
    "import matplotlib.pyplot as plt\n",
    "%matplotlib inline"
   ]
  },
  {
   "cell_type": "code",
   "execution_count": 3,
   "id": "7f3d2d3d-fbd3-4a28-bc07-d3c9ff61ad72",
   "metadata": {
    "tags": []
   },
   "outputs": [
    {
     "data": {
      "text/html": [
       "<div>\n",
       "<style scoped>\n",
       "    .dataframe tbody tr th:only-of-type {\n",
       "        vertical-align: middle;\n",
       "    }\n",
       "\n",
       "    .dataframe tbody tr th {\n",
       "        vertical-align: top;\n",
       "    }\n",
       "\n",
       "    .dataframe thead th {\n",
       "        text-align: right;\n",
       "    }\n",
       "</style>\n",
       "<table border=\"1\" class=\"dataframe\">\n",
       "  <thead>\n",
       "    <tr style=\"text-align: right;\">\n",
       "      <th></th>\n",
       "      <th>Open</th>\n",
       "      <th>High</th>\n",
       "      <th>Low</th>\n",
       "      <th>Close</th>\n",
       "      <th>Adj Close</th>\n",
       "      <th>Volume</th>\n",
       "    </tr>\n",
       "    <tr>\n",
       "      <th>Date</th>\n",
       "      <th></th>\n",
       "      <th></th>\n",
       "      <th></th>\n",
       "      <th></th>\n",
       "      <th></th>\n",
       "      <th></th>\n",
       "    </tr>\n",
       "  </thead>\n",
       "  <tbody>\n",
       "    <tr>\n",
       "      <th>2020-01-27</th>\n",
       "      <td>77.514999</td>\n",
       "      <td>77.942497</td>\n",
       "      <td>76.220001</td>\n",
       "      <td>77.237503</td>\n",
       "      <td>76.576187</td>\n",
       "      <td>161940000</td>\n",
       "    </tr>\n",
       "    <tr>\n",
       "      <th>2020-01-28</th>\n",
       "      <td>78.150002</td>\n",
       "      <td>79.599998</td>\n",
       "      <td>78.047501</td>\n",
       "      <td>79.422501</td>\n",
       "      <td>78.742477</td>\n",
       "      <td>162234000</td>\n",
       "    </tr>\n",
       "    <tr>\n",
       "      <th>2020-01-29</th>\n",
       "      <td>81.112503</td>\n",
       "      <td>81.962502</td>\n",
       "      <td>80.345001</td>\n",
       "      <td>81.084999</td>\n",
       "      <td>80.390747</td>\n",
       "      <td>216229200</td>\n",
       "    </tr>\n",
       "    <tr>\n",
       "      <th>2020-01-30</th>\n",
       "      <td>80.135002</td>\n",
       "      <td>81.022499</td>\n",
       "      <td>79.687500</td>\n",
       "      <td>80.967499</td>\n",
       "      <td>80.274246</td>\n",
       "      <td>126743200</td>\n",
       "    </tr>\n",
       "    <tr>\n",
       "      <th>2020-01-31</th>\n",
       "      <td>80.232498</td>\n",
       "      <td>80.669998</td>\n",
       "      <td>77.072502</td>\n",
       "      <td>77.377502</td>\n",
       "      <td>76.714989</td>\n",
       "      <td>199588400</td>\n",
       "    </tr>\n",
       "  </tbody>\n",
       "</table>\n",
       "</div>"
      ],
      "text/plain": [
       "                 Open       High        Low      Close  Adj Close     Volume\n",
       "Date                                                                        \n",
       "2020-01-27  77.514999  77.942497  76.220001  77.237503  76.576187  161940000\n",
       "2020-01-28  78.150002  79.599998  78.047501  79.422501  78.742477  162234000\n",
       "2020-01-29  81.112503  81.962502  80.345001  81.084999  80.390747  216229200\n",
       "2020-01-30  80.135002  81.022499  79.687500  80.967499  80.274246  126743200\n",
       "2020-01-31  80.232498  80.669998  77.072502  77.377502  76.714989  199588400"
      ]
     },
     "execution_count": 3,
     "metadata": {},
     "output_type": "execute_result"
    }
   ],
   "source": [
    "data = pd.read_csv(\"AAPL.csv\", index_col = 0, parse_dates = True)\n",
    "data.head()"
   ]
  },
  {
   "cell_type": "code",
   "execution_count": 4,
   "id": "8f9bd777-c6e0-4304-9bc2-e4387b6d8145",
   "metadata": {
    "tags": []
   },
   "outputs": [],
   "source": [
    "data['%-chg'] = data['Close'].pct_change()"
   ]
  },
  {
   "cell_type": "code",
   "execution_count": 5,
   "id": "0fb7cf47-b24b-4136-bd48-6e974c78ed86",
   "metadata": {
    "tags": []
   },
   "outputs": [
    {
     "data": {
      "text/html": [
       "<div>\n",
       "<style scoped>\n",
       "    .dataframe tbody tr th:only-of-type {\n",
       "        vertical-align: middle;\n",
       "    }\n",
       "\n",
       "    .dataframe tbody tr th {\n",
       "        vertical-align: top;\n",
       "    }\n",
       "\n",
       "    .dataframe thead th {\n",
       "        text-align: right;\n",
       "    }\n",
       "</style>\n",
       "<table border=\"1\" class=\"dataframe\">\n",
       "  <thead>\n",
       "    <tr style=\"text-align: right;\">\n",
       "      <th></th>\n",
       "      <th>Open</th>\n",
       "      <th>High</th>\n",
       "      <th>Low</th>\n",
       "      <th>Close</th>\n",
       "      <th>Adj Close</th>\n",
       "      <th>Volume</th>\n",
       "      <th>%-chg</th>\n",
       "    </tr>\n",
       "    <tr>\n",
       "      <th>Date</th>\n",
       "      <th></th>\n",
       "      <th></th>\n",
       "      <th></th>\n",
       "      <th></th>\n",
       "      <th></th>\n",
       "      <th></th>\n",
       "      <th></th>\n",
       "    </tr>\n",
       "  </thead>\n",
       "  <tbody>\n",
       "    <tr>\n",
       "      <th>2020-01-27</th>\n",
       "      <td>77.514999</td>\n",
       "      <td>77.942497</td>\n",
       "      <td>76.220001</td>\n",
       "      <td>77.237503</td>\n",
       "      <td>76.576187</td>\n",
       "      <td>161940000</td>\n",
       "      <td>NaN</td>\n",
       "    </tr>\n",
       "    <tr>\n",
       "      <th>2020-01-28</th>\n",
       "      <td>78.150002</td>\n",
       "      <td>79.599998</td>\n",
       "      <td>78.047501</td>\n",
       "      <td>79.422501</td>\n",
       "      <td>78.742477</td>\n",
       "      <td>162234000</td>\n",
       "      <td>0.028289</td>\n",
       "    </tr>\n",
       "    <tr>\n",
       "      <th>2020-01-29</th>\n",
       "      <td>81.112503</td>\n",
       "      <td>81.962502</td>\n",
       "      <td>80.345001</td>\n",
       "      <td>81.084999</td>\n",
       "      <td>80.390747</td>\n",
       "      <td>216229200</td>\n",
       "      <td>0.020932</td>\n",
       "    </tr>\n",
       "    <tr>\n",
       "      <th>2020-01-30</th>\n",
       "      <td>80.135002</td>\n",
       "      <td>81.022499</td>\n",
       "      <td>79.687500</td>\n",
       "      <td>80.967499</td>\n",
       "      <td>80.274246</td>\n",
       "      <td>126743200</td>\n",
       "      <td>-0.001449</td>\n",
       "    </tr>\n",
       "    <tr>\n",
       "      <th>2020-01-31</th>\n",
       "      <td>80.232498</td>\n",
       "      <td>80.669998</td>\n",
       "      <td>77.072502</td>\n",
       "      <td>77.377502</td>\n",
       "      <td>76.714989</td>\n",
       "      <td>199588400</td>\n",
       "      <td>-0.044339</td>\n",
       "    </tr>\n",
       "  </tbody>\n",
       "</table>\n",
       "</div>"
      ],
      "text/plain": [
       "                 Open       High        Low      Close  Adj Close     Volume  \\\n",
       "Date                                                                           \n",
       "2020-01-27  77.514999  77.942497  76.220001  77.237503  76.576187  161940000   \n",
       "2020-01-28  78.150002  79.599998  78.047501  79.422501  78.742477  162234000   \n",
       "2020-01-29  81.112503  81.962502  80.345001  81.084999  80.390747  216229200   \n",
       "2020-01-30  80.135002  81.022499  79.687500  80.967499  80.274246  126743200   \n",
       "2020-01-31  80.232498  80.669998  77.072502  77.377502  76.714989  199588400   \n",
       "\n",
       "               %-chg  \n",
       "Date                  \n",
       "2020-01-27       NaN  \n",
       "2020-01-28  0.028289  \n",
       "2020-01-29  0.020932  \n",
       "2020-01-30 -0.001449  \n",
       "2020-01-31 -0.044339  "
      ]
     },
     "execution_count": 5,
     "metadata": {},
     "output_type": "execute_result"
    }
   ],
   "source": [
    "data.head()"
   ]
  },
  {
   "cell_type": "code",
   "execution_count": 6,
   "id": "a112dac1-de28-48da-a73b-716b26eb4de5",
   "metadata": {
    "tags": []
   },
   "outputs": [
    {
     "data": {
      "text/plain": [
       "0.028289340218572226"
      ]
     },
     "execution_count": 6,
     "metadata": {},
     "output_type": "execute_result"
    }
   ],
   "source": [
    "(79.422501 - 77.237503)/77.237503"
   ]
  },
  {
   "cell_type": "code",
   "execution_count": 7,
   "id": "8980f23d-661c-49c6-85b3-8b70394aa38b",
   "metadata": {
    "tags": []
   },
   "outputs": [],
   "source": [
    "import numpy as np"
   ]
  },
  {
   "cell_type": "code",
   "execution_count": 8,
   "id": "32a1d776-9648-46d9-8fd3-f40c32a2052f",
   "metadata": {
    "tags": []
   },
   "outputs": [],
   "source": [
    "data['Log returns'] = np.log(data['Close']/data['Close'].shift())"
   ]
  },
  {
   "cell_type": "code",
   "execution_count": 9,
   "id": "9c2ffe5f-62ed-45ef-a132-1b7bd6a5a7dd",
   "metadata": {
    "tags": []
   },
   "outputs": [
    {
     "data": {
      "text/html": [
       "<div>\n",
       "<style scoped>\n",
       "    .dataframe tbody tr th:only-of-type {\n",
       "        vertical-align: middle;\n",
       "    }\n",
       "\n",
       "    .dataframe tbody tr th {\n",
       "        vertical-align: top;\n",
       "    }\n",
       "\n",
       "    .dataframe thead th {\n",
       "        text-align: right;\n",
       "    }\n",
       "</style>\n",
       "<table border=\"1\" class=\"dataframe\">\n",
       "  <thead>\n",
       "    <tr style=\"text-align: right;\">\n",
       "      <th></th>\n",
       "      <th>Open</th>\n",
       "      <th>High</th>\n",
       "      <th>Low</th>\n",
       "      <th>Close</th>\n",
       "      <th>Adj Close</th>\n",
       "      <th>Volume</th>\n",
       "      <th>%-chg</th>\n",
       "      <th>Log returns</th>\n",
       "    </tr>\n",
       "    <tr>\n",
       "      <th>Date</th>\n",
       "      <th></th>\n",
       "      <th></th>\n",
       "      <th></th>\n",
       "      <th></th>\n",
       "      <th></th>\n",
       "      <th></th>\n",
       "      <th></th>\n",
       "      <th></th>\n",
       "    </tr>\n",
       "  </thead>\n",
       "  <tbody>\n",
       "    <tr>\n",
       "      <th>2020-01-27</th>\n",
       "      <td>77.514999</td>\n",
       "      <td>77.942497</td>\n",
       "      <td>76.220001</td>\n",
       "      <td>77.237503</td>\n",
       "      <td>76.576187</td>\n",
       "      <td>161940000</td>\n",
       "      <td>NaN</td>\n",
       "      <td>NaN</td>\n",
       "    </tr>\n",
       "    <tr>\n",
       "      <th>2020-01-28</th>\n",
       "      <td>78.150002</td>\n",
       "      <td>79.599998</td>\n",
       "      <td>78.047501</td>\n",
       "      <td>79.422501</td>\n",
       "      <td>78.742477</td>\n",
       "      <td>162234000</td>\n",
       "      <td>0.028289</td>\n",
       "      <td>0.027897</td>\n",
       "    </tr>\n",
       "    <tr>\n",
       "      <th>2020-01-29</th>\n",
       "      <td>81.112503</td>\n",
       "      <td>81.962502</td>\n",
       "      <td>80.345001</td>\n",
       "      <td>81.084999</td>\n",
       "      <td>80.390747</td>\n",
       "      <td>216229200</td>\n",
       "      <td>0.020932</td>\n",
       "      <td>0.020716</td>\n",
       "    </tr>\n",
       "    <tr>\n",
       "      <th>2020-01-30</th>\n",
       "      <td>80.135002</td>\n",
       "      <td>81.022499</td>\n",
       "      <td>79.687500</td>\n",
       "      <td>80.967499</td>\n",
       "      <td>80.274246</td>\n",
       "      <td>126743200</td>\n",
       "      <td>-0.001449</td>\n",
       "      <td>-0.001450</td>\n",
       "    </tr>\n",
       "    <tr>\n",
       "      <th>2020-01-31</th>\n",
       "      <td>80.232498</td>\n",
       "      <td>80.669998</td>\n",
       "      <td>77.072502</td>\n",
       "      <td>77.377502</td>\n",
       "      <td>76.714989</td>\n",
       "      <td>199588400</td>\n",
       "      <td>-0.044339</td>\n",
       "      <td>-0.045352</td>\n",
       "    </tr>\n",
       "  </tbody>\n",
       "</table>\n",
       "</div>"
      ],
      "text/plain": [
       "                 Open       High        Low      Close  Adj Close     Volume  \\\n",
       "Date                                                                           \n",
       "2020-01-27  77.514999  77.942497  76.220001  77.237503  76.576187  161940000   \n",
       "2020-01-28  78.150002  79.599998  78.047501  79.422501  78.742477  162234000   \n",
       "2020-01-29  81.112503  81.962502  80.345001  81.084999  80.390747  216229200   \n",
       "2020-01-30  80.135002  81.022499  79.687500  80.967499  80.274246  126743200   \n",
       "2020-01-31  80.232498  80.669998  77.072502  77.377502  76.714989  199588400   \n",
       "\n",
       "               %-chg  Log returns  \n",
       "Date                               \n",
       "2020-01-27       NaN          NaN  \n",
       "2020-01-28  0.028289     0.027897  \n",
       "2020-01-29  0.020932     0.020716  \n",
       "2020-01-30 -0.001449    -0.001450  \n",
       "2020-01-31 -0.044339    -0.045352  "
      ]
     },
     "execution_count": 9,
     "metadata": {},
     "output_type": "execute_result"
    }
   ],
   "source": [
    "data.head()"
   ]
  },
  {
   "cell_type": "code",
   "execution_count": 13,
   "id": "ac7078d2-400a-41a0-a164-5e192b4507ec",
   "metadata": {
    "tags": []
   },
   "outputs": [
    {
     "data": {
      "text/plain": [
       "Date\n",
       "2020-01-27         NaN\n",
       "2020-01-28    1.028289\n",
       "2020-01-29    1.020932\n",
       "2020-01-30    0.998551\n",
       "2020-01-31    0.955661\n",
       "                ...   \n",
       "2021-01-20    1.032856\n",
       "2021-01-21    1.036658\n",
       "2021-01-22    1.016074\n",
       "2021-01-25    1.027684\n",
       "2021-01-26    0.994123\n",
       "Name: Close, Length: 253, dtype: float64"
      ]
     },
     "execution_count": 14,
     "metadata": {},
     "output_type": "execute_result"
    }
   ],
   "source": [
    "data['Close']/data['Close'].shift()"
   ]
  },
  {
   "cell_type": "code",
   "execution_count": 15,
   "id": "88d9a5b7-cf5e-443d-8682-5ba0d286df03",
   "metadata": {
    "tags": []
   },
   "outputs": [
    {
     "data": {
      "text/plain": [
       "0.02976380454385511"
      ]
     },
     "execution_count": 15,
     "metadata": {},
     "output_type": "execute_result"
    }
   ],
   "source": [
    "data['Log returns'].std()"
   ]
  },
  {
   "cell_type": "code",
   "execution_count": 18,
   "id": "e348d7a5-a031-4a1f-9f74-b00e7a447a5f",
   "metadata": {
    "tags": []
   },
   "outputs": [],
   "source": [
    "volatility = data['Log returns'].std()* 252**.5"
   ]
  },
  {
   "cell_type": "code",
   "execution_count": 19,
   "id": "faa8cc39-e541-4b8f-afa4-d52e0f3d355d",
   "metadata": {
    "tags": []
   },
   "outputs": [
    {
     "data": {
      "text/plain": [
       "0.4724857493650493"
      ]
     },
     "execution_count": 19,
     "metadata": {},
     "output_type": "execute_result"
    }
   ],
   "source": [
    "volatility"
   ]
  },
  {
   "cell_type": "code",
   "execution_count": 20,
   "id": "c07e998a-942b-4afd-a7f6-31130d767287",
   "metadata": {
    "tags": []
   },
   "outputs": [
    {
     "data": {
      "text/plain": [
       "'47.25'"
      ]
     },
     "execution_count": 20,
     "metadata": {},
     "output_type": "execute_result"
    }
   ],
   "source": [
    "str_vol = str(round(volatility,4)*100)\n",
    "str_vol"
   ]
  },
  {
   "cell_type": "code",
   "execution_count": 22,
   "id": "3052efb5-496c-4c23-9d15-7e9dae1def1b",
   "metadata": {
    "tags": []
   },
   "outputs": [
    {
     "data": {
      "text/plain": [
       "Text(0.5, 1.0, 'AAPL volatility')"
      ]
     },
     "execution_count": 22,
     "metadata": {},
     "output_type": "execute_result"
    },
    {
     "data": {
      "image/png": "[encoded data removed]",
      "text/plain": [
       "<Figure size 640x480 with 1 Axes>"
      ]
     },
     "metadata": {},
     "output_type": "display_data"
    }
   ],
   "source": [
    "fig, ax = plt.subplots()\n",
    "data['Log returns'].hist(ax=ax, bins = 50, alpha = 0.6, color = 'b')\n",
    "ax.set_xlabel(\"Log return\")\n",
    "ax.set_ylabel(\"Freq of log return\")\n",
    "ax.set_title(\"AAPL volatility\")"
   ]
  },
  {
   "cell_type": "code",
   "execution_count": 23,
   "id": "85ee2703-f764-4e17-8c31-effece344e92",
   "metadata": {
    "tags": []
   },
   "outputs": [
    {
     "data": {
      "text/html": [
       "<div>\n",
       "<style scoped>\n",
       "    .dataframe tbody tr th:only-of-type {\n",
       "        vertical-align: middle;\n",
       "    }\n",
       "\n",
       "    .dataframe tbody tr th {\n",
       "        vertical-align: top;\n",
       "    }\n",
       "\n",
       "    .dataframe thead th {\n",
       "        text-align: right;\n",
       "    }\n",
       "</style>\n",
       "<table border=\"1\" class=\"dataframe\">\n",
       "  <thead>\n",
       "    <tr style=\"text-align: right;\">\n",
       "      <th></th>\n",
       "      <th>Open</th>\n",
       "      <th>High</th>\n",
       "      <th>Low</th>\n",
       "      <th>Close</th>\n",
       "      <th>Adj Close</th>\n",
       "      <th>Volume</th>\n",
       "      <th>%-chg</th>\n",
       "      <th>Log returns</th>\n",
       "    </tr>\n",
       "    <tr>\n",
       "      <th>Date</th>\n",
       "      <th></th>\n",
       "      <th></th>\n",
       "      <th></th>\n",
       "      <th></th>\n",
       "      <th></th>\n",
       "      <th></th>\n",
       "      <th></th>\n",
       "      <th></th>\n",
       "    </tr>\n",
       "  </thead>\n",
       "  <tbody>\n",
       "    <tr>\n",
       "      <th>2020-01-27</th>\n",
       "      <td>77.514999</td>\n",
       "      <td>77.942497</td>\n",
       "      <td>76.220001</td>\n",
       "      <td>77.237503</td>\n",
       "      <td>76.576187</td>\n",
       "      <td>161940000</td>\n",
       "      <td>NaN</td>\n",
       "      <td>NaN</td>\n",
       "    </tr>\n",
       "    <tr>\n",
       "      <th>2020-01-28</th>\n",
       "      <td>78.150002</td>\n",
       "      <td>79.599998</td>\n",
       "      <td>78.047501</td>\n",
       "      <td>79.422501</td>\n",
       "      <td>78.742477</td>\n",
       "      <td>162234000</td>\n",
       "      <td>0.028289</td>\n",
       "      <td>0.027897</td>\n",
       "    </tr>\n",
       "    <tr>\n",
       "      <th>2020-01-29</th>\n",
       "      <td>81.112503</td>\n",
       "      <td>81.962502</td>\n",
       "      <td>80.345001</td>\n",
       "      <td>81.084999</td>\n",
       "      <td>80.390747</td>\n",
       "      <td>216229200</td>\n",
       "      <td>0.020932</td>\n",
       "      <td>0.020716</td>\n",
       "    </tr>\n",
       "    <tr>\n",
       "      <th>2020-01-30</th>\n",
       "      <td>80.135002</td>\n",
       "      <td>81.022499</td>\n",
       "      <td>79.687500</td>\n",
       "      <td>80.967499</td>\n",
       "      <td>80.274246</td>\n",
       "      <td>126743200</td>\n",
       "      <td>-0.001449</td>\n",
       "      <td>-0.001450</td>\n",
       "    </tr>\n",
       "    <tr>\n",
       "      <th>2020-01-31</th>\n",
       "      <td>80.232498</td>\n",
       "      <td>80.669998</td>\n",
       "      <td>77.072502</td>\n",
       "      <td>77.377502</td>\n",
       "      <td>76.714989</td>\n",
       "      <td>199588400</td>\n",
       "      <td>-0.044339</td>\n",
       "      <td>-0.045352</td>\n",
       "    </tr>\n",
       "  </tbody>\n",
       "</table>\n",
       "</div>"
      ],
      "text/plain": [
       "                 Open       High        Low      Close  Adj Close     Volume  \\\n",
       "Date                                                                           \n",
       "2020-01-27  77.514999  77.942497  76.220001  77.237503  76.576187  161940000   \n",
       "2020-01-28  78.150002  79.599998  78.047501  79.422501  78.742477  162234000   \n",
       "2020-01-29  81.112503  81.962502  80.345001  81.084999  80.390747  216229200   \n",
       "2020-01-30  80.135002  81.022499  79.687500  80.967499  80.274246  126743200   \n",
       "2020-01-31  80.232498  80.669998  77.072502  77.377502  76.714989  199588400   \n",
       "\n",
       "               %-chg  Log returns  \n",
       "Date                               \n",
       "2020-01-27       NaN          NaN  \n",
       "2020-01-28  0.028289     0.027897  \n",
       "2020-01-29  0.020932     0.020716  \n",
       "2020-01-30 -0.001449    -0.001450  \n",
       "2020-01-31 -0.044339    -0.045352  "
      ]
     },
     "execution_count": 23,
     "metadata": {},
     "output_type": "execute_result"
    }
   ],
   "source": [
    "data.head()"
   ]
  },
  {
   "cell_type": "code",
   "execution_count": 27,
   "id": "0425234a-a6e1-4c16-b833-6ccf84b80d8b",
   "metadata": {
    "tags": []
   },
   "outputs": [],
   "source": [
    "data['MA10'] = data['Close'].rolling(10).mean()"
   ]
  },
  {
   "cell_type": "code",
   "execution_count": 32,
   "id": "636e6a8f-fa34-421e-99c8-c682dbcf6b88",
   "metadata": {
    "tags": []
   },
   "outputs": [
    {
     "data": {
      "text/html": [
       "<div>\n",
       "<style scoped>\n",
       "    .dataframe tbody tr th:only-of-type {\n",
       "        vertical-align: middle;\n",
       "    }\n",
       "\n",
       "    .dataframe tbody tr th {\n",
       "        vertical-align: top;\n",
       "    }\n",
       "\n",
       "    .dataframe thead th {\n",
       "        text-align: right;\n",
       "    }\n",
       "</style>\n",
       "<table border=\"1\" class=\"dataframe\">\n",
       "  <thead>\n",
       "    <tr style=\"text-align: right;\">\n",
       "      <th></th>\n",
       "      <th>Open</th>\n",
       "      <th>High</th>\n",
       "      <th>Low</th>\n",
       "      <th>Close</th>\n",
       "      <th>Adj Close</th>\n",
       "      <th>Volume</th>\n",
       "      <th>%-chg</th>\n",
       "      <th>Log returns</th>\n",
       "      <th>MA10</th>\n",
       "    </tr>\n",
       "    <tr>\n",
       "      <th>Date</th>\n",
       "      <th></th>\n",
       "      <th></th>\n",
       "      <th></th>\n",
       "      <th></th>\n",
       "      <th></th>\n",
       "      <th></th>\n",
       "      <th></th>\n",
       "      <th></th>\n",
       "      <th></th>\n",
       "    </tr>\n",
       "  </thead>\n",
       "  <tbody>\n",
       "    <tr>\n",
       "      <th>2021-01-20</th>\n",
       "      <td>128.660004</td>\n",
       "      <td>132.490005</td>\n",
       "      <td>128.550003</td>\n",
       "      <td>132.029999</td>\n",
       "      <td>132.029999</td>\n",
       "      <td>104319500</td>\n",
       "      <td>0.032856</td>\n",
       "      <td>0.032328</td>\n",
       "      <td>129.415000</td>\n",
       "    </tr>\n",
       "    <tr>\n",
       "      <th>2021-01-21</th>\n",
       "      <td>133.800003</td>\n",
       "      <td>139.669998</td>\n",
       "      <td>133.589996</td>\n",
       "      <td>136.869995</td>\n",
       "      <td>136.869995</td>\n",
       "      <td>120529500</td>\n",
       "      <td>0.036658</td>\n",
       "      <td>0.036002</td>\n",
       "      <td>130.442000</td>\n",
       "    </tr>\n",
       "    <tr>\n",
       "      <th>2021-01-22</th>\n",
       "      <td>136.279999</td>\n",
       "      <td>139.850006</td>\n",
       "      <td>135.020004</td>\n",
       "      <td>139.070007</td>\n",
       "      <td>139.070007</td>\n",
       "      <td>114459400</td>\n",
       "      <td>0.016074</td>\n",
       "      <td>0.015946</td>\n",
       "      <td>131.257001</td>\n",
       "    </tr>\n",
       "    <tr>\n",
       "      <th>2021-01-25</th>\n",
       "      <td>143.070007</td>\n",
       "      <td>145.089996</td>\n",
       "      <td>136.539993</td>\n",
       "      <td>142.919998</td>\n",
       "      <td>142.919998</td>\n",
       "      <td>157282400</td>\n",
       "      <td>0.027684</td>\n",
       "      <td>0.027308</td>\n",
       "      <td>132.344000</td>\n",
       "    </tr>\n",
       "    <tr>\n",
       "      <th>2021-01-26</th>\n",
       "      <td>143.600006</td>\n",
       "      <td>144.300003</td>\n",
       "      <td>141.369995</td>\n",
       "      <td>142.080002</td>\n",
       "      <td>142.080002</td>\n",
       "      <td>50388565</td>\n",
       "      <td>-0.005877</td>\n",
       "      <td>-0.005895</td>\n",
       "      <td>133.654001</td>\n",
       "    </tr>\n",
       "  </tbody>\n",
       "</table>\n",
       "</div>"
      ],
      "text/plain": [
       "                  Open        High         Low       Close   Adj Close  \\\n",
       "Date                                                                     \n",
       "2021-01-20  128.660004  132.490005  128.550003  132.029999  132.029999   \n",
       "2021-01-21  133.800003  139.669998  133.589996  136.869995  136.869995   \n",
       "2021-01-22  136.279999  139.850006  135.020004  139.070007  139.070007   \n",
       "2021-01-25  143.070007  145.089996  136.539993  142.919998  142.919998   \n",
       "2021-01-26  143.600006  144.300003  141.369995  142.080002  142.080002   \n",
       "\n",
       "               Volume     %-chg  Log returns        MA10  \n",
       "Date                                                      \n",
       "2021-01-20  104319500  0.032856     0.032328  129.415000  \n",
       "2021-01-21  120529500  0.036658     0.036002  130.442000  \n",
       "2021-01-22  114459400  0.016074     0.015946  131.257001  \n",
       "2021-01-25  157282400  0.027684     0.027308  132.344000  \n",
       "2021-01-26   50388565 -0.005877    -0.005895  133.654001  "
      ]
     },
     "execution_count": 32,
     "metadata": {},
     "output_type": "execute_result"
    }
   ],
   "source": [
    "data.tail()"
   ]
  },
  {
   "cell_type": "code",
   "execution_count": 34,
   "id": "f66910c5-ea83-4d94-898a-f56d05d0b094",
   "metadata": {
    "tags": []
   },
   "outputs": [],
   "source": [
    "data['EMA10'] = data['Close'].ewm(span=10, adjust = False).mean()"
   ]
  },
  {
   "cell_type": "code",
   "execution_count": 35,
   "id": "6f02ed77-5724-4b0b-8648-19af1365aee5",
   "metadata": {
    "tags": []
   },
   "outputs": [
    {
     "data": {
      "text/html": [
       "<div>\n",
       "<style scoped>\n",
       "    .dataframe tbody tr th:only-of-type {\n",
       "        vertical-align: middle;\n",
       "    }\n",
       "\n",
       "    .dataframe tbody tr th {\n",
       "        vertical-align: top;\n",
       "    }\n",
       "\n",
       "    .dataframe thead th {\n",
       "        text-align: right;\n",
       "    }\n",
       "</style>\n",
       "<table border=\"1\" class=\"dataframe\">\n",
       "  <thead>\n",
       "    <tr style=\"text-align: right;\">\n",
       "      <th></th>\n",
       "      <th>Open</th>\n",
       "      <th>High</th>\n",
       "      <th>Low</th>\n",
       "      <th>Close</th>\n",
       "      <th>Adj Close</th>\n",
       "      <th>Volume</th>\n",
       "      <th>%-chg</th>\n",
       "      <th>Log returns</th>\n",
       "      <th>MA10</th>\n",
       "      <th>EMA10</th>\n",
       "    </tr>\n",
       "    <tr>\n",
       "      <th>Date</th>\n",
       "      <th></th>\n",
       "      <th></th>\n",
       "      <th></th>\n",
       "      <th></th>\n",
       "      <th></th>\n",
       "      <th></th>\n",
       "      <th></th>\n",
       "      <th></th>\n",
       "      <th></th>\n",
       "      <th></th>\n",
       "    </tr>\n",
       "  </thead>\n",
       "  <tbody>\n",
       "    <tr>\n",
       "      <th>2021-01-20</th>\n",
       "      <td>128.660004</td>\n",
       "      <td>132.490005</td>\n",
       "      <td>128.550003</td>\n",
       "      <td>132.029999</td>\n",
       "      <td>132.029999</td>\n",
       "      <td>104319500</td>\n",
       "      <td>0.032856</td>\n",
       "      <td>0.032328</td>\n",
       "      <td>129.415000</td>\n",
       "      <td>129.703820</td>\n",
       "    </tr>\n",
       "    <tr>\n",
       "      <th>2021-01-21</th>\n",
       "      <td>133.800003</td>\n",
       "      <td>139.669998</td>\n",
       "      <td>133.589996</td>\n",
       "      <td>136.869995</td>\n",
       "      <td>136.869995</td>\n",
       "      <td>120529500</td>\n",
       "      <td>0.036658</td>\n",
       "      <td>0.036002</td>\n",
       "      <td>130.442000</td>\n",
       "      <td>131.006761</td>\n",
       "    </tr>\n",
       "    <tr>\n",
       "      <th>2021-01-22</th>\n",
       "      <td>136.279999</td>\n",
       "      <td>139.850006</td>\n",
       "      <td>135.020004</td>\n",
       "      <td>139.070007</td>\n",
       "      <td>139.070007</td>\n",
       "      <td>114459400</td>\n",
       "      <td>0.016074</td>\n",
       "      <td>0.015946</td>\n",
       "      <td>131.257001</td>\n",
       "      <td>132.472806</td>\n",
       "    </tr>\n",
       "    <tr>\n",
       "      <th>2021-01-25</th>\n",
       "      <td>143.070007</td>\n",
       "      <td>145.089996</td>\n",
       "      <td>136.539993</td>\n",
       "      <td>142.919998</td>\n",
       "      <td>142.919998</td>\n",
       "      <td>157282400</td>\n",
       "      <td>0.027684</td>\n",
       "      <td>0.027308</td>\n",
       "      <td>132.344000</td>\n",
       "      <td>134.372295</td>\n",
       "    </tr>\n",
       "    <tr>\n",
       "      <th>2021-01-26</th>\n",
       "      <td>143.600006</td>\n",
       "      <td>144.300003</td>\n",
       "      <td>141.369995</td>\n",
       "      <td>142.080002</td>\n",
       "      <td>142.080002</td>\n",
       "      <td>50388565</td>\n",
       "      <td>-0.005877</td>\n",
       "      <td>-0.005895</td>\n",
       "      <td>133.654001</td>\n",
       "      <td>135.773696</td>\n",
       "    </tr>\n",
       "  </tbody>\n",
       "</table>\n",
       "</div>"
      ],
      "text/plain": [
       "                  Open        High         Low       Close   Adj Close  \\\n",
       "Date                                                                     \n",
       "2021-01-20  128.660004  132.490005  128.550003  132.029999  132.029999   \n",
       "2021-01-21  133.800003  139.669998  133.589996  136.869995  136.869995   \n",
       "2021-01-22  136.279999  139.850006  135.020004  139.070007  139.070007   \n",
       "2021-01-25  143.070007  145.089996  136.539993  142.919998  142.919998   \n",
       "2021-01-26  143.600006  144.300003  141.369995  142.080002  142.080002   \n",
       "\n",
       "               Volume     %-chg  Log returns        MA10       EMA10  \n",
       "Date                                                                  \n",
       "2021-01-20  104319500  0.032856     0.032328  129.415000  129.703820  \n",
       "2021-01-21  120529500  0.036658     0.036002  130.442000  131.006761  \n",
       "2021-01-22  114459400  0.016074     0.015946  131.257001  132.472806  \n",
       "2021-01-25  157282400  0.027684     0.027308  132.344000  134.372295  \n",
       "2021-01-26   50388565 -0.005877    -0.005895  133.654001  135.773696  "
      ]
     },
     "execution_count": 35,
     "metadata": {},
     "output_type": "execute_result"
    }
   ],
   "source": [
    "data.tail()"
   ]
  },
  {
   "cell_type": "code",
   "execution_count": 39,
   "id": "c134094e-7069-4c00-a6df-dfd4529e6996",
   "metadata": {
    "tags": []
   },
   "outputs": [
    {
     "data": {
      "text/plain": [
       "<AxesSubplot: xlabel='Date'>"
      ]
     },
     "execution_count": 39,
     "metadata": {},
     "output_type": "execute_result"
    },
    {
     "data": {
      "image/png": "[encoded data removed]",
      "text/plain": [
       "<Figure size 640x480 with 1 Axes>"
      ]
     },
     "metadata": {},
     "output_type": "display_data"
    }
   ],
   "source": [
    "fig, ax = plt.subplots()\n",
    "data[['MA10', 'EMA10']].loc['2020-12-01':].plot(ax=ax)\n",
    "data['Close'].loc['2020-12-01':].plot(ax=ax, alpha=0.2)"
   ]
  },
  {
   "cell_type": "code",
   "execution_count": null,
   "id": "c27e6203-559c-4969-b5c3-20bf957d106b",
   "metadata": {},
   "outputs": [],
   "source": []
  }
 ],
 "metadata": {
  "kernelspec": {
   "display_name": "Python 3 (ipykernel)",
   "language": "python",
   "name": "python3"
  },
  "language_info": {
   "codemirror_mode": {
    "name": "ipython",
    "version": 3
   },
   "file_extension": ".py",
   "mimetype": "text/x-python",
   "name": "python",
   "nbconvert_exporter": "python",
   "pygments_lexer": "ipython3",
   "version": "3.10.8"
  }
 },
 "nbformat": 4,
 "nbformat_minor": 5
}
