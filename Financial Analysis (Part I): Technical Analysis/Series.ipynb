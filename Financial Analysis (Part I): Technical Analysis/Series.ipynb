{
 "cells": [
  {
   "cell_type": "markdown",
   "id": "794694cf-2ddb-4e48-b0ad-b6c2aae6bf60",
   "metadata": {},
   "source": [
    "# Series\n",
    "\n",
    "* Use **type** to get data type\n",
    "* Each column is a Series\n",
    "* Series show data type (dtype)\n",
    "* Calculate with Series\n",
    "    * Daily change\n",
    "    * Daily percentage change\n",
    "    * Normalize data\n",
    "* Similar to Excel\n",
    "* Indexing with Series"
   ]
  },
  {
   "cell_type": "code",
   "execution_count": 1,
   "id": "b33049b5-1151-4136-a4ca-9c432e0e48f8",
   "metadata": {
    "tags": []
   },
   "outputs": [],
   "source": [
    "import pandas as pd"
   ]
  },
  {
   "cell_type": "code",
   "execution_count": 2,
   "id": "b17f2dc8-3f81-49df-bbfd-6149870b1628",
   "metadata": {
    "tags": []
   },
   "outputs": [],
   "source": [
    "data = pd.read_csv(\"AAPL.csv\", index_col = 0, parse_dates = True)"
   ]
  },
  {
   "cell_type": "code",
   "execution_count": 3,
   "id": "4b4608ab-a8e5-4bb7-800f-38ee0d47e8c2",
   "metadata": {
    "tags": []
   },
   "outputs": [
    {
     "data": {
      "text/html": [
       "<div>\n",
       "<style scoped>\n",
       "    .dataframe tbody tr th:only-of-type {\n",
       "        vertical-align: middle;\n",
       "    }\n",
       "\n",
       "    .dataframe tbody tr th {\n",
       "        vertical-align: top;\n",
       "    }\n",
       "\n",
       "    .dataframe thead th {\n",
       "        text-align: right;\n",
       "    }\n",
       "</style>\n",
       "<table border=\"1\" class=\"dataframe\">\n",
       "  <thead>\n",
       "    <tr style=\"text-align: right;\">\n",
       "      <th></th>\n",
       "      <th>Open</th>\n",
       "      <th>High</th>\n",
       "      <th>Low</th>\n",
       "      <th>Close</th>\n",
       "      <th>Adj Close</th>\n",
       "      <th>Volume</th>\n",
       "    </tr>\n",
       "    <tr>\n",
       "      <th>Date</th>\n",
       "      <th></th>\n",
       "      <th></th>\n",
       "      <th></th>\n",
       "      <th></th>\n",
       "      <th></th>\n",
       "      <th></th>\n",
       "    </tr>\n",
       "  </thead>\n",
       "  <tbody>\n",
       "    <tr>\n",
       "      <th>2020-01-27</th>\n",
       "      <td>77.514999</td>\n",
       "      <td>77.942497</td>\n",
       "      <td>76.220001</td>\n",
       "      <td>77.237503</td>\n",
       "      <td>76.576187</td>\n",
       "      <td>161940000</td>\n",
       "    </tr>\n",
       "    <tr>\n",
       "      <th>2020-01-28</th>\n",
       "      <td>78.150002</td>\n",
       "      <td>79.599998</td>\n",
       "      <td>78.047501</td>\n",
       "      <td>79.422501</td>\n",
       "      <td>78.742477</td>\n",
       "      <td>162234000</td>\n",
       "    </tr>\n",
       "    <tr>\n",
       "      <th>2020-01-29</th>\n",
       "      <td>81.112503</td>\n",
       "      <td>81.962502</td>\n",
       "      <td>80.345001</td>\n",
       "      <td>81.084999</td>\n",
       "      <td>80.390747</td>\n",
       "      <td>216229200</td>\n",
       "    </tr>\n",
       "    <tr>\n",
       "      <th>2020-01-30</th>\n",
       "      <td>80.135002</td>\n",
       "      <td>81.022499</td>\n",
       "      <td>79.687500</td>\n",
       "      <td>80.967499</td>\n",
       "      <td>80.274246</td>\n",
       "      <td>126743200</td>\n",
       "    </tr>\n",
       "    <tr>\n",
       "      <th>2020-01-31</th>\n",
       "      <td>80.232498</td>\n",
       "      <td>80.669998</td>\n",
       "      <td>77.072502</td>\n",
       "      <td>77.377502</td>\n",
       "      <td>76.714989</td>\n",
       "      <td>199588400</td>\n",
       "    </tr>\n",
       "  </tbody>\n",
       "</table>\n",
       "</div>"
      ],
      "text/plain": [
       "                 Open       High        Low      Close  Adj Close     Volume\n",
       "Date                                                                        \n",
       "2020-01-27  77.514999  77.942497  76.220001  77.237503  76.576187  161940000\n",
       "2020-01-28  78.150002  79.599998  78.047501  79.422501  78.742477  162234000\n",
       "2020-01-29  81.112503  81.962502  80.345001  81.084999  80.390747  216229200\n",
       "2020-01-30  80.135002  81.022499  79.687500  80.967499  80.274246  126743200\n",
       "2020-01-31  80.232498  80.669998  77.072502  77.377502  76.714989  199588400"
      ]
     },
     "execution_count": 3,
     "metadata": {},
     "output_type": "execute_result"
    }
   ],
   "source": [
    "data.head()"
   ]
  },
  {
   "cell_type": "code",
   "execution_count": 7,
   "id": "ff99bd82-87bc-4483-a128-7246cc33d6b5",
   "metadata": {
    "tags": []
   },
   "outputs": [
    {
     "data": {
      "text/plain": [
       "Open         float64\n",
       "High         float64\n",
       "Low          float64\n",
       "Close        float64\n",
       "Adj Close    float64\n",
       "Volume         int64\n",
       "dtype: object"
      ]
     },
     "execution_count": 7,
     "metadata": {},
     "output_type": "execute_result"
    }
   ],
   "source": [
    "data.dtypes"
   ]
  },
  {
   "cell_type": "code",
   "execution_count": 4,
   "id": "3179521f-8e19-4900-939b-a1317fe5766e",
   "metadata": {
    "tags": []
   },
   "outputs": [
    {
     "data": {
      "text/plain": [
       "pandas.core.frame.DataFrame"
      ]
     },
     "execution_count": 4,
     "metadata": {},
     "output_type": "execute_result"
    }
   ],
   "source": [
    "type(data)"
   ]
  },
  {
   "cell_type": "code",
   "execution_count": 5,
   "id": "d89e23ab-8a80-4960-b729-28f04744fa26",
   "metadata": {
    "tags": []
   },
   "outputs": [
    {
     "data": {
      "text/plain": [
       "Date\n",
       "2020-01-27     77.237503\n",
       "2020-01-28     79.422501\n",
       "2020-01-29     81.084999\n",
       "2020-01-30     80.967499\n",
       "2020-01-31     77.377502\n",
       "                 ...    \n",
       "2021-01-20    132.029999\n",
       "2021-01-21    136.869995\n",
       "2021-01-22    139.070007\n",
       "2021-01-25    142.919998\n",
       "2021-01-26    142.080002\n",
       "Name: Close, Length: 253, dtype: float64"
      ]
     },
     "execution_count": 5,
     "metadata": {},
     "output_type": "execute_result"
    }
   ],
   "source": [
    "data['Close']"
   ]
  },
  {
   "cell_type": "code",
   "execution_count": 6,
   "id": "1a1a22db-3ca6-4f99-8431-682231b6f2da",
   "metadata": {
    "tags": []
   },
   "outputs": [
    {
     "data": {
      "text/plain": [
       "pandas.core.series.Series"
      ]
     },
     "execution_count": 6,
     "metadata": {},
     "output_type": "execute_result"
    }
   ],
   "source": [
    "type(data['Close'])"
   ]
  },
  {
   "cell_type": "code",
   "execution_count": 10,
   "id": "1185b755-03c1-4067-893b-fb754c42fe16",
   "metadata": {
    "tags": []
   },
   "outputs": [],
   "source": [
    "daily_change = data['Open'] - data['Close']"
   ]
  },
  {
   "cell_type": "code",
   "execution_count": 9,
   "id": "4edde258-674d-4ebf-8a69-b1b802afc426",
   "metadata": {
    "tags": []
   },
   "outputs": [
    {
     "data": {
      "text/html": [
       "<div>\n",
       "<style scoped>\n",
       "    .dataframe tbody tr th:only-of-type {\n",
       "        vertical-align: middle;\n",
       "    }\n",
       "\n",
       "    .dataframe tbody tr th {\n",
       "        vertical-align: top;\n",
       "    }\n",
       "\n",
       "    .dataframe thead th {\n",
       "        text-align: right;\n",
       "    }\n",
       "</style>\n",
       "<table border=\"1\" class=\"dataframe\">\n",
       "  <thead>\n",
       "    <tr style=\"text-align: right;\">\n",
       "      <th></th>\n",
       "      <th>Open</th>\n",
       "      <th>High</th>\n",
       "      <th>Low</th>\n",
       "      <th>Close</th>\n",
       "      <th>Adj Close</th>\n",
       "      <th>Volume</th>\n",
       "    </tr>\n",
       "    <tr>\n",
       "      <th>Date</th>\n",
       "      <th></th>\n",
       "      <th></th>\n",
       "      <th></th>\n",
       "      <th></th>\n",
       "      <th></th>\n",
       "      <th></th>\n",
       "    </tr>\n",
       "  </thead>\n",
       "  <tbody>\n",
       "    <tr>\n",
       "      <th>2020-01-27</th>\n",
       "      <td>77.514999</td>\n",
       "      <td>77.942497</td>\n",
       "      <td>76.220001</td>\n",
       "      <td>77.237503</td>\n",
       "      <td>76.576187</td>\n",
       "      <td>161940000</td>\n",
       "    </tr>\n",
       "    <tr>\n",
       "      <th>2020-01-28</th>\n",
       "      <td>78.150002</td>\n",
       "      <td>79.599998</td>\n",
       "      <td>78.047501</td>\n",
       "      <td>79.422501</td>\n",
       "      <td>78.742477</td>\n",
       "      <td>162234000</td>\n",
       "    </tr>\n",
       "    <tr>\n",
       "      <th>2020-01-29</th>\n",
       "      <td>81.112503</td>\n",
       "      <td>81.962502</td>\n",
       "      <td>80.345001</td>\n",
       "      <td>81.084999</td>\n",
       "      <td>80.390747</td>\n",
       "      <td>216229200</td>\n",
       "    </tr>\n",
       "    <tr>\n",
       "      <th>2020-01-30</th>\n",
       "      <td>80.135002</td>\n",
       "      <td>81.022499</td>\n",
       "      <td>79.687500</td>\n",
       "      <td>80.967499</td>\n",
       "      <td>80.274246</td>\n",
       "      <td>126743200</td>\n",
       "    </tr>\n",
       "    <tr>\n",
       "      <th>2020-01-31</th>\n",
       "      <td>80.232498</td>\n",
       "      <td>80.669998</td>\n",
       "      <td>77.072502</td>\n",
       "      <td>77.377502</td>\n",
       "      <td>76.714989</td>\n",
       "      <td>199588400</td>\n",
       "    </tr>\n",
       "  </tbody>\n",
       "</table>\n",
       "</div>"
      ],
      "text/plain": [
       "                 Open       High        Low      Close  Adj Close     Volume\n",
       "Date                                                                        \n",
       "2020-01-27  77.514999  77.942497  76.220001  77.237503  76.576187  161940000\n",
       "2020-01-28  78.150002  79.599998  78.047501  79.422501  78.742477  162234000\n",
       "2020-01-29  81.112503  81.962502  80.345001  81.084999  80.390747  216229200\n",
       "2020-01-30  80.135002  81.022499  79.687500  80.967499  80.274246  126743200\n",
       "2020-01-31  80.232498  80.669998  77.072502  77.377502  76.714989  199588400"
      ]
     },
     "execution_count": 9,
     "metadata": {},
     "output_type": "execute_result"
    }
   ],
   "source": [
    "data.head()"
   ]
  },
  {
   "cell_type": "code",
   "execution_count": 11,
   "id": "c2d0b416-673e-42b8-b7a9-f9722f587818",
   "metadata": {
    "tags": []
   },
   "outputs": [
    {
     "data": {
      "text/plain": [
       "pandas.core.series.Series"
      ]
     },
     "execution_count": 11,
     "metadata": {},
     "output_type": "execute_result"
    }
   ],
   "source": [
    "type(daily_change)"
   ]
  },
  {
   "cell_type": "code",
   "execution_count": 12,
   "id": "f6016ea4-4e0b-4912-8a86-6ed561e4f6e4",
   "metadata": {
    "tags": []
   },
   "outputs": [],
   "source": [
    "daily_pct_chg = (data['Close'] - data['Open'])/data['Open']*100"
   ]
  },
  {
   "cell_type": "code",
   "execution_count": 13,
   "id": "9c932e48-11d4-496c-a5bb-534070d4fd59",
   "metadata": {
    "tags": []
   },
   "outputs": [
    {
     "data": {
      "text/plain": [
       "Date\n",
       "2020-01-27   -0.357990\n",
       "2020-01-28    1.628278\n",
       "2020-01-29   -0.033908\n",
       "2020-01-30    1.038868\n",
       "2020-01-31   -3.558403\n",
       "                ...   \n",
       "2021-01-20    2.619303\n",
       "2021-01-21    2.294463\n",
       "2021-01-22    2.047262\n",
       "2021-01-25   -0.104850\n",
       "2021-01-26   -1.058499\n",
       "Length: 253, dtype: float64"
      ]
     },
     "execution_count": 13,
     "metadata": {},
     "output_type": "execute_result"
    }
   ],
   "source": [
    "daily_pct_chg"
   ]
  },
  {
   "cell_type": "code",
   "execution_count": 14,
   "id": "5e6bbd9f-f73a-4f9a-92e1-b8b3b412dde4",
   "metadata": {
    "tags": []
   },
   "outputs": [
    {
     "data": {
      "text/plain": [
       "77.237503"
      ]
     },
     "execution_count": 14,
     "metadata": {},
     "output_type": "execute_result"
    }
   ],
   "source": [
    "data['Close'].iloc[0]"
   ]
  },
  {
   "cell_type": "code",
   "execution_count": 15,
   "id": "d61f6362-c277-43e6-b9b9-ebfee3b46a39",
   "metadata": {
    "tags": []
   },
   "outputs": [
    {
     "data": {
      "text/plain": [
       "142.080002"
      ]
     },
     "execution_count": 15,
     "metadata": {},
     "output_type": "execute_result"
    }
   ],
   "source": [
    "data['Close'].iloc[-1]"
   ]
  },
  {
   "cell_type": "code",
   "execution_count": 16,
   "id": "802aab0a-7e5b-453f-a760-da9b5888c04d",
   "metadata": {
    "tags": []
   },
   "outputs": [],
   "source": [
    "norm = data['Close']/data['Close'].iloc[0]"
   ]
  },
  {
   "cell_type": "code",
   "execution_count": 17,
   "id": "503d4c3a-e3ba-452c-8a16-8592485c232e",
   "metadata": {
    "tags": []
   },
   "outputs": [
    {
     "data": {
      "text/plain": [
       "Date\n",
       "2020-01-27    1.000000\n",
       "2020-01-28    1.028289\n",
       "2020-01-29    1.049814\n",
       "2020-01-30    1.048293\n",
       "2020-01-31    1.001813\n",
       "                ...   \n",
       "2021-01-20    1.709403\n",
       "2021-01-21    1.772067\n",
       "2021-01-22    1.800550\n",
       "2021-01-25    1.850396\n",
       "2021-01-26    1.839521\n",
       "Name: Close, Length: 253, dtype: float64"
      ]
     },
     "execution_count": 17,
     "metadata": {},
     "output_type": "execute_result"
    }
   ],
   "source": [
    "norm"
   ]
  },
  {
   "cell_type": "code",
   "execution_count": 18,
   "id": "4e6655b4-e8e6-4f0d-9a5b-c9a207a0ed64",
   "metadata": {
    "tags": []
   },
   "outputs": [
    {
     "data": {
      "text/plain": [
       "142.080002"
      ]
     },
     "execution_count": 18,
     "metadata": {},
     "output_type": "execute_result"
    }
   ],
   "source": [
    "data['Close'].iloc[0]*norm.iloc[-1]"
   ]
  },
  {
   "cell_type": "code",
   "execution_count": 19,
   "id": "779b0d22-7e4f-49b0-b0a5-9a771301114d",
   "metadata": {
    "tags": []
   },
   "outputs": [
    {
     "data": {
      "text/plain": [
       "142.080002"
      ]
     },
     "execution_count": 19,
     "metadata": {},
     "output_type": "execute_result"
    }
   ],
   "source": [
    "data['Close'].iloc[-1]"
   ]
  }
 ],
 "metadata": {
  "kernelspec": {
   "display_name": "Python 3 (ipykernel)",
   "language": "python",
   "name": "python3"
  },
  "language_info": {
   "codemirror_mode": {
    "name": "ipython",
    "version": 3
   },
   "file_extension": ".py",
   "mimetype": "text/x-python",
   "name": "python",
   "nbconvert_exporter": "python",
   "pygments_lexer": "ipython3",
   "version": "3.10.8"
  }
 },
 "nbformat": 4,
 "nbformat_minor": 5
}
